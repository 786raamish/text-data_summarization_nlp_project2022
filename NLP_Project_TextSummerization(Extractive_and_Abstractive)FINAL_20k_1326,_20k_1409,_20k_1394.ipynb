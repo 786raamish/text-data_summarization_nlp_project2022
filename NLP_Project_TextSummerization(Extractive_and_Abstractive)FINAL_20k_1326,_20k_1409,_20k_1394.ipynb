{
  "nbformat": 4,
  "nbformat_minor": 0,
  "metadata": {
    "colab": {
      "provenance": []
    },
    "kernelspec": {
      "name": "python3",
      "display_name": "Python 3"
    },
    "language_info": {
      "name": "python"
    },
    "widgets": {
      "application/vnd.jupyter.widget-state+json": {
        "ec03758ce7f346ce85e6936ea2eba21b": {
          "model_module": "@jupyter-widgets/controls",
          "model_name": "HBoxModel",
          "model_module_version": "1.5.0",
          "state": {
            "_dom_classes": [],
            "_model_module": "@jupyter-widgets/controls",
            "_model_module_version": "1.5.0",
            "_model_name": "HBoxModel",
            "_view_count": null,
            "_view_module": "@jupyter-widgets/controls",
            "_view_module_version": "1.5.0",
            "_view_name": "HBoxView",
            "box_style": "",
            "children": [
              "IPY_MODEL_6d0d58d5f8c9487bbd5d3649738b9dd3",
              "IPY_MODEL_22d9080d18d346b5aa136b21ace0ff7d",
              "IPY_MODEL_89273bdaee3d4dd897bcb4f8e27bc440"
            ],
            "layout": "IPY_MODEL_339d36ba1b804e1bb652b0330af362f9"
          }
        },
        "6d0d58d5f8c9487bbd5d3649738b9dd3": {
          "model_module": "@jupyter-widgets/controls",
          "model_name": "HTMLModel",
          "model_module_version": "1.5.0",
          "state": {
            "_dom_classes": [],
            "_model_module": "@jupyter-widgets/controls",
            "_model_module_version": "1.5.0",
            "_model_name": "HTMLModel",
            "_view_count": null,
            "_view_module": "@jupyter-widgets/controls",
            "_view_module_version": "1.5.0",
            "_view_name": "HTMLView",
            "description": "",
            "description_tooltip": null,
            "layout": "IPY_MODEL_056a6a08f04f4be3a47c675d43c6a4d5",
            "placeholder": "​",
            "style": "IPY_MODEL_5a3e2b1c6c144672983013a53ab59230",
            "value": "Downloading: 100%"
          }
        },
        "22d9080d18d346b5aa136b21ace0ff7d": {
          "model_module": "@jupyter-widgets/controls",
          "model_name": "FloatProgressModel",
          "model_module_version": "1.5.0",
          "state": {
            "_dom_classes": [],
            "_model_module": "@jupyter-widgets/controls",
            "_model_module_version": "1.5.0",
            "_model_name": "FloatProgressModel",
            "_view_count": null,
            "_view_module": "@jupyter-widgets/controls",
            "_view_module_version": "1.5.0",
            "_view_name": "ProgressView",
            "bar_style": "success",
            "description": "",
            "description_tooltip": null,
            "layout": "IPY_MODEL_6d9fa62aa3684a9a901aa99fa70b58a6",
            "max": 1125,
            "min": 0,
            "orientation": "horizontal",
            "style": "IPY_MODEL_fff6263f903449fdac252346b5c8509b",
            "value": 1125
          }
        },
        "89273bdaee3d4dd897bcb4f8e27bc440": {
          "model_module": "@jupyter-widgets/controls",
          "model_name": "HTMLModel",
          "model_module_version": "1.5.0",
          "state": {
            "_dom_classes": [],
            "_model_module": "@jupyter-widgets/controls",
            "_model_module_version": "1.5.0",
            "_model_name": "HTMLModel",
            "_view_count": null,
            "_view_module": "@jupyter-widgets/controls",
            "_view_module_version": "1.5.0",
            "_view_name": "HTMLView",
            "description": "",
            "description_tooltip": null,
            "layout": "IPY_MODEL_5485fe2e1fbe45c0a8a12decf66e5401",
            "placeholder": "​",
            "style": "IPY_MODEL_b5cf2c9535cd4b8fb3fe87fd8f72bc6f",
            "value": " 1.12k/1.12k [00:00&lt;00:00, 31.3kB/s]"
          }
        },
        "339d36ba1b804e1bb652b0330af362f9": {
          "model_module": "@jupyter-widgets/base",
          "model_name": "LayoutModel",
          "model_module_version": "1.2.0",
          "state": {
            "_model_module": "@jupyter-widgets/base",
            "_model_module_version": "1.2.0",
            "_model_name": "LayoutModel",
            "_view_count": null,
            "_view_module": "@jupyter-widgets/base",
            "_view_module_version": "1.2.0",
            "_view_name": "LayoutView",
            "align_content": null,
            "align_items": null,
            "align_self": null,
            "border": null,
            "bottom": null,
            "display": null,
            "flex": null,
            "flex_flow": null,
            "grid_area": null,
            "grid_auto_columns": null,
            "grid_auto_flow": null,
            "grid_auto_rows": null,
            "grid_column": null,
            "grid_gap": null,
            "grid_row": null,
            "grid_template_areas": null,
            "grid_template_columns": null,
            "grid_template_rows": null,
            "height": null,
            "justify_content": null,
            "justify_items": null,
            "left": null,
            "margin": null,
            "max_height": null,
            "max_width": null,
            "min_height": null,
            "min_width": null,
            "object_fit": null,
            "object_position": null,
            "order": null,
            "overflow": null,
            "overflow_x": null,
            "overflow_y": null,
            "padding": null,
            "right": null,
            "top": null,
            "visibility": null,
            "width": null
          }
        },
        "056a6a08f04f4be3a47c675d43c6a4d5": {
          "model_module": "@jupyter-widgets/base",
          "model_name": "LayoutModel",
          "model_module_version": "1.2.0",
          "state": {
            "_model_module": "@jupyter-widgets/base",
            "_model_module_version": "1.2.0",
            "_model_name": "LayoutModel",
            "_view_count": null,
            "_view_module": "@jupyter-widgets/base",
            "_view_module_version": "1.2.0",
            "_view_name": "LayoutView",
            "align_content": null,
            "align_items": null,
            "align_self": null,
            "border": null,
            "bottom": null,
            "display": null,
            "flex": null,
            "flex_flow": null,
            "grid_area": null,
            "grid_auto_columns": null,
            "grid_auto_flow": null,
            "grid_auto_rows": null,
            "grid_column": null,
            "grid_gap": null,
            "grid_row": null,
            "grid_template_areas": null,
            "grid_template_columns": null,
            "grid_template_rows": null,
            "height": null,
            "justify_content": null,
            "justify_items": null,
            "left": null,
            "margin": null,
            "max_height": null,
            "max_width": null,
            "min_height": null,
            "min_width": null,
            "object_fit": null,
            "object_position": null,
            "order": null,
            "overflow": null,
            "overflow_x": null,
            "overflow_y": null,
            "padding": null,
            "right": null,
            "top": null,
            "visibility": null,
            "width": null
          }
        },
        "5a3e2b1c6c144672983013a53ab59230": {
          "model_module": "@jupyter-widgets/controls",
          "model_name": "DescriptionStyleModel",
          "model_module_version": "1.5.0",
          "state": {
            "_model_module": "@jupyter-widgets/controls",
            "_model_module_version": "1.5.0",
            "_model_name": "DescriptionStyleModel",
            "_view_count": null,
            "_view_module": "@jupyter-widgets/base",
            "_view_module_version": "1.2.0",
            "_view_name": "StyleView",
            "description_width": ""
          }
        },
        "6d9fa62aa3684a9a901aa99fa70b58a6": {
          "model_module": "@jupyter-widgets/base",
          "model_name": "LayoutModel",
          "model_module_version": "1.2.0",
          "state": {
            "_model_module": "@jupyter-widgets/base",
            "_model_module_version": "1.2.0",
            "_model_name": "LayoutModel",
            "_view_count": null,
            "_view_module": "@jupyter-widgets/base",
            "_view_module_version": "1.2.0",
            "_view_name": "LayoutView",
            "align_content": null,
            "align_items": null,
            "align_self": null,
            "border": null,
            "bottom": null,
            "display": null,
            "flex": null,
            "flex_flow": null,
            "grid_area": null,
            "grid_auto_columns": null,
            "grid_auto_flow": null,
            "grid_auto_rows": null,
            "grid_column": null,
            "grid_gap": null,
            "grid_row": null,
            "grid_template_areas": null,
            "grid_template_columns": null,
            "grid_template_rows": null,
            "height": null,
            "justify_content": null,
            "justify_items": null,
            "left": null,
            "margin": null,
            "max_height": null,
            "max_width": null,
            "min_height": null,
            "min_width": null,
            "object_fit": null,
            "object_position": null,
            "order": null,
            "overflow": null,
            "overflow_x": null,
            "overflow_y": null,
            "padding": null,
            "right": null,
            "top": null,
            "visibility": null,
            "width": null
          }
        },
        "fff6263f903449fdac252346b5c8509b": {
          "model_module": "@jupyter-widgets/controls",
          "model_name": "ProgressStyleModel",
          "model_module_version": "1.5.0",
          "state": {
            "_model_module": "@jupyter-widgets/controls",
            "_model_module_version": "1.5.0",
            "_model_name": "ProgressStyleModel",
            "_view_count": null,
            "_view_module": "@jupyter-widgets/base",
            "_view_module_version": "1.2.0",
            "_view_name": "StyleView",
            "bar_color": null,
            "description_width": ""
          }
        },
        "5485fe2e1fbe45c0a8a12decf66e5401": {
          "model_module": "@jupyter-widgets/base",
          "model_name": "LayoutModel",
          "model_module_version": "1.2.0",
          "state": {
            "_model_module": "@jupyter-widgets/base",
            "_model_module_version": "1.2.0",
            "_model_name": "LayoutModel",
            "_view_count": null,
            "_view_module": "@jupyter-widgets/base",
            "_view_module_version": "1.2.0",
            "_view_name": "LayoutView",
            "align_content": null,
            "align_items": null,
            "align_self": null,
            "border": null,
            "bottom": null,
            "display": null,
            "flex": null,
            "flex_flow": null,
            "grid_area": null,
            "grid_auto_columns": null,
            "grid_auto_flow": null,
            "grid_auto_rows": null,
            "grid_column": null,
            "grid_gap": null,
            "grid_row": null,
            "grid_template_areas": null,
            "grid_template_columns": null,
            "grid_template_rows": null,
            "height": null,
            "justify_content": null,
            "justify_items": null,
            "left": null,
            "margin": null,
            "max_height": null,
            "max_width": null,
            "min_height": null,
            "min_width": null,
            "object_fit": null,
            "object_position": null,
            "order": null,
            "overflow": null,
            "overflow_x": null,
            "overflow_y": null,
            "padding": null,
            "right": null,
            "top": null,
            "visibility": null,
            "width": null
          }
        },
        "b5cf2c9535cd4b8fb3fe87fd8f72bc6f": {
          "model_module": "@jupyter-widgets/controls",
          "model_name": "DescriptionStyleModel",
          "model_module_version": "1.5.0",
          "state": {
            "_model_module": "@jupyter-widgets/controls",
            "_model_module_version": "1.5.0",
            "_model_name": "DescriptionStyleModel",
            "_view_count": null,
            "_view_module": "@jupyter-widgets/base",
            "_view_module_version": "1.2.0",
            "_view_name": "StyleView",
            "description_width": ""
          }
        },
        "188b43e9d3aa45aa85f24925d677ac05": {
          "model_module": "@jupyter-widgets/controls",
          "model_name": "HBoxModel",
          "model_module_version": "1.5.0",
          "state": {
            "_dom_classes": [],
            "_model_module": "@jupyter-widgets/controls",
            "_model_module_version": "1.5.0",
            "_model_name": "HBoxModel",
            "_view_count": null,
            "_view_module": "@jupyter-widgets/controls",
            "_view_module_version": "1.5.0",
            "_view_name": "HBoxView",
            "box_style": "",
            "children": [
              "IPY_MODEL_2ca5085519a34e80bfb77e3d08a0d72a",
              "IPY_MODEL_901016891b15492fb27dde7f441a698b",
              "IPY_MODEL_5f5910f8750642999291b5b1db8f19bd"
            ],
            "layout": "IPY_MODEL_13c4ecab01754bd18708dc610c1ca301"
          }
        },
        "2ca5085519a34e80bfb77e3d08a0d72a": {
          "model_module": "@jupyter-widgets/controls",
          "model_name": "HTMLModel",
          "model_module_version": "1.5.0",
          "state": {
            "_dom_classes": [],
            "_model_module": "@jupyter-widgets/controls",
            "_model_module_version": "1.5.0",
            "_model_name": "HTMLModel",
            "_view_count": null,
            "_view_module": "@jupyter-widgets/controls",
            "_view_module_version": "1.5.0",
            "_view_name": "HTMLView",
            "description": "",
            "description_tooltip": null,
            "layout": "IPY_MODEL_ff369e18fba74bb5aeb488f8977fe394",
            "placeholder": "​",
            "style": "IPY_MODEL_018a0578040d463180c92d5a34109941",
            "value": "Downloading: 100%"
          }
        },
        "901016891b15492fb27dde7f441a698b": {
          "model_module": "@jupyter-widgets/controls",
          "model_name": "FloatProgressModel",
          "model_module_version": "1.5.0",
          "state": {
            "_dom_classes": [],
            "_model_module": "@jupyter-widgets/controls",
            "_model_module_version": "1.5.0",
            "_model_name": "FloatProgressModel",
            "_view_count": null,
            "_view_module": "@jupyter-widgets/controls",
            "_view_module_version": "1.5.0",
            "_view_name": "ProgressView",
            "bar_style": "success",
            "description": "",
            "description_tooltip": null,
            "layout": "IPY_MODEL_76dce138f69e43c9b769e71fa269441e",
            "max": 990446387,
            "min": 0,
            "orientation": "horizontal",
            "style": "IPY_MODEL_11d3078dd89d4cdda64bc76732eac036",
            "value": 990446387
          }
        },
        "5f5910f8750642999291b5b1db8f19bd": {
          "model_module": "@jupyter-widgets/controls",
          "model_name": "HTMLModel",
          "model_module_version": "1.5.0",
          "state": {
            "_dom_classes": [],
            "_model_module": "@jupyter-widgets/controls",
            "_model_module_version": "1.5.0",
            "_model_name": "HTMLModel",
            "_view_count": null,
            "_view_module": "@jupyter-widgets/controls",
            "_view_module_version": "1.5.0",
            "_view_name": "HTMLView",
            "description": "",
            "description_tooltip": null,
            "layout": "IPY_MODEL_23cbdd78aac047748105dee337f17155",
            "placeholder": "​",
            "style": "IPY_MODEL_8af64075bd624667b49d3840c2b49043",
            "value": " 990M/990M [00:23&lt;00:00, 65.9MB/s]"
          }
        },
        "13c4ecab01754bd18708dc610c1ca301": {
          "model_module": "@jupyter-widgets/base",
          "model_name": "LayoutModel",
          "model_module_version": "1.2.0",
          "state": {
            "_model_module": "@jupyter-widgets/base",
            "_model_module_version": "1.2.0",
            "_model_name": "LayoutModel",
            "_view_count": null,
            "_view_module": "@jupyter-widgets/base",
            "_view_module_version": "1.2.0",
            "_view_name": "LayoutView",
            "align_content": null,
            "align_items": null,
            "align_self": null,
            "border": null,
            "bottom": null,
            "display": null,
            "flex": null,
            "flex_flow": null,
            "grid_area": null,
            "grid_auto_columns": null,
            "grid_auto_flow": null,
            "grid_auto_rows": null,
            "grid_column": null,
            "grid_gap": null,
            "grid_row": null,
            "grid_template_areas": null,
            "grid_template_columns": null,
            "grid_template_rows": null,
            "height": null,
            "justify_content": null,
            "justify_items": null,
            "left": null,
            "margin": null,
            "max_height": null,
            "max_width": null,
            "min_height": null,
            "min_width": null,
            "object_fit": null,
            "object_position": null,
            "order": null,
            "overflow": null,
            "overflow_x": null,
            "overflow_y": null,
            "padding": null,
            "right": null,
            "top": null,
            "visibility": null,
            "width": null
          }
        },
        "ff369e18fba74bb5aeb488f8977fe394": {
          "model_module": "@jupyter-widgets/base",
          "model_name": "LayoutModel",
          "model_module_version": "1.2.0",
          "state": {
            "_model_module": "@jupyter-widgets/base",
            "_model_module_version": "1.2.0",
            "_model_name": "LayoutModel",
            "_view_count": null,
            "_view_module": "@jupyter-widgets/base",
            "_view_module_version": "1.2.0",
            "_view_name": "LayoutView",
            "align_content": null,
            "align_items": null,
            "align_self": null,
            "border": null,
            "bottom": null,
            "display": null,
            "flex": null,
            "flex_flow": null,
            "grid_area": null,
            "grid_auto_columns": null,
            "grid_auto_flow": null,
            "grid_auto_rows": null,
            "grid_column": null,
            "grid_gap": null,
            "grid_row": null,
            "grid_template_areas": null,
            "grid_template_columns": null,
            "grid_template_rows": null,
            "height": null,
            "justify_content": null,
            "justify_items": null,
            "left": null,
            "margin": null,
            "max_height": null,
            "max_width": null,
            "min_height": null,
            "min_width": null,
            "object_fit": null,
            "object_position": null,
            "order": null,
            "overflow": null,
            "overflow_x": null,
            "overflow_y": null,
            "padding": null,
            "right": null,
            "top": null,
            "visibility": null,
            "width": null
          }
        },
        "018a0578040d463180c92d5a34109941": {
          "model_module": "@jupyter-widgets/controls",
          "model_name": "DescriptionStyleModel",
          "model_module_version": "1.5.0",
          "state": {
            "_model_module": "@jupyter-widgets/controls",
            "_model_module_version": "1.5.0",
            "_model_name": "DescriptionStyleModel",
            "_view_count": null,
            "_view_module": "@jupyter-widgets/base",
            "_view_module_version": "1.2.0",
            "_view_name": "StyleView",
            "description_width": ""
          }
        },
        "76dce138f69e43c9b769e71fa269441e": {
          "model_module": "@jupyter-widgets/base",
          "model_name": "LayoutModel",
          "model_module_version": "1.2.0",
          "state": {
            "_model_module": "@jupyter-widgets/base",
            "_model_module_version": "1.2.0",
            "_model_name": "LayoutModel",
            "_view_count": null,
            "_view_module": "@jupyter-widgets/base",
            "_view_module_version": "1.2.0",
            "_view_name": "LayoutView",
            "align_content": null,
            "align_items": null,
            "align_self": null,
            "border": null,
            "bottom": null,
            "display": null,
            "flex": null,
            "flex_flow": null,
            "grid_area": null,
            "grid_auto_columns": null,
            "grid_auto_flow": null,
            "grid_auto_rows": null,
            "grid_column": null,
            "grid_gap": null,
            "grid_row": null,
            "grid_template_areas": null,
            "grid_template_columns": null,
            "grid_template_rows": null,
            "height": null,
            "justify_content": null,
            "justify_items": null,
            "left": null,
            "margin": null,
            "max_height": null,
            "max_width": null,
            "min_height": null,
            "min_width": null,
            "object_fit": null,
            "object_position": null,
            "order": null,
            "overflow": null,
            "overflow_x": null,
            "overflow_y": null,
            "padding": null,
            "right": null,
            "top": null,
            "visibility": null,
            "width": null
          }
        },
        "11d3078dd89d4cdda64bc76732eac036": {
          "model_module": "@jupyter-widgets/controls",
          "model_name": "ProgressStyleModel",
          "model_module_version": "1.5.0",
          "state": {
            "_model_module": "@jupyter-widgets/controls",
            "_model_module_version": "1.5.0",
            "_model_name": "ProgressStyleModel",
            "_view_count": null,
            "_view_module": "@jupyter-widgets/base",
            "_view_module_version": "1.2.0",
            "_view_name": "StyleView",
            "bar_color": null,
            "description_width": ""
          }
        },
        "23cbdd78aac047748105dee337f17155": {
          "model_module": "@jupyter-widgets/base",
          "model_name": "LayoutModel",
          "model_module_version": "1.2.0",
          "state": {
            "_model_module": "@jupyter-widgets/base",
            "_model_module_version": "1.2.0",
            "_model_name": "LayoutModel",
            "_view_count": null,
            "_view_module": "@jupyter-widgets/base",
            "_view_module_version": "1.2.0",
            "_view_name": "LayoutView",
            "align_content": null,
            "align_items": null,
            "align_self": null,
            "border": null,
            "bottom": null,
            "display": null,
            "flex": null,
            "flex_flow": null,
            "grid_area": null,
            "grid_auto_columns": null,
            "grid_auto_flow": null,
            "grid_auto_rows": null,
            "grid_column": null,
            "grid_gap": null,
            "grid_row": null,
            "grid_template_areas": null,
            "grid_template_columns": null,
            "grid_template_rows": null,
            "height": null,
            "justify_content": null,
            "justify_items": null,
            "left": null,
            "margin": null,
            "max_height": null,
            "max_width": null,
            "min_height": null,
            "min_width": null,
            "object_fit": null,
            "object_position": null,
            "order": null,
            "overflow": null,
            "overflow_x": null,
            "overflow_y": null,
            "padding": null,
            "right": null,
            "top": null,
            "visibility": null,
            "width": null
          }
        },
        "8af64075bd624667b49d3840c2b49043": {
          "model_module": "@jupyter-widgets/controls",
          "model_name": "DescriptionStyleModel",
          "model_module_version": "1.5.0",
          "state": {
            "_model_module": "@jupyter-widgets/controls",
            "_model_module_version": "1.5.0",
            "_model_name": "DescriptionStyleModel",
            "_view_count": null,
            "_view_module": "@jupyter-widgets/base",
            "_view_module_version": "1.2.0",
            "_view_name": "StyleView",
            "description_width": ""
          }
        },
        "8c46294779ad4cc586ed9ad40bcc60cd": {
          "model_module": "@jupyter-widgets/controls",
          "model_name": "HBoxModel",
          "model_module_version": "1.5.0",
          "state": {
            "_dom_classes": [],
            "_model_module": "@jupyter-widgets/controls",
            "_model_module_version": "1.5.0",
            "_model_name": "HBoxModel",
            "_view_count": null,
            "_view_module": "@jupyter-widgets/controls",
            "_view_module_version": "1.5.0",
            "_view_name": "HBoxView",
            "box_style": "",
            "children": [
              "IPY_MODEL_3a3cc9d777a243f19439adf0ca4628a1",
              "IPY_MODEL_c0a5b7c1580e439283c8fca811e003e6",
              "IPY_MODEL_78f0104df9bb4cafb3bb8e2555619c36"
            ],
            "layout": "IPY_MODEL_9c5114f7c1c6418383eb4e3cda636962"
          }
        },
        "3a3cc9d777a243f19439adf0ca4628a1": {
          "model_module": "@jupyter-widgets/controls",
          "model_name": "HTMLModel",
          "model_module_version": "1.5.0",
          "state": {
            "_dom_classes": [],
            "_model_module": "@jupyter-widgets/controls",
            "_model_module_version": "1.5.0",
            "_model_name": "HTMLModel",
            "_view_count": null,
            "_view_module": "@jupyter-widgets/controls",
            "_view_module_version": "1.5.0",
            "_view_name": "HTMLView",
            "description": "",
            "description_tooltip": null,
            "layout": "IPY_MODEL_20fd9826e41f46369dc2a8f53aa4517e",
            "placeholder": "​",
            "style": "IPY_MODEL_18eac2e932824ae6ae6c8128cbd417f1",
            "value": "Downloading: 100%"
          }
        },
        "c0a5b7c1580e439283c8fca811e003e6": {
          "model_module": "@jupyter-widgets/controls",
          "model_name": "FloatProgressModel",
          "model_module_version": "1.5.0",
          "state": {
            "_dom_classes": [],
            "_model_module": "@jupyter-widgets/controls",
            "_model_module_version": "1.5.0",
            "_model_name": "FloatProgressModel",
            "_view_count": null,
            "_view_module": "@jupyter-widgets/controls",
            "_view_module_version": "1.5.0",
            "_view_name": "ProgressView",
            "bar_style": "success",
            "description": "",
            "description_tooltip": null,
            "layout": "IPY_MODEL_616b6fdd74bb46e3a1ec994592dc89be",
            "max": 2361,
            "min": 0,
            "orientation": "horizontal",
            "style": "IPY_MODEL_10d71b61686f49d7943e3a15e66ad425",
            "value": 2361
          }
        },
        "78f0104df9bb4cafb3bb8e2555619c36": {
          "model_module": "@jupyter-widgets/controls",
          "model_name": "HTMLModel",
          "model_module_version": "1.5.0",
          "state": {
            "_dom_classes": [],
            "_model_module": "@jupyter-widgets/controls",
            "_model_module_version": "1.5.0",
            "_model_name": "HTMLModel",
            "_view_count": null,
            "_view_module": "@jupyter-widgets/controls",
            "_view_module_version": "1.5.0",
            "_view_name": "HTMLView",
            "description": "",
            "description_tooltip": null,
            "layout": "IPY_MODEL_e66f3de8da4b48678f63d88402e8468e",
            "placeholder": "​",
            "style": "IPY_MODEL_84df1ab407f04b419761ce0dd31149cb",
            "value": " 2.36k/2.36k [00:00&lt;00:00, 129kB/s]"
          }
        },
        "9c5114f7c1c6418383eb4e3cda636962": {
          "model_module": "@jupyter-widgets/base",
          "model_name": "LayoutModel",
          "model_module_version": "1.2.0",
          "state": {
            "_model_module": "@jupyter-widgets/base",
            "_model_module_version": "1.2.0",
            "_model_name": "LayoutModel",
            "_view_count": null,
            "_view_module": "@jupyter-widgets/base",
            "_view_module_version": "1.2.0",
            "_view_name": "LayoutView",
            "align_content": null,
            "align_items": null,
            "align_self": null,
            "border": null,
            "bottom": null,
            "display": null,
            "flex": null,
            "flex_flow": null,
            "grid_area": null,
            "grid_auto_columns": null,
            "grid_auto_flow": null,
            "grid_auto_rows": null,
            "grid_column": null,
            "grid_gap": null,
            "grid_row": null,
            "grid_template_areas": null,
            "grid_template_columns": null,
            "grid_template_rows": null,
            "height": null,
            "justify_content": null,
            "justify_items": null,
            "left": null,
            "margin": null,
            "max_height": null,
            "max_width": null,
            "min_height": null,
            "min_width": null,
            "object_fit": null,
            "object_position": null,
            "order": null,
            "overflow": null,
            "overflow_x": null,
            "overflow_y": null,
            "padding": null,
            "right": null,
            "top": null,
            "visibility": null,
            "width": null
          }
        },
        "20fd9826e41f46369dc2a8f53aa4517e": {
          "model_module": "@jupyter-widgets/base",
          "model_name": "LayoutModel",
          "model_module_version": "1.2.0",
          "state": {
            "_model_module": "@jupyter-widgets/base",
            "_model_module_version": "1.2.0",
            "_model_name": "LayoutModel",
            "_view_count": null,
            "_view_module": "@jupyter-widgets/base",
            "_view_module_version": "1.2.0",
            "_view_name": "LayoutView",
            "align_content": null,
            "align_items": null,
            "align_self": null,
            "border": null,
            "bottom": null,
            "display": null,
            "flex": null,
            "flex_flow": null,
            "grid_area": null,
            "grid_auto_columns": null,
            "grid_auto_flow": null,
            "grid_auto_rows": null,
            "grid_column": null,
            "grid_gap": null,
            "grid_row": null,
            "grid_template_areas": null,
            "grid_template_columns": null,
            "grid_template_rows": null,
            "height": null,
            "justify_content": null,
            "justify_items": null,
            "left": null,
            "margin": null,
            "max_height": null,
            "max_width": null,
            "min_height": null,
            "min_width": null,
            "object_fit": null,
            "object_position": null,
            "order": null,
            "overflow": null,
            "overflow_x": null,
            "overflow_y": null,
            "padding": null,
            "right": null,
            "top": null,
            "visibility": null,
            "width": null
          }
        },
        "18eac2e932824ae6ae6c8128cbd417f1": {
          "model_module": "@jupyter-widgets/controls",
          "model_name": "DescriptionStyleModel",
          "model_module_version": "1.5.0",
          "state": {
            "_model_module": "@jupyter-widgets/controls",
            "_model_module_version": "1.5.0",
            "_model_name": "DescriptionStyleModel",
            "_view_count": null,
            "_view_module": "@jupyter-widgets/base",
            "_view_module_version": "1.2.0",
            "_view_name": "StyleView",
            "description_width": ""
          }
        },
        "616b6fdd74bb46e3a1ec994592dc89be": {
          "model_module": "@jupyter-widgets/base",
          "model_name": "LayoutModel",
          "model_module_version": "1.2.0",
          "state": {
            "_model_module": "@jupyter-widgets/base",
            "_model_module_version": "1.2.0",
            "_model_name": "LayoutModel",
            "_view_count": null,
            "_view_module": "@jupyter-widgets/base",
            "_view_module_version": "1.2.0",
            "_view_name": "LayoutView",
            "align_content": null,
            "align_items": null,
            "align_self": null,
            "border": null,
            "bottom": null,
            "display": null,
            "flex": null,
            "flex_flow": null,
            "grid_area": null,
            "grid_auto_columns": null,
            "grid_auto_flow": null,
            "grid_auto_rows": null,
            "grid_column": null,
            "grid_gap": null,
            "grid_row": null,
            "grid_template_areas": null,
            "grid_template_columns": null,
            "grid_template_rows": null,
            "height": null,
            "justify_content": null,
            "justify_items": null,
            "left": null,
            "margin": null,
            "max_height": null,
            "max_width": null,
            "min_height": null,
            "min_width": null,
            "object_fit": null,
            "object_position": null,
            "order": null,
            "overflow": null,
            "overflow_x": null,
            "overflow_y": null,
            "padding": null,
            "right": null,
            "top": null,
            "visibility": null,
            "width": null
          }
        },
        "10d71b61686f49d7943e3a15e66ad425": {
          "model_module": "@jupyter-widgets/controls",
          "model_name": "ProgressStyleModel",
          "model_module_version": "1.5.0",
          "state": {
            "_model_module": "@jupyter-widgets/controls",
            "_model_module_version": "1.5.0",
            "_model_name": "ProgressStyleModel",
            "_view_count": null,
            "_view_module": "@jupyter-widgets/base",
            "_view_module_version": "1.2.0",
            "_view_name": "StyleView",
            "bar_color": null,
            "description_width": ""
          }
        },
        "e66f3de8da4b48678f63d88402e8468e": {
          "model_module": "@jupyter-widgets/base",
          "model_name": "LayoutModel",
          "model_module_version": "1.2.0",
          "state": {
            "_model_module": "@jupyter-widgets/base",
            "_model_module_version": "1.2.0",
            "_model_name": "LayoutModel",
            "_view_count": null,
            "_view_module": "@jupyter-widgets/base",
            "_view_module_version": "1.2.0",
            "_view_name": "LayoutView",
            "align_content": null,
            "align_items": null,
            "align_self": null,
            "border": null,
            "bottom": null,
            "display": null,
            "flex": null,
            "flex_flow": null,
            "grid_area": null,
            "grid_auto_columns": null,
            "grid_auto_flow": null,
            "grid_auto_rows": null,
            "grid_column": null,
            "grid_gap": null,
            "grid_row": null,
            "grid_template_areas": null,
            "grid_template_columns": null,
            "grid_template_rows": null,
            "height": null,
            "justify_content": null,
            "justify_items": null,
            "left": null,
            "margin": null,
            "max_height": null,
            "max_width": null,
            "min_height": null,
            "min_width": null,
            "object_fit": null,
            "object_position": null,
            "order": null,
            "overflow": null,
            "overflow_x": null,
            "overflow_y": null,
            "padding": null,
            "right": null,
            "top": null,
            "visibility": null,
            "width": null
          }
        },
        "84df1ab407f04b419761ce0dd31149cb": {
          "model_module": "@jupyter-widgets/controls",
          "model_name": "DescriptionStyleModel",
          "model_module_version": "1.5.0",
          "state": {
            "_model_module": "@jupyter-widgets/controls",
            "_model_module_version": "1.5.0",
            "_model_name": "DescriptionStyleModel",
            "_view_count": null,
            "_view_module": "@jupyter-widgets/base",
            "_view_module_version": "1.2.0",
            "_view_name": "StyleView",
            "description_width": ""
          }
        },
        "34036d906feb47a08d5822d57bf07de1": {
          "model_module": "@jupyter-widgets/controls",
          "model_name": "HBoxModel",
          "model_module_version": "1.5.0",
          "state": {
            "_dom_classes": [],
            "_model_module": "@jupyter-widgets/controls",
            "_model_module_version": "1.5.0",
            "_model_name": "HBoxModel",
            "_view_count": null,
            "_view_module": "@jupyter-widgets/controls",
            "_view_module_version": "1.5.0",
            "_view_name": "HBoxView",
            "box_style": "",
            "children": [
              "IPY_MODEL_8ec7d827285d4ef7970ff8b14065b3f0",
              "IPY_MODEL_8337bfaf3ed64013aa7c8550c5637f61",
              "IPY_MODEL_fd0247798cc34dba88c376ee48839795"
            ],
            "layout": "IPY_MODEL_68761c5f4e5e4c7d93ae4c66edc993cb"
          }
        },
        "8ec7d827285d4ef7970ff8b14065b3f0": {
          "model_module": "@jupyter-widgets/controls",
          "model_name": "HTMLModel",
          "model_module_version": "1.5.0",
          "state": {
            "_dom_classes": [],
            "_model_module": "@jupyter-widgets/controls",
            "_model_module_version": "1.5.0",
            "_model_name": "HTMLModel",
            "_view_count": null,
            "_view_module": "@jupyter-widgets/controls",
            "_view_module_version": "1.5.0",
            "_view_name": "HTMLView",
            "description": "",
            "description_tooltip": null,
            "layout": "IPY_MODEL_66da8a47af5a4a59964065b51fb133b2",
            "placeholder": "​",
            "style": "IPY_MODEL_3858c2517e27400b9a0bb669a63f3f06",
            "value": "Downloading: 100%"
          }
        },
        "8337bfaf3ed64013aa7c8550c5637f61": {
          "model_module": "@jupyter-widgets/controls",
          "model_name": "FloatProgressModel",
          "model_module_version": "1.5.0",
          "state": {
            "_dom_classes": [],
            "_model_module": "@jupyter-widgets/controls",
            "_model_module_version": "1.5.0",
            "_model_name": "FloatProgressModel",
            "_view_count": null,
            "_view_module": "@jupyter-widgets/controls",
            "_view_module_version": "1.5.0",
            "_view_name": "ProgressView",
            "bar_style": "success",
            "description": "",
            "description_tooltip": null,
            "layout": "IPY_MODEL_bd4636da72524e5e844dd40fdf45f076",
            "max": 791656,
            "min": 0,
            "orientation": "horizontal",
            "style": "IPY_MODEL_de1a92b1966b49519a9b40b6b4989de2",
            "value": 791656
          }
        },
        "fd0247798cc34dba88c376ee48839795": {
          "model_module": "@jupyter-widgets/controls",
          "model_name": "HTMLModel",
          "model_module_version": "1.5.0",
          "state": {
            "_dom_classes": [],
            "_model_module": "@jupyter-widgets/controls",
            "_model_module_version": "1.5.0",
            "_model_name": "HTMLModel",
            "_view_count": null,
            "_view_module": "@jupyter-widgets/controls",
            "_view_module_version": "1.5.0",
            "_view_name": "HTMLView",
            "description": "",
            "description_tooltip": null,
            "layout": "IPY_MODEL_4758af2a87084766b8123f947de2f528",
            "placeholder": "​",
            "style": "IPY_MODEL_c8c1c19fdb144b10b66a5604657540f9",
            "value": " 792k/792k [00:00&lt;00:00, 16.5MB/s]"
          }
        },
        "68761c5f4e5e4c7d93ae4c66edc993cb": {
          "model_module": "@jupyter-widgets/base",
          "model_name": "LayoutModel",
          "model_module_version": "1.2.0",
          "state": {
            "_model_module": "@jupyter-widgets/base",
            "_model_module_version": "1.2.0",
            "_model_name": "LayoutModel",
            "_view_count": null,
            "_view_module": "@jupyter-widgets/base",
            "_view_module_version": "1.2.0",
            "_view_name": "LayoutView",
            "align_content": null,
            "align_items": null,
            "align_self": null,
            "border": null,
            "bottom": null,
            "display": null,
            "flex": null,
            "flex_flow": null,
            "grid_area": null,
            "grid_auto_columns": null,
            "grid_auto_flow": null,
            "grid_auto_rows": null,
            "grid_column": null,
            "grid_gap": null,
            "grid_row": null,
            "grid_template_areas": null,
            "grid_template_columns": null,
            "grid_template_rows": null,
            "height": null,
            "justify_content": null,
            "justify_items": null,
            "left": null,
            "margin": null,
            "max_height": null,
            "max_width": null,
            "min_height": null,
            "min_width": null,
            "object_fit": null,
            "object_position": null,
            "order": null,
            "overflow": null,
            "overflow_x": null,
            "overflow_y": null,
            "padding": null,
            "right": null,
            "top": null,
            "visibility": null,
            "width": null
          }
        },
        "66da8a47af5a4a59964065b51fb133b2": {
          "model_module": "@jupyter-widgets/base",
          "model_name": "LayoutModel",
          "model_module_version": "1.2.0",
          "state": {
            "_model_module": "@jupyter-widgets/base",
            "_model_module_version": "1.2.0",
            "_model_name": "LayoutModel",
            "_view_count": null,
            "_view_module": "@jupyter-widgets/base",
            "_view_module_version": "1.2.0",
            "_view_name": "LayoutView",
            "align_content": null,
            "align_items": null,
            "align_self": null,
            "border": null,
            "bottom": null,
            "display": null,
            "flex": null,
            "flex_flow": null,
            "grid_area": null,
            "grid_auto_columns": null,
            "grid_auto_flow": null,
            "grid_auto_rows": null,
            "grid_column": null,
            "grid_gap": null,
            "grid_row": null,
            "grid_template_areas": null,
            "grid_template_columns": null,
            "grid_template_rows": null,
            "height": null,
            "justify_content": null,
            "justify_items": null,
            "left": null,
            "margin": null,
            "max_height": null,
            "max_width": null,
            "min_height": null,
            "min_width": null,
            "object_fit": null,
            "object_position": null,
            "order": null,
            "overflow": null,
            "overflow_x": null,
            "overflow_y": null,
            "padding": null,
            "right": null,
            "top": null,
            "visibility": null,
            "width": null
          }
        },
        "3858c2517e27400b9a0bb669a63f3f06": {
          "model_module": "@jupyter-widgets/controls",
          "model_name": "DescriptionStyleModel",
          "model_module_version": "1.5.0",
          "state": {
            "_model_module": "@jupyter-widgets/controls",
            "_model_module_version": "1.5.0",
            "_model_name": "DescriptionStyleModel",
            "_view_count": null,
            "_view_module": "@jupyter-widgets/base",
            "_view_module_version": "1.2.0",
            "_view_name": "StyleView",
            "description_width": ""
          }
        },
        "bd4636da72524e5e844dd40fdf45f076": {
          "model_module": "@jupyter-widgets/base",
          "model_name": "LayoutModel",
          "model_module_version": "1.2.0",
          "state": {
            "_model_module": "@jupyter-widgets/base",
            "_model_module_version": "1.2.0",
            "_model_name": "LayoutModel",
            "_view_count": null,
            "_view_module": "@jupyter-widgets/base",
            "_view_module_version": "1.2.0",
            "_view_name": "LayoutView",
            "align_content": null,
            "align_items": null,
            "align_self": null,
            "border": null,
            "bottom": null,
            "display": null,
            "flex": null,
            "flex_flow": null,
            "grid_area": null,
            "grid_auto_columns": null,
            "grid_auto_flow": null,
            "grid_auto_rows": null,
            "grid_column": null,
            "grid_gap": null,
            "grid_row": null,
            "grid_template_areas": null,
            "grid_template_columns": null,
            "grid_template_rows": null,
            "height": null,
            "justify_content": null,
            "justify_items": null,
            "left": null,
            "margin": null,
            "max_height": null,
            "max_width": null,
            "min_height": null,
            "min_width": null,
            "object_fit": null,
            "object_position": null,
            "order": null,
            "overflow": null,
            "overflow_x": null,
            "overflow_y": null,
            "padding": null,
            "right": null,
            "top": null,
            "visibility": null,
            "width": null
          }
        },
        "de1a92b1966b49519a9b40b6b4989de2": {
          "model_module": "@jupyter-widgets/controls",
          "model_name": "ProgressStyleModel",
          "model_module_version": "1.5.0",
          "state": {
            "_model_module": "@jupyter-widgets/controls",
            "_model_module_version": "1.5.0",
            "_model_name": "ProgressStyleModel",
            "_view_count": null,
            "_view_module": "@jupyter-widgets/base",
            "_view_module_version": "1.2.0",
            "_view_name": "StyleView",
            "bar_color": null,
            "description_width": ""
          }
        },
        "4758af2a87084766b8123f947de2f528": {
          "model_module": "@jupyter-widgets/base",
          "model_name": "LayoutModel",
          "model_module_version": "1.2.0",
          "state": {
            "_model_module": "@jupyter-widgets/base",
            "_model_module_version": "1.2.0",
            "_model_name": "LayoutModel",
            "_view_count": null,
            "_view_module": "@jupyter-widgets/base",
            "_view_module_version": "1.2.0",
            "_view_name": "LayoutView",
            "align_content": null,
            "align_items": null,
            "align_self": null,
            "border": null,
            "bottom": null,
            "display": null,
            "flex": null,
            "flex_flow": null,
            "grid_area": null,
            "grid_auto_columns": null,
            "grid_auto_flow": null,
            "grid_auto_rows": null,
            "grid_column": null,
            "grid_gap": null,
            "grid_row": null,
            "grid_template_areas": null,
            "grid_template_columns": null,
            "grid_template_rows": null,
            "height": null,
            "justify_content": null,
            "justify_items": null,
            "left": null,
            "margin": null,
            "max_height": null,
            "max_width": null,
            "min_height": null,
            "min_width": null,
            "object_fit": null,
            "object_position": null,
            "order": null,
            "overflow": null,
            "overflow_x": null,
            "overflow_y": null,
            "padding": null,
            "right": null,
            "top": null,
            "visibility": null,
            "width": null
          }
        },
        "c8c1c19fdb144b10b66a5604657540f9": {
          "model_module": "@jupyter-widgets/controls",
          "model_name": "DescriptionStyleModel",
          "model_module_version": "1.5.0",
          "state": {
            "_model_module": "@jupyter-widgets/controls",
            "_model_module_version": "1.5.0",
            "_model_name": "DescriptionStyleModel",
            "_view_count": null,
            "_view_module": "@jupyter-widgets/base",
            "_view_module_version": "1.2.0",
            "_view_name": "StyleView",
            "description_width": ""
          }
        },
        "73fca8fd3f7b4f15bf21b5b355ad6eac": {
          "model_module": "@jupyter-widgets/controls",
          "model_name": "HBoxModel",
          "model_module_version": "1.5.0",
          "state": {
            "_dom_classes": [],
            "_model_module": "@jupyter-widgets/controls",
            "_model_module_version": "1.5.0",
            "_model_name": "HBoxModel",
            "_view_count": null,
            "_view_module": "@jupyter-widgets/controls",
            "_view_module_version": "1.5.0",
            "_view_name": "HBoxView",
            "box_style": "",
            "children": [
              "IPY_MODEL_e3cd11671c1e4684b1ee8e6475bbd678",
              "IPY_MODEL_8104eb52cd6248878481e26aff65df97",
              "IPY_MODEL_9fa5cc2309c7423e82b4157d97eea937"
            ],
            "layout": "IPY_MODEL_470e48b191cd433684aac090aa40bdce"
          }
        },
        "e3cd11671c1e4684b1ee8e6475bbd678": {
          "model_module": "@jupyter-widgets/controls",
          "model_name": "HTMLModel",
          "model_module_version": "1.5.0",
          "state": {
            "_dom_classes": [],
            "_model_module": "@jupyter-widgets/controls",
            "_model_module_version": "1.5.0",
            "_model_name": "HTMLModel",
            "_view_count": null,
            "_view_module": "@jupyter-widgets/controls",
            "_view_module_version": "1.5.0",
            "_view_name": "HTMLView",
            "description": "",
            "description_tooltip": null,
            "layout": "IPY_MODEL_9abfc9638b8a470e8f24153c0a013b0a",
            "placeholder": "​",
            "style": "IPY_MODEL_3165ec446d7c4edfbe0b4c1e1d725143",
            "value": "Downloading: 100%"
          }
        },
        "8104eb52cd6248878481e26aff65df97": {
          "model_module": "@jupyter-widgets/controls",
          "model_name": "FloatProgressModel",
          "model_module_version": "1.5.0",
          "state": {
            "_dom_classes": [],
            "_model_module": "@jupyter-widgets/controls",
            "_model_module_version": "1.5.0",
            "_model_name": "FloatProgressModel",
            "_view_count": null,
            "_view_module": "@jupyter-widgets/controls",
            "_view_module_version": "1.5.0",
            "_view_name": "ProgressView",
            "bar_style": "success",
            "description": "",
            "description_tooltip": null,
            "layout": "IPY_MODEL_8e543da6014f4e2b913e6c657ef3244e",
            "max": 2422362,
            "min": 0,
            "orientation": "horizontal",
            "style": "IPY_MODEL_b443f812d1bc4aff9106fef7dcb2d64a",
            "value": 2422362
          }
        },
        "9fa5cc2309c7423e82b4157d97eea937": {
          "model_module": "@jupyter-widgets/controls",
          "model_name": "HTMLModel",
          "model_module_version": "1.5.0",
          "state": {
            "_dom_classes": [],
            "_model_module": "@jupyter-widgets/controls",
            "_model_module_version": "1.5.0",
            "_model_name": "HTMLModel",
            "_view_count": null,
            "_view_module": "@jupyter-widgets/controls",
            "_view_module_version": "1.5.0",
            "_view_name": "HTMLView",
            "description": "",
            "description_tooltip": null,
            "layout": "IPY_MODEL_aab07428ca894c89994bf3ad3336ec11",
            "placeholder": "​",
            "style": "IPY_MODEL_14d04790dd5e4663af83bec83f85c872",
            "value": " 2.42M/2.42M [00:00&lt;00:00, 21.8MB/s]"
          }
        },
        "470e48b191cd433684aac090aa40bdce": {
          "model_module": "@jupyter-widgets/base",
          "model_name": "LayoutModel",
          "model_module_version": "1.2.0",
          "state": {
            "_model_module": "@jupyter-widgets/base",
            "_model_module_version": "1.2.0",
            "_model_name": "LayoutModel",
            "_view_count": null,
            "_view_module": "@jupyter-widgets/base",
            "_view_module_version": "1.2.0",
            "_view_name": "LayoutView",
            "align_content": null,
            "align_items": null,
            "align_self": null,
            "border": null,
            "bottom": null,
            "display": null,
            "flex": null,
            "flex_flow": null,
            "grid_area": null,
            "grid_auto_columns": null,
            "grid_auto_flow": null,
            "grid_auto_rows": null,
            "grid_column": null,
            "grid_gap": null,
            "grid_row": null,
            "grid_template_areas": null,
            "grid_template_columns": null,
            "grid_template_rows": null,
            "height": null,
            "justify_content": null,
            "justify_items": null,
            "left": null,
            "margin": null,
            "max_height": null,
            "max_width": null,
            "min_height": null,
            "min_width": null,
            "object_fit": null,
            "object_position": null,
            "order": null,
            "overflow": null,
            "overflow_x": null,
            "overflow_y": null,
            "padding": null,
            "right": null,
            "top": null,
            "visibility": null,
            "width": null
          }
        },
        "9abfc9638b8a470e8f24153c0a013b0a": {
          "model_module": "@jupyter-widgets/base",
          "model_name": "LayoutModel",
          "model_module_version": "1.2.0",
          "state": {
            "_model_module": "@jupyter-widgets/base",
            "_model_module_version": "1.2.0",
            "_model_name": "LayoutModel",
            "_view_count": null,
            "_view_module": "@jupyter-widgets/base",
            "_view_module_version": "1.2.0",
            "_view_name": "LayoutView",
            "align_content": null,
            "align_items": null,
            "align_self": null,
            "border": null,
            "bottom": null,
            "display": null,
            "flex": null,
            "flex_flow": null,
            "grid_area": null,
            "grid_auto_columns": null,
            "grid_auto_flow": null,
            "grid_auto_rows": null,
            "grid_column": null,
            "grid_gap": null,
            "grid_row": null,
            "grid_template_areas": null,
            "grid_template_columns": null,
            "grid_template_rows": null,
            "height": null,
            "justify_content": null,
            "justify_items": null,
            "left": null,
            "margin": null,
            "max_height": null,
            "max_width": null,
            "min_height": null,
            "min_width": null,
            "object_fit": null,
            "object_position": null,
            "order": null,
            "overflow": null,
            "overflow_x": null,
            "overflow_y": null,
            "padding": null,
            "right": null,
            "top": null,
            "visibility": null,
            "width": null
          }
        },
        "3165ec446d7c4edfbe0b4c1e1d725143": {
          "model_module": "@jupyter-widgets/controls",
          "model_name": "DescriptionStyleModel",
          "model_module_version": "1.5.0",
          "state": {
            "_model_module": "@jupyter-widgets/controls",
            "_model_module_version": "1.5.0",
            "_model_name": "DescriptionStyleModel",
            "_view_count": null,
            "_view_module": "@jupyter-widgets/base",
            "_view_module_version": "1.2.0",
            "_view_name": "StyleView",
            "description_width": ""
          }
        },
        "8e543da6014f4e2b913e6c657ef3244e": {
          "model_module": "@jupyter-widgets/base",
          "model_name": "LayoutModel",
          "model_module_version": "1.2.0",
          "state": {
            "_model_module": "@jupyter-widgets/base",
            "_model_module_version": "1.2.0",
            "_model_name": "LayoutModel",
            "_view_count": null,
            "_view_module": "@jupyter-widgets/base",
            "_view_module_version": "1.2.0",
            "_view_name": "LayoutView",
            "align_content": null,
            "align_items": null,
            "align_self": null,
            "border": null,
            "bottom": null,
            "display": null,
            "flex": null,
            "flex_flow": null,
            "grid_area": null,
            "grid_auto_columns": null,
            "grid_auto_flow": null,
            "grid_auto_rows": null,
            "grid_column": null,
            "grid_gap": null,
            "grid_row": null,
            "grid_template_areas": null,
            "grid_template_columns": null,
            "grid_template_rows": null,
            "height": null,
            "justify_content": null,
            "justify_items": null,
            "left": null,
            "margin": null,
            "max_height": null,
            "max_width": null,
            "min_height": null,
            "min_width": null,
            "object_fit": null,
            "object_position": null,
            "order": null,
            "overflow": null,
            "overflow_x": null,
            "overflow_y": null,
            "padding": null,
            "right": null,
            "top": null,
            "visibility": null,
            "width": null
          }
        },
        "b443f812d1bc4aff9106fef7dcb2d64a": {
          "model_module": "@jupyter-widgets/controls",
          "model_name": "ProgressStyleModel",
          "model_module_version": "1.5.0",
          "state": {
            "_model_module": "@jupyter-widgets/controls",
            "_model_module_version": "1.5.0",
            "_model_name": "ProgressStyleModel",
            "_view_count": null,
            "_view_module": "@jupyter-widgets/base",
            "_view_module_version": "1.2.0",
            "_view_name": "StyleView",
            "bar_color": null,
            "description_width": ""
          }
        },
        "aab07428ca894c89994bf3ad3336ec11": {
          "model_module": "@jupyter-widgets/base",
          "model_name": "LayoutModel",
          "model_module_version": "1.2.0",
          "state": {
            "_model_module": "@jupyter-widgets/base",
            "_model_module_version": "1.2.0",
            "_model_name": "LayoutModel",
            "_view_count": null,
            "_view_module": "@jupyter-widgets/base",
            "_view_module_version": "1.2.0",
            "_view_name": "LayoutView",
            "align_content": null,
            "align_items": null,
            "align_self": null,
            "border": null,
            "bottom": null,
            "display": null,
            "flex": null,
            "flex_flow": null,
            "grid_area": null,
            "grid_auto_columns": null,
            "grid_auto_flow": null,
            "grid_auto_rows": null,
            "grid_column": null,
            "grid_gap": null,
            "grid_row": null,
            "grid_template_areas": null,
            "grid_template_columns": null,
            "grid_template_rows": null,
            "height": null,
            "justify_content": null,
            "justify_items": null,
            "left": null,
            "margin": null,
            "max_height": null,
            "max_width": null,
            "min_height": null,
            "min_width": null,
            "object_fit": null,
            "object_position": null,
            "order": null,
            "overflow": null,
            "overflow_x": null,
            "overflow_y": null,
            "padding": null,
            "right": null,
            "top": null,
            "visibility": null,
            "width": null
          }
        },
        "14d04790dd5e4663af83bec83f85c872": {
          "model_module": "@jupyter-widgets/controls",
          "model_name": "DescriptionStyleModel",
          "model_module_version": "1.5.0",
          "state": {
            "_model_module": "@jupyter-widgets/controls",
            "_model_module_version": "1.5.0",
            "_model_name": "DescriptionStyleModel",
            "_view_count": null,
            "_view_module": "@jupyter-widgets/base",
            "_view_module_version": "1.2.0",
            "_view_name": "StyleView",
            "description_width": ""
          }
        },
        "628e340970c44cd78fc0bd794757ee32": {
          "model_module": "@jupyter-widgets/controls",
          "model_name": "HBoxModel",
          "model_module_version": "1.5.0",
          "state": {
            "_dom_classes": [],
            "_model_module": "@jupyter-widgets/controls",
            "_model_module_version": "1.5.0",
            "_model_name": "HBoxModel",
            "_view_count": null,
            "_view_module": "@jupyter-widgets/controls",
            "_view_module_version": "1.5.0",
            "_view_name": "HBoxView",
            "box_style": "",
            "children": [
              "IPY_MODEL_75e325d7b2f747c290af7a742e9afff8",
              "IPY_MODEL_a81fdc1e77344d09957072e442f88283",
              "IPY_MODEL_c86b87c443224b27801708d80500b884"
            ],
            "layout": "IPY_MODEL_5b1ae784fb884067ae8a350faf4dd17b"
          }
        },
        "75e325d7b2f747c290af7a742e9afff8": {
          "model_module": "@jupyter-widgets/controls",
          "model_name": "HTMLModel",
          "model_module_version": "1.5.0",
          "state": {
            "_dom_classes": [],
            "_model_module": "@jupyter-widgets/controls",
            "_model_module_version": "1.5.0",
            "_model_name": "HTMLModel",
            "_view_count": null,
            "_view_module": "@jupyter-widgets/controls",
            "_view_module_version": "1.5.0",
            "_view_name": "HTMLView",
            "description": "",
            "description_tooltip": null,
            "layout": "IPY_MODEL_a5d83e373a124456b9b0ffe665e76065",
            "placeholder": "​",
            "style": "IPY_MODEL_c21250504fb84e959e888483faae71a5",
            "value": "Downloading: 100%"
          }
        },
        "a81fdc1e77344d09957072e442f88283": {
          "model_module": "@jupyter-widgets/controls",
          "model_name": "FloatProgressModel",
          "model_module_version": "1.5.0",
          "state": {
            "_dom_classes": [],
            "_model_module": "@jupyter-widgets/controls",
            "_model_module_version": "1.5.0",
            "_model_name": "FloatProgressModel",
            "_view_count": null,
            "_view_module": "@jupyter-widgets/controls",
            "_view_module_version": "1.5.0",
            "_view_name": "ProgressView",
            "bar_style": "success",
            "description": "",
            "description_tooltip": null,
            "layout": "IPY_MODEL_77fa9014e9b94701813430292dcab9cd",
            "max": 2201,
            "min": 0,
            "orientation": "horizontal",
            "style": "IPY_MODEL_98af4343a62a4b3ba50a8971fcf23c8b",
            "value": 2201
          }
        },
        "c86b87c443224b27801708d80500b884": {
          "model_module": "@jupyter-widgets/controls",
          "model_name": "HTMLModel",
          "model_module_version": "1.5.0",
          "state": {
            "_dom_classes": [],
            "_model_module": "@jupyter-widgets/controls",
            "_model_module_version": "1.5.0",
            "_model_name": "HTMLModel",
            "_view_count": null,
            "_view_module": "@jupyter-widgets/controls",
            "_view_module_version": "1.5.0",
            "_view_name": "HTMLView",
            "description": "",
            "description_tooltip": null,
            "layout": "IPY_MODEL_51403d00dc1d46069cf994348a491671",
            "placeholder": "​",
            "style": "IPY_MODEL_d3e57aa04b93437587286fad22a92c90",
            "value": " 2.20k/2.20k [00:00&lt;00:00, 85.3kB/s]"
          }
        },
        "5b1ae784fb884067ae8a350faf4dd17b": {
          "model_module": "@jupyter-widgets/base",
          "model_name": "LayoutModel",
          "model_module_version": "1.2.0",
          "state": {
            "_model_module": "@jupyter-widgets/base",
            "_model_module_version": "1.2.0",
            "_model_name": "LayoutModel",
            "_view_count": null,
            "_view_module": "@jupyter-widgets/base",
            "_view_module_version": "1.2.0",
            "_view_name": "LayoutView",
            "align_content": null,
            "align_items": null,
            "align_self": null,
            "border": null,
            "bottom": null,
            "display": null,
            "flex": null,
            "flex_flow": null,
            "grid_area": null,
            "grid_auto_columns": null,
            "grid_auto_flow": null,
            "grid_auto_rows": null,
            "grid_column": null,
            "grid_gap": null,
            "grid_row": null,
            "grid_template_areas": null,
            "grid_template_columns": null,
            "grid_template_rows": null,
            "height": null,
            "justify_content": null,
            "justify_items": null,
            "left": null,
            "margin": null,
            "max_height": null,
            "max_width": null,
            "min_height": null,
            "min_width": null,
            "object_fit": null,
            "object_position": null,
            "order": null,
            "overflow": null,
            "overflow_x": null,
            "overflow_y": null,
            "padding": null,
            "right": null,
            "top": null,
            "visibility": null,
            "width": null
          }
        },
        "a5d83e373a124456b9b0ffe665e76065": {
          "model_module": "@jupyter-widgets/base",
          "model_name": "LayoutModel",
          "model_module_version": "1.2.0",
          "state": {
            "_model_module": "@jupyter-widgets/base",
            "_model_module_version": "1.2.0",
            "_model_name": "LayoutModel",
            "_view_count": null,
            "_view_module": "@jupyter-widgets/base",
            "_view_module_version": "1.2.0",
            "_view_name": "LayoutView",
            "align_content": null,
            "align_items": null,
            "align_self": null,
            "border": null,
            "bottom": null,
            "display": null,
            "flex": null,
            "flex_flow": null,
            "grid_area": null,
            "grid_auto_columns": null,
            "grid_auto_flow": null,
            "grid_auto_rows": null,
            "grid_column": null,
            "grid_gap": null,
            "grid_row": null,
            "grid_template_areas": null,
            "grid_template_columns": null,
            "grid_template_rows": null,
            "height": null,
            "justify_content": null,
            "justify_items": null,
            "left": null,
            "margin": null,
            "max_height": null,
            "max_width": null,
            "min_height": null,
            "min_width": null,
            "object_fit": null,
            "object_position": null,
            "order": null,
            "overflow": null,
            "overflow_x": null,
            "overflow_y": null,
            "padding": null,
            "right": null,
            "top": null,
            "visibility": null,
            "width": null
          }
        },
        "c21250504fb84e959e888483faae71a5": {
          "model_module": "@jupyter-widgets/controls",
          "model_name": "DescriptionStyleModel",
          "model_module_version": "1.5.0",
          "state": {
            "_model_module": "@jupyter-widgets/controls",
            "_model_module_version": "1.5.0",
            "_model_name": "DescriptionStyleModel",
            "_view_count": null,
            "_view_module": "@jupyter-widgets/base",
            "_view_module_version": "1.2.0",
            "_view_name": "StyleView",
            "description_width": ""
          }
        },
        "77fa9014e9b94701813430292dcab9cd": {
          "model_module": "@jupyter-widgets/base",
          "model_name": "LayoutModel",
          "model_module_version": "1.2.0",
          "state": {
            "_model_module": "@jupyter-widgets/base",
            "_model_module_version": "1.2.0",
            "_model_name": "LayoutModel",
            "_view_count": null,
            "_view_module": "@jupyter-widgets/base",
            "_view_module_version": "1.2.0",
            "_view_name": "LayoutView",
            "align_content": null,
            "align_items": null,
            "align_self": null,
            "border": null,
            "bottom": null,
            "display": null,
            "flex": null,
            "flex_flow": null,
            "grid_area": null,
            "grid_auto_columns": null,
            "grid_auto_flow": null,
            "grid_auto_rows": null,
            "grid_column": null,
            "grid_gap": null,
            "grid_row": null,
            "grid_template_areas": null,
            "grid_template_columns": null,
            "grid_template_rows": null,
            "height": null,
            "justify_content": null,
            "justify_items": null,
            "left": null,
            "margin": null,
            "max_height": null,
            "max_width": null,
            "min_height": null,
            "min_width": null,
            "object_fit": null,
            "object_position": null,
            "order": null,
            "overflow": null,
            "overflow_x": null,
            "overflow_y": null,
            "padding": null,
            "right": null,
            "top": null,
            "visibility": null,
            "width": null
          }
        },
        "98af4343a62a4b3ba50a8971fcf23c8b": {
          "model_module": "@jupyter-widgets/controls",
          "model_name": "ProgressStyleModel",
          "model_module_version": "1.5.0",
          "state": {
            "_model_module": "@jupyter-widgets/controls",
            "_model_module_version": "1.5.0",
            "_model_name": "ProgressStyleModel",
            "_view_count": null,
            "_view_module": "@jupyter-widgets/base",
            "_view_module_version": "1.2.0",
            "_view_name": "StyleView",
            "bar_color": null,
            "description_width": ""
          }
        },
        "51403d00dc1d46069cf994348a491671": {
          "model_module": "@jupyter-widgets/base",
          "model_name": "LayoutModel",
          "model_module_version": "1.2.0",
          "state": {
            "_model_module": "@jupyter-widgets/base",
            "_model_module_version": "1.2.0",
            "_model_name": "LayoutModel",
            "_view_count": null,
            "_view_module": "@jupyter-widgets/base",
            "_view_module_version": "1.2.0",
            "_view_name": "LayoutView",
            "align_content": null,
            "align_items": null,
            "align_self": null,
            "border": null,
            "bottom": null,
            "display": null,
            "flex": null,
            "flex_flow": null,
            "grid_area": null,
            "grid_auto_columns": null,
            "grid_auto_flow": null,
            "grid_auto_rows": null,
            "grid_column": null,
            "grid_gap": null,
            "grid_row": null,
            "grid_template_areas": null,
            "grid_template_columns": null,
            "grid_template_rows": null,
            "height": null,
            "justify_content": null,
            "justify_items": null,
            "left": null,
            "margin": null,
            "max_height": null,
            "max_width": null,
            "min_height": null,
            "min_width": null,
            "object_fit": null,
            "object_position": null,
            "order": null,
            "overflow": null,
            "overflow_x": null,
            "overflow_y": null,
            "padding": null,
            "right": null,
            "top": null,
            "visibility": null,
            "width": null
          }
        },
        "d3e57aa04b93437587286fad22a92c90": {
          "model_module": "@jupyter-widgets/controls",
          "model_name": "DescriptionStyleModel",
          "model_module_version": "1.5.0",
          "state": {
            "_model_module": "@jupyter-widgets/controls",
            "_model_module_version": "1.5.0",
            "_model_name": "DescriptionStyleModel",
            "_view_count": null,
            "_view_module": "@jupyter-widgets/base",
            "_view_module_version": "1.2.0",
            "_view_name": "StyleView",
            "description_width": ""
          }
        }
      }
    }
  },
  "cells": [
    {
      "cell_type": "markdown",
      "source": [
        "# Natural Language Processing Course Project_Text/Data Summerization Application deployed on Flask  (Extractive and Abstractive)\n",
        "###(Flask and UI code seperate)\n",
        "# --------------------------------------------------------------------\n",
        "\n",
        "## Submitted By : Muhammad Raamish Alam(20k-1326), Muhammad Ashar Ansari(20k-1409),  Muzammil Ahmed(20k-1394)\n",
        "\n",
        "## Submitted To: Sir Raza Abbas\n",
        "\n",
        "\n",
        "# --------------------------------------------------------------------\n",
        "## Subject : NLP(DS 5007)"
      ],
      "metadata": {
        "id": "qZdZpOwuUg5Z"
      }
    },
    {
      "cell_type": "markdown",
      "metadata": {
        "id": "auI2DV92HS_k"
      },
      "source": [
        "# Extractive Summarization:"
      ]
    },
    {
      "cell_type": "markdown",
      "metadata": {
        "id": "Ts02VcFiHS_q"
      },
      "source": [
        "\n",
        "#### Sumy to summarize text:\n",
        "- Firstly do text data preprocessing (tokenization, plain text/html parsing)  \n",
        "- Secondly instantiate a Sumy summarizer with a given algo. (e.g. LexRank), optional with stemmer and removing stopwords   \n",
        "- Finally use the summarizer to extract a summary out of text \n",
        "\n",
        "\n",
        "### Using Sumy's LexRank"
      ]
    },
    {
      "cell_type": "code",
      "source": [
        "pip install sumy"
      ],
      "metadata": {
        "colab": {
          "base_uri": "https://localhost:8080/"
        },
        "id": "lh8GVWMlJEaf",
        "outputId": "3b434d0b-9af8-4cdd-99a4-848fd5004a7d"
      },
      "execution_count": 18,
      "outputs": [
        {
          "output_type": "stream",
          "name": "stdout",
          "text": [
            "Looking in indexes: https://pypi.org/simple, https://us-python.pkg.dev/colab-wheels/public/simple/\n",
            "Requirement already satisfied: sumy in /usr/local/lib/python3.8/dist-packages (0.11.0)\n",
            "Requirement already satisfied: pycountry>=18.2.23 in /usr/local/lib/python3.8/dist-packages (from sumy) (22.3.5)\n",
            "Requirement already satisfied: docopt<0.7,>=0.6.1 in /usr/local/lib/python3.8/dist-packages (from sumy) (0.6.2)\n",
            "Requirement already satisfied: nltk>=3.0.2 in /usr/local/lib/python3.8/dist-packages (from sumy) (3.7)\n",
            "Requirement already satisfied: breadability>=0.1.20 in /usr/local/lib/python3.8/dist-packages (from sumy) (0.1.20)\n",
            "Requirement already satisfied: requests>=2.7.0 in /usr/local/lib/python3.8/dist-packages (from sumy) (2.25.1)\n",
            "Requirement already satisfied: chardet in /usr/local/lib/python3.8/dist-packages (from breadability>=0.1.20->sumy) (4.0.0)\n",
            "Requirement already satisfied: lxml>=2.0 in /usr/local/lib/python3.8/dist-packages (from breadability>=0.1.20->sumy) (4.9.2)\n",
            "Requirement already satisfied: click in /usr/local/lib/python3.8/dist-packages (from nltk>=3.0.2->sumy) (7.1.2)\n",
            "Requirement already satisfied: joblib in /usr/local/lib/python3.8/dist-packages (from nltk>=3.0.2->sumy) (1.2.0)\n",
            "Requirement already satisfied: tqdm in /usr/local/lib/python3.8/dist-packages (from nltk>=3.0.2->sumy) (4.64.1)\n",
            "Requirement already satisfied: regex>=2021.8.3 in /usr/local/lib/python3.8/dist-packages (from nltk>=3.0.2->sumy) (2022.6.2)\n",
            "Requirement already satisfied: setuptools in /usr/local/lib/python3.8/dist-packages (from pycountry>=18.2.23->sumy) (57.4.0)\n",
            "Requirement already satisfied: urllib3<1.27,>=1.21.1 in /usr/local/lib/python3.8/dist-packages (from requests>=2.7.0->sumy) (1.24.3)\n",
            "Requirement already satisfied: idna<3,>=2.5 in /usr/local/lib/python3.8/dist-packages (from requests>=2.7.0->sumy) (2.10)\n",
            "Requirement already satisfied: certifi>=2017.4.17 in /usr/local/lib/python3.8/dist-packages (from requests>=2.7.0->sumy) (2022.12.7)\n"
          ]
        }
      ]
    },
    {
      "cell_type": "code",
      "source": [
        "pip install rouge-score"
      ],
      "metadata": {
        "colab": {
          "base_uri": "https://localhost:8080/"
        },
        "id": "rS4px3Icge9Q",
        "outputId": "7dc1f91a-064d-4fd4-86bc-5b058c823bf9"
      },
      "execution_count": 19,
      "outputs": [
        {
          "output_type": "stream",
          "name": "stdout",
          "text": [
            "Looking in indexes: https://pypi.org/simple, https://us-python.pkg.dev/colab-wheels/public/simple/\n",
            "Requirement already satisfied: rouge-score in /usr/local/lib/python3.8/dist-packages (0.1.2)\n",
            "Requirement already satisfied: absl-py in /usr/local/lib/python3.8/dist-packages (from rouge-score) (1.3.0)\n",
            "Requirement already satisfied: nltk in /usr/local/lib/python3.8/dist-packages (from rouge-score) (3.7)\n",
            "Requirement already satisfied: numpy in /usr/local/lib/python3.8/dist-packages (from rouge-score) (1.21.6)\n",
            "Requirement already satisfied: six>=1.14.0 in /usr/local/lib/python3.8/dist-packages (from rouge-score) (1.15.0)\n",
            "Requirement already satisfied: tqdm in /usr/local/lib/python3.8/dist-packages (from nltk->rouge-score) (4.64.1)\n",
            "Requirement already satisfied: click in /usr/local/lib/python3.8/dist-packages (from nltk->rouge-score) (7.1.2)\n",
            "Requirement already satisfied: joblib in /usr/local/lib/python3.8/dist-packages (from nltk->rouge-score) (1.2.0)\n",
            "Requirement already satisfied: regex>=2021.8.3 in /usr/local/lib/python3.8/dist-packages (from nltk->rouge-score) (2022.6.2)\n"
          ]
        }
      ]
    },
    {
      "cell_type": "code",
      "source": [
        "import nltk\n",
        "nltk.download('punkt')"
      ],
      "metadata": {
        "colab": {
          "base_uri": "https://localhost:8080/"
        },
        "id": "C3PXDoIcJrY5",
        "outputId": "007a7dc1-12a0-4e35-d518-082b3753b7ff"
      },
      "execution_count": 20,
      "outputs": [
        {
          "output_type": "stream",
          "name": "stderr",
          "text": [
            "[nltk_data] Downloading package punkt to /root/nltk_data...\n",
            "[nltk_data]   Package punkt is already up-to-date!\n"
          ]
        },
        {
          "output_type": "execute_result",
          "data": {
            "text/plain": [
              "True"
            ]
          },
          "metadata": {},
          "execution_count": 20
        }
      ]
    },
    {
      "cell_type": "code",
      "execution_count": 21,
      "metadata": {
        "id": "q0ymXb0QHS_t"
      },
      "outputs": [],
      "source": [
        "#Import library essentials\n",
        "from sumy.parsers.plaintext import PlaintextParser #We're choosing a plaintext parser here, HTML parsers also available.as\n",
        "from sumy.nlp.tokenizers import Tokenizer \n",
        "from sumy.summarizers.lex_rank import LexRankSummarizer #We're choosing Lexrank, other algorithms are also built in."
      ]
    },
    {
      "cell_type": "markdown",
      "metadata": {
        "id": "YDxXr_XOHS_s"
      },
      "source": [
        "#### Reference: \n",
        "#### https://gist.github.com/lastlegion/dd7f11aada4673dfbb4b\n",
        "#### https://github.com/miso-belica/sumy/blob/dev/README.md\n",
        "#### http://ai.intelligentonlinetools.com/ml/text-summarization/"
      ]
    },
    {
      "cell_type": "markdown",
      "metadata": {
        "id": "PsF_1ZWUHS_x"
      },
      "source": [
        "#### Summarize a plain text file \n"
      ]
    },
    {
      "cell_type": "code",
      "source": [
        "# Convert text to UTF-8\n",
        "import os    \n",
        "from chardet import detect\n",
        "\n",
        "srcfile = \"/content/sample_data/plain_text_sample_sec.txt\"\n",
        "trgfile = \"/content/sample_data/plain_text_sample_sec_ENC.txt\"\n",
        "\n",
        "# get file encoding type\n",
        "def get_encoding_type(file):\n",
        "    with open(file, 'rb') as f:\n",
        "        rawdata = f.read()\n",
        "    return detect(rawdata)['encoding']\n",
        "\n",
        "from_codec = get_encoding_type(srcfile)\n",
        "\n",
        "# add try: except block for reliability\n",
        "try: \n",
        "    with open(srcfile, 'r', encoding=from_codec) as f, open(trgfile, 'w', encoding='utf-8') as e:\n",
        "        text = f.read() # for small files, for big use chunks\n",
        "        e.write(text)\n",
        "\n",
        "    os.remove(srcfile) # remove old encoding file\n",
        "    os.rename(trgfile, srcfile) # rename new encoding\n",
        "except UnicodeDecodeError:\n",
        "    print('Decode Error')\n",
        "except UnicodeEncodeError:\n",
        "    print('Encode Error')"
      ],
      "metadata": {
        "id": "kQp2pdmBvpp2"
      },
      "execution_count": 22,
      "outputs": []
    },
    {
      "cell_type": "code",
      "source": [
        "file = \"/content/sample_data/plain_text_sample_sec.txt\" #put the sample text file in the same folder as this notebook \n",
        "#Read the original text file in Python:\n",
        "with open(file) as f:\n",
        "    contents = f.read()\n",
        "    print(\"===Original Text===\\n\"+contents)"
      ],
      "metadata": {
        "colab": {
          "base_uri": "https://localhost:8080/"
        },
        "id": "d6AR-oSAnbt6",
        "outputId": "2fa632f7-c9fb-4d76-c1cd-6c755d726f9a"
      },
      "execution_count": 23,
      "outputs": [
        {
          "output_type": "stream",
          "name": "stdout",
          "text": [
            "===Original Text===\n",
            "Robotics, design, construction, and use of machines (robots) to perform tasks done traditionally by human beings. Robots are widely used in such industries as automobile manufacture to perform simple repetitive tasks, and in industries where work must be performed in environments hazardous to humans. Many aspects of robotics involve artificial intelligence; robots may be equipped with the equivalent of human senses such as vision, touch, and the ability to sense temperature. Some are even capable of simple decision making, and current robotics research is geared toward devising robots with a degree of self-sufficiency that will permit mobility and decision-making in an unstructured environment. Today’s industrial robots do not resemble human beings; a robot in human form is called an android. Compared to other artifacts with single functions, robots are expected to perform a variety of tasks, among which communication has an important role. A typical example is a humanoid robot, the building of which has been regarded as the final target of robotics for many years, especially in Japan where many robotics researchers have been struggling with making humanoid robots work in our society. Regardless of such efforts, no definition of humanoid robots exists since “robot” itself has no clear definition. From the viewpoint of biology, human beings can be discriminated from other species by three distinctive features or capabilities. They are biped walking, use instrumentation, and have the invention/use of language. The first two capabilities have been attacked by robotics researchers as challenges in locomotion and manipulation that are the main issues in robotics. The third capability has not been considered as within robotics but linguistics. It seems far away from robotics. However, recent progress of research activities developed by the idea of “embodiment” in behavior-based robotics proposed by Rod Brooks at the MIT AI laboratory in the late 1980s has caused more conceptual issues such as body scheme, body image, self, consciousness, theory of mind, communication, and the emergence of language. Although these issues have been attacked in the existing disciplines such as brain science, neuroscience, cognitive science, and developmental psychology, robotics may project a new light on understanding these issues by constructing artifacts similar to us. Thus, robotics covers a broad range of disciplines; therefore it seems very difficult to find comprehensive textbooks to understand the area. Some textbooks focus on the fundamental issues on how to build robots while others focus on a limited area in robotics such as kinematics, dynamics, control, vision, or planning. Among them, Russell and Norvig's book from 1995 entitled Artificial Intelligence—A Modern Approach gave a good introduction to robotics from the viewpoint of AI. Pfeifer and Scheier's book from 1999 entitled Understanding Intelligence shows a constructive approach to understanding intelligence with a variety of robots from the viewpoint of embodied cognitive science. Readers can access resources on the recent activities of robotics around the world through the Web.\n"
          ]
        }
      ]
    },
    {
      "cell_type": "code",
      "execution_count": 24,
      "metadata": {
        "colab": {
          "base_uri": "https://localhost:8080/"
        },
        "id": "fjAwIGfTHS_y",
        "outputId": "e0c0c3d1-198e-4a06-dbca-43ba617e89cd"
      },
      "outputs": [
        {
          "output_type": "stream",
          "name": "stdout",
          "text": [
            "\n",
            "Sumy outcome type:<class 'tuple'>, element type:<class 'sumy.models.dom._sentence.Sentence'> \n",
            "(<Sentence: Robotics, design, construction, and use of machines (robots) to perform tasks done traditionally by human beings.>,)\n",
            "\n",
            "===Extractive Summary using Sumy LexRank:===\n",
            "Robotics, design, construction, and use of machines (robots) to perform tasks done traditionally by human beings.\n",
            "A typical example is a humanoid robot, the building of which has been regarded as the final target of robotics for many years, especially in Japan where many robotics researchers have been struggling with making humanoid robots work in our society.\n",
            "Pfeifer and Scheier's book from 1999 entitled Understanding Intelligence shows a constructive approach to understanding intelligence with a variety of robots from the viewpoint of embodied cognitive science.\n"
          ]
        }
      ],
      "source": [
        "#which languages are supported: \n",
        "#https://stackoverflow.com/questions/15111183/what-languages-are-supported-for-nltk-word-tokenize-and-nltk-pos-tag\n",
        "parser = PlaintextParser.from_file(file, Tokenizer(\"english\"))\n",
        "summarizer = LexRankSummarizer()\n",
        "summary = summarizer(parser.document, 3) #Summarize the document with 3 sentences, a tunable hyperparam \n",
        "    \n",
        "print(f'\\nSumy outcome type:{type(summary)}, element type:{type(summary[0])} \\n{summary[:1]}')\n",
        "allstr = '\\n'.join(str(sentence) for sentence in summary)\n",
        "print(f'\\n===Extractive Summary using Sumy LexRank:===\\n{allstr}')"
      ]
    },
    {
      "cell_type": "code",
      "source": [
        "# BLEU SCORE and Rouge Score\n",
        "from nltk.translate.bleu_score import corpus_bleu\n",
        "from rouge_score import rouge_scorer\n",
        "\n",
        "canidates = [contents.split()]\n",
        "references = [allstr.split()]\n",
        "score = corpus_bleu(references, canidates)\n",
        "print(f'BLEU SCORE:{score}')\n",
        "\n",
        "scorer = rouge_scorer.RougeScorer(['rouge1', 'rougeL'], use_stemmer=True)\n",
        "scores = scorer.score(contents, allstr)\n",
        "print(f'ROUGE SCORE:{scores}')"
      ],
      "metadata": {
        "colab": {
          "base_uri": "https://localhost:8080/"
        },
        "id": "G_e28CT7frWf",
        "outputId": "d0c95567-dd1f-4340-bc0a-61bd747ff9d6"
      },
      "execution_count": 26,
      "outputs": [
        {
          "output_type": "stream",
          "name": "stdout",
          "text": [
            "BLEU SCORE:5.1304923275757076e-232\n",
            "ROUGE SCORE:{'rouge1': Score(precision=1.0, recall=0.177319587628866, fmeasure=0.3012259194395797), 'rougeL': Score(precision=1.0, recall=0.177319587628866, fmeasure=0.3012259194395797)}\n"
          ]
        }
      ]
    },
    {
      "cell_type": "markdown",
      "metadata": {
        "id": "w7e5GQMeHS_1"
      },
      "source": [
        "#### Observation\n",
        "- Command: summarizer(parser.document, SENTENCES_COUNT) where SENTENCES_COUNT is a tunable hyperparam\n",
        "- Sumy outputs a tuple of objects of \"sumy.models.dom._sentence.Sentence\" class, that is the extracted summary sentences  \n",
        "- We concatenate them with new lines to form a single text string to display the extrative summary produced by Sumy LexRank summerizer"
      ]
    },
    {
      "cell_type": "markdown",
      "metadata": {
        "id": "8e0u-rJHHS_4"
      },
      "source": [
        "#### Summarize a text string "
      ]
    },
    {
      "cell_type": "code",
      "execution_count": 28,
      "metadata": {
        "colab": {
          "base_uri": "https://localhost:8080/"
        },
        "id": "J3StISUfHS_5",
        "outputId": "3f11c954-c3bb-44d4-a608-cf8439a59160"
      },
      "outputs": [
        {
          "output_type": "stream",
          "name": "stdout",
          "text": [
            "Nearly ten years had passed since the Dursleys had woken up to find their nephew on the front step, but Privet Drive had hardly changed at all.\n",
            "The sun rose on the same tidy front gardens and lit up the brass number four on the Dursleys' front door; it crept into their living room, which was almost exactly the same as it had been on the night when Mr. Dursley had seen that fateful news report about the owls.\n"
          ]
        }
      ],
      "source": [
        "### Are you talking about multi-line strings? Easy, use triple quotes to start and end them.\n",
        "string = \"Nearly ten years had passed since the Dursleys had woken up to find their nephew on the front step, but Privet Drive had hardly changed at all. The sun rose on the same tidy front gardens and lit up the brass number four on the Dursleys' front door; it crept into their living room, which was almost exactly the same as it had been on the night when Mr. Dursley had seen that fateful news report about the owls. Only the photographs on the mantelpiece really showed how much time had passed. Ten years ago, there had been lots of pictures of what looked like a large pink beach ball wearing different-colored bonnets - but Dudley Dursley was no longer a baby, and now the photographs showed a large blond boy riding his first bicycle, on a carousel at the fair, playing a computer game with his father, being hugged and kissed by his mother. The room held no sign at all that another boy lived in the house, too.\"\n",
        "\n",
        "parser = PlaintextParser.from_string(string, Tokenizer(\"english\"))\n",
        "summary = summarizer(parser.document, 2) #Summarize the string with 2 sentences\n",
        "\n",
        "for sentence in summary:\n",
        "    print(sentence)"
      ]
    },
    {
      "cell_type": "code",
      "source": [
        "# BLEU SCORE and Rouge Score\n",
        "from nltk.translate.bleu_score import corpus_bleu\n",
        "from rouge_score import rouge_scorer\n",
        "\n",
        "allstr = '\\n'.join(str(sentence) for sentence in summary)\n",
        "\n",
        "canidates = [string.split()]\n",
        "references = [allstr.split()]\n",
        "score = corpus_bleu(references, canidates)\n",
        "print(f'BLEU SCORE:{score}')\n",
        "\n",
        "scorer = rouge_scorer.RougeScorer(['rouge1', 'rougeL'], use_stemmer=True)\n",
        "scores = scorer.score(string, allstr)\n",
        "print(f'ROUGE SCORE:{scores}')"
      ],
      "metadata": {
        "colab": {
          "base_uri": "https://localhost:8080/"
        },
        "id": "vzeVljBuwrjf",
        "outputId": "c79ea904-34b0-4cf2-84da-1d699c05011e"
      },
      "execution_count": 30,
      "outputs": [
        {
          "output_type": "stream",
          "name": "stdout",
          "text": [
            "BLEU SCORE:5.0454056966289525e-232\n",
            "ROUGE SCORE:{'rouge1': Score(precision=1.0, recall=0.4647058823529412, fmeasure=0.6345381526104418), 'rougeL': Score(precision=1.0, recall=0.4647058823529412, fmeasure=0.6345381526104418)}\n"
          ]
        }
      ]
    },
    {
      "cell_type": "markdown",
      "metadata": {
        "id": "XOJEvzIRHS_6"
      },
      "source": [
        "#### Try another language "
      ]
    },
    {
      "cell_type": "code",
      "execution_count": 31,
      "metadata": {
        "colab": {
          "base_uri": "https://localhost:8080/"
        },
        "id": "aR33fzYeHS_7",
        "outputId": "72670308-4611-4adb-b672-b47fab89d864"
      },
      "outputs": [
        {
          "output_type": "stream",
          "name": "stdout",
          "text": [
            "Près de dix ans s'étaient écoulés depuis que les Dursley s'étaient réveillés pour trouver leur neveu sur le perron, mais Privet Drive n'avait pratiquement pas changé.\n",
            "Le soleil se levait sur les mêmes jardins de devant bien rangés et éclairait le numéro quatre en laiton sur la porte d'entrée des Dursley ; elle se glissa dans leur salon, qui était presque exactement la même que la nuit où M. Dursley avait vu ce reportage fatidique sur les hiboux.\n"
          ]
        }
      ],
      "source": [
        "### Are you talking about multi-line strings? Easy, use triple quotes to start and end them.\n",
        "string = \"\"\"Près de dix ans s'étaient écoulés depuis que les Dursley s'étaient réveillés pour trouver leur neveu sur le perron, mais Privet Drive n'avait pratiquement pas changé. Le soleil se levait sur les mêmes jardins de devant bien rangés et éclairait le numéro quatre en laiton sur la porte d'entrée des Dursley ; elle se glissa dans leur salon, qui était presque exactement la même que la nuit où M. Dursley avait vu ce reportage fatidique sur les hiboux. Seules les photographies sur la cheminée montraient vraiment combien de temps s'était écoulé. Il y a dix ans, il y avait eu beaucoup de photos de ce qui ressemblait à un gros ballon de plage rose portant des bonnets de différentes couleurs - mais Dudley Dursley n'était plus un bébé, et maintenant les photos montraient un grand garçon blond conduisant son premier vélo, sur un carrousel à la foire, jouer à un jeu vidéo avec son père, se faire étreindre et embrasser par sa mère. La pièce ne contenait aucun signe qu'un autre garçon vivait également dans la maison.\"\"\"\n",
        "\n",
        "parser = PlaintextParser.from_string(string, Tokenizer(\"german\"))\n",
        "summarizer = LexRankSummarizer()\n",
        "summary = summarizer(parser.document, 2) #Summarize the string with 2 sentences\n",
        "\n",
        "for sentence in summary:\n",
        "    print(sentence)"
      ]
    },
    {
      "cell_type": "markdown",
      "metadata": {
        "id": "aHjoqBK2HTAJ"
      },
      "source": [
        "#### Summarize a HTML file"
      ]
    },
    {
      "cell_type": "code",
      "execution_count": 32,
      "metadata": {
        "id": "n_qB7fMRHTAK"
      },
      "outputs": [],
      "source": [
        "from __future__ import absolute_import\n",
        "from __future__ import division, print_function, unicode_literals\n",
        "from sumy.parsers.html import HtmlParser #other parsers available for HTML etc.\n",
        "from sumy.parsers.plaintext import PlaintextParser\n",
        "from sumy.nlp.tokenizers import Tokenizer\n",
        "from sumy.summarizers.lex_rank import LexRankSummarizer\n",
        "from sumy.nlp.stemmers import Stemmer\n",
        "from sumy.utils import get_stop_words\n"
      ]
    },
    {
      "cell_type": "code",
      "execution_count": 33,
      "metadata": {
        "colab": {
          "base_uri": "https://localhost:8080/"
        },
        "id": "Wl2ZtBfMHTAK",
        "outputId": "e816a07f-10ff-43ee-dd34-778510fb3bcd"
      },
      "outputs": [
        {
          "output_type": "stream",
          "name": "stdout",
          "text": [
            "Test 1: simply using LeRank w/o stemming and not removing stop words:\n",
            "\n",
            "Combat is sometimes resorted to as a method of self-defense, or can be used as a tool to impose one's will on others.\n",
            "An instance of combat can be a stand-alone confrontation or a small part of a much larger violent conflict.\n",
            "Instances of combat may also be benign and recreational, as in the cases of combat sports and mock combat.\n",
            "Wikibooks has a book on the topic of: Fighting\n",
            "Propensity to Serve and Motivation to Enlist among American Combat Soldiers.\"\n",
            "\n",
            "Test2: using LexRankSummarizer with stemming and removing stop words:\n",
            "\n",
            "Purposeful violent conflict\n",
            "Combat( French for fight) is a purposeful violent conflict meant to physically harm or kill the opposition.\n",
            "An instance of combat can be a stand-alone confrontation or a small part of a much larger violent conflict.\n",
            "Combat Motivation in Today's Soldiers: U.S. Army War College Strategic Studies Institute.\"\n",
            "Cohesion during Military Operations: A Field Study on Combat Units in the Al-Aqsa Intifada.\"\n"
          ]
        }
      ],
      "source": [
        "LANGUAGE = \"english\"\n",
        "SENTENCES_COUNT = 5\n",
        "\n",
        "url = \"https://en.wikipedia.org/wiki/Combat\"\n",
        "parser = HtmlParser.from_url(url, Tokenizer(LANGUAGE))\n",
        "# For plain text files:\n",
        "# parser = PlaintextParser.from_file(\"document.txt\", Tokenizer(LANGUAGE))\n",
        "\n",
        "print('Test 1: simply using LeRank w/o stemming and not removing stop words:\\n')\n",
        "summarizer = LexRankSummarizer()\n",
        "#stemmer = Stemmer(LANGUAGE)\n",
        "#summarizer = LexRankSummarizer(stemmer)\n",
        "#summarizer.stop_words = get_stop_words(LANGUAGE)\n",
        "\n",
        "summary = summarizer(parser.document, SENTENCES_COUNT) #Summarize the document with pre-defined no. of sentences\n",
        "for sentence in summary:\n",
        "    print(sentence)\n",
        "\n",
        "print('\\nTest2: using LexRankSummarizer with stemming and removing stop words:\\n')\n",
        "#summarizer = LexRankSummarizer()\n",
        "stemmer = Stemmer(LANGUAGE)\n",
        "summarizer = LexRankSummarizer(stemmer)\n",
        "summarizer.stop_words = get_stop_words(LANGUAGE)\n",
        "\n",
        "summary = summarizer(parser.document, SENTENCES_COUNT) #Summarize the document with pre-defined no. of sentences\n",
        "for sentence in summary:\n",
        "    print(sentence)"
      ]
    },
    {
      "cell_type": "code",
      "source": [
        "# BLEU SCORE and Rouge Score\n",
        "from nltk.translate.bleu_score import corpus_bleu\n",
        "from rouge_score import rouge_scorer\n",
        "\n",
        "allstr = '\\n'.join(str(sentence) for sentence in summary)\n",
        "contents = '\\n'.join(str(summary) for summary in summary)\n",
        "\n",
        "canidates = [contents.split()]\n",
        "references = [allstr.split()]\n",
        "score = corpus_bleu(references, canidates)\n",
        "print(f'BLEU SCORE:{score}')\n",
        "\n",
        "scorer = rouge_scorer.RougeScorer(['rouge1', 'rougeL'], use_stemmer=True)\n",
        "scores = scorer.score(contents, allstr)\n",
        "print(f'ROUGE SCORE:{scores}')"
      ],
      "metadata": {
        "colab": {
          "base_uri": "https://localhost:8080/"
        },
        "id": "YRrSaPb-xafp",
        "outputId": "4ee1de42-2e17-4be2-a243-fa4969a81dfc"
      },
      "execution_count": 34,
      "outputs": [
        {
          "output_type": "stream",
          "name": "stdout",
          "text": [
            "BLEU SCORE:8.444234747540162e-232\n",
            "ROUGE SCORE:{'rouge1': Score(precision=1.0, recall=1.0, fmeasure=1.0), 'rougeL': Score(precision=1.0, recall=1.0, fmeasure=1.0)}\n"
          ]
        }
      ]
    },
    {
      "cell_type": "markdown",
      "metadata": {
        "id": "kENx0aVRHTAL"
      },
      "source": [
        "#### Observation\n",
        "- Above I did two tests. It seems using Sumy LexRank summarizer with stemming and removing stop words gives a more concise summary, but less like haman writing\n",
        "- You can try parsing & summarizing any (wiki) HTML page of your interest to see how it goes      "
      ]
    },
    {
      "cell_type": "markdown",
      "metadata": {
        "id": "Ha0lsIB2HTAL"
      },
      "source": [
        "#### Sumy also contains command line utility for quick summarization of documents"
      ]
    },
    {
      "cell_type": "code",
      "execution_count": null,
      "metadata": {
        "colab": {
          "base_uri": "https://localhost:8080/"
        },
        "id": "kP1ogbb9HTAM",
        "outputId": "460b1ed9-b865-458c-c7f1-b0d909677058"
      },
      "outputs": [
        {
          "output_type": "stream",
          "name": "stdout",
          "text": [
            "Automatic summarization is the process of shortening a set of data computationally, to create a subset (a summary) that represents the most important or relevant information within the original content.\n",
            "Abstractive summarization methods generate new text that did not exist in the original text.\n",
            "An example of a summarization problem is document summarization, which attempts to automatically produce an abstract from a given document.\n",
            "Another keyphrase extraction algorithm is TextRank.\n",
            "Features might include the position in the document (i.e., the first few sentences are probably important), the number of words in the sentence, etc.\n",
            "The main difficulty in supervised extractive summarization is that the known summaries must be manually created by extracting sentences so the sentences in an original training document can be labeled as \"in summary\" or \"not in summary\".\n",
            "Automatic Text Summarization.\n",
            "\"Learning Algorithms for Keyphrase Extraction\".\n",
            "\"A method for evaluating modern systems of automatic text summarization\".\n",
            "Automatic Keyphrases Extraction.\n"
          ]
        }
      ],
      "source": [
        "!sumy lex-rank --length=10 --url=https://en.wikipedia.org/wiki/Automatic_summarization # what's auto summarization?"
      ]
    },
    {
      "cell_type": "markdown",
      "metadata": {
        "id": "j8gJeKgcHTAN"
      },
      "source": [
        "### Use Sumy's other summarizers (LSA, Luhn and Edmundson, etc.)\n",
        "\n",
        "#### Sumy's summarization methods: https://miso-belica.github.io/sumy/summarizators.html\n",
        "\n",
        "Edmundson added 3 more heuristics to the Luhn method to measure the importance of the sentences:   \n",
        "`bonus words - positively relevant \n",
        "stigma words - negatively relevant \n",
        "null words - irrelevant words`"
      ]
    },
    {
      "cell_type": "code",
      "execution_count": null,
      "metadata": {
        "colab": {
          "base_uri": "https://localhost:8080/"
        },
        "id": "X5VMFeiaHTAN",
        "outputId": "a63bfe5a-c6b2-4df4-ed3e-7eb7637c28f7"
      },
      "outputs": [
        {
          "output_type": "stream",
          "name": "stdout",
          "text": [
            "Robotics, design, construction, and use of machines (robots) to perform tasks done traditionally by human beings.\n",
            "A typical example is a humanoid robot, the building of which has been regarded as the final target of robotics for many years, especially in Japan where many robotics researchers have been struggling with making humanoid robots work in our society.\n",
            "Although these issues have been attacked in the existing disciplines such as brain science, neuroscience, cognitive science, and developmental psychology, robotics may project a new light on understanding these issues by constructing artifacts similar to us.\n"
          ]
        }
      ],
      "source": [
        "# Summarize plain text file:\n",
        "from sumy.summarizers.lsa import LsaSummarizer\n",
        "parser = PlaintextParser.from_file(file, Tokenizer(\"english\"))\n",
        "summarizer = LsaSummarizer()\n",
        "summary = summarizer(parser.document, 3) #Summarize the document with 3 sentences\n",
        "for sentence in summary:\n",
        "    print(sentence)"
      ]
    },
    {
      "cell_type": "code",
      "source": [
        "# BLEU SCORE and Rouge Score\n",
        "from nltk.translate.bleu_score import corpus_bleu\n",
        "from rouge_score import rouge_scorer\n",
        "\n",
        "allstr = '\\n'.join(str(sentence) for sentence in summary)\n",
        "\n",
        "canidates = [contents.split()]\n",
        "references = [allstr.split()]\n",
        "score = corpus_bleu(references, canidates)\n",
        "print(f'BLEU SCORE:{score}')\n",
        "\n",
        "scorer = rouge_scorer.RougeScorer(['rouge1', 'rougeL'], use_stemmer=True)\n",
        "scores = scorer.score(contents, allstr)\n",
        "print(f'ROUGE SCORE:{scores}')"
      ],
      "metadata": {
        "colab": {
          "base_uri": "https://localhost:8080/"
        },
        "id": "ASycCLP-lfMO",
        "outputId": "9cfed0e9-1fce-4ac1-86c2-961ad065387c"
      },
      "execution_count": null,
      "outputs": [
        {
          "output_type": "stream",
          "name": "stdout",
          "text": [
            "BLEU SCORE:5.1304923275757076e-232\n",
            "ROUGE SCORE:{'rouge1': Score(precision=1.0, recall=0.19175257731958764, fmeasure=0.32179930795847755), 'rougeL': Score(precision=1.0, recall=0.19175257731958764, fmeasure=0.32179930795847755)}\n"
          ]
        },
        {
          "output_type": "stream",
          "name": "stderr",
          "text": [
            "/usr/local/lib/python3.8/dist-packages/nltk/translate/bleu_score.py:552: UserWarning: \n",
            "The hypothesis contains 0 counts of 2-gram overlaps.\n",
            "Therefore the BLEU score evaluates to 0, independently of\n",
            "how many N-gram overlaps of lower order it contains.\n",
            "Consider using lower n-gram order or use SmoothingFunction()\n",
            "  warnings.warn(_msg)\n",
            "/usr/local/lib/python3.8/dist-packages/nltk/translate/bleu_score.py:552: UserWarning: \n",
            "The hypothesis contains 0 counts of 3-gram overlaps.\n",
            "Therefore the BLEU score evaluates to 0, independently of\n",
            "how many N-gram overlaps of lower order it contains.\n",
            "Consider using lower n-gram order or use SmoothingFunction()\n",
            "  warnings.warn(_msg)\n",
            "/usr/local/lib/python3.8/dist-packages/nltk/translate/bleu_score.py:552: UserWarning: \n",
            "The hypothesis contains 0 counts of 4-gram overlaps.\n",
            "Therefore the BLEU score evaluates to 0, independently of\n",
            "how many N-gram overlaps of lower order it contains.\n",
            "Consider using lower n-gram order or use SmoothingFunction()\n",
            "  warnings.warn(_msg)\n"
          ]
        }
      ]
    },
    {
      "cell_type": "markdown",
      "metadata": {
        "id": "ALBX9Zg5HTAO"
      },
      "source": [
        "#### A like-for-like comparison between LexRank, Luhn, Edmundson and LSA using the same test sample below: "
      ]
    },
    {
      "cell_type": "code",
      "execution_count": null,
      "metadata": {
        "colab": {
          "base_uri": "https://localhost:8080/"
        },
        "id": "ZNgDmeasHTAP",
        "outputId": "7be23b2e-e963-44f5-8d24-e97761e6d108"
      },
      "outputs": [
        {
          "output_type": "stream",
          "name": "stdout",
          "text": [
            "--LexRankSummarizer--\n",
            "Purposeful violent conflict\n",
            "Combat( French for fight) is a purposeful violent conflict meant to physically harm or kill the opposition.\n",
            "An instance of combat can be a stand-alone confrontation or a small part of a much larger violent conflict.\n",
            "Combat Motivation in Today's Soldiers: U.S. Army War College Strategic Studies Institute.\"\n",
            "Cohesion during Military Operations: A Field Study on Combat Units in the Al-Aqsa Intifada.\"\n",
            "--LsaSummarizer--\n",
            "Combat( French for fight) is a purposeful violent conflict meant to physically harm or kill the opposition.\n",
            "An instance of combat can be a stand-alone confrontation or a small part of a much larger violent conflict.\n",
            "^ North Atlantic Treaty Organization, NATO Standardization Agency AAP-6 – Glossary of terms and definitions, p. 80\n",
            "Martin van Creveld: The Changing Face of War: Lessons of Combat, from the Marne to Turkey.\n",
            "Combat Motivation in Today's Soldiers: U.S. Army War College Strategic Studies Institute.\"\n",
            "--LuhnSummarizer--\n",
            "Armed Forces & Society, vol.\n",
            "Armed Forces & Society, vol.\n",
            "Armed Forces & Society, Jul 2006; vol.\n",
            "Armed Forces & Society, vol.\n",
            "Armed forces & Society, vol.\n",
            "--EdmundsonSummarizer--\n",
            "Combat( French for fight) is a purposeful violent conflict meant to physically harm or kill the opposition.\n",
            "Instances of combat may also be benign and recreational, as in the cases of combat sports and mock combat.\n",
            "Hand-to-hand combat can be further divided into three sections depending on the distance and positioning of the combatants:\n",
            "Undermining Combat Readiness in the Russian Military, 1992-2005.\"\n",
            "Cohesion during Military Operations: A Field Study on Combat Units in the Al-Aqsa Intifada.\"\n"
          ]
        }
      ],
      "source": [
        "from __future__ import absolute_import\n",
        "from __future__ import division, print_function, unicode_literals\n",
        " \n",
        "from sumy.parsers.html import HtmlParser\n",
        "from sumy.parsers.plaintext import PlaintextParser\n",
        "from sumy.nlp.tokenizers import Tokenizer\n",
        "from sumy.nlp.stemmers import Stemmer\n",
        "from sumy.utils import get_stop_words\n",
        "from sumy.summarizers.lsa import LsaSummarizer \n",
        "from sumy.summarizers.luhn import LuhnSummarizer\n",
        "from sumy.summarizers.lex_rank import LexRankSummarizer\n",
        "from sumy.summarizers.edmundson import EdmundsonSummarizer  \n",
        " \n",
        "LANGUAGE = \"english\"\n",
        "SENTENCES_COUNT = 5\n",
        " \n",
        "# url = \"https://en.wikipedia.org/wiki/Snorkeling\"\n",
        "url = \"https://en.wikipedia.org/wiki/Combat\"\n",
        "parser = HtmlParser.from_url(url, Tokenizer(LANGUAGE))\n",
        "stemmer = Stemmer(LANGUAGE)\n",
        "\n",
        "print (\"--LexRankSummarizer--\")    \n",
        "summarizer = LexRankSummarizer(stemmer)\n",
        "summarizer.stop_words = get_stop_words(LANGUAGE)\n",
        "for sentence1 in summarizer(parser.document, SENTENCES_COUNT):\n",
        "    print(sentence1)\n",
        "\n",
        "print (\"--LsaSummarizer--\")    \n",
        "summarizer = LsaSummarizer(stemmer)\n",
        "summarizer.stop_words = get_stop_words(LANGUAGE)\n",
        "for sentence2 in summarizer(parser.document, SENTENCES_COUNT):\n",
        "    print(sentence2)\n",
        "         \n",
        "print (\"--LuhnSummarizer--\")   \n",
        "summarizer = LuhnSummarizer(stemmer)\n",
        "summarizer.stop_words = get_stop_words(LANGUAGE)\n",
        "#summarizer.stop_words = (\"I\", \"am\", \"the\", \"you\", \"are\", \"me\", \"is\", \"than\", \"that\", \"this\",)\n",
        "for sentence3 in summarizer(parser.document, SENTENCES_COUNT):\n",
        "    print(sentence3)\n",
        "         \n",
        "print (\"--EdmundsonSummarizer--\")   \n",
        "summarizer = EdmundsonSummarizer(stemmer) \n",
        "summarizer.stop_words = get_stop_words(LANGUAGE) \n",
        "\n",
        "summarizer.bonus_words = (\"greatly\",\"popular\",\"recreational\" )\n",
        "summarizer.stigma_words = (\"slowly\",\"little\")    \n",
        "summarizer.null_words = (\"another\", \"and\", \"or\", \"with\", \"be\", \"from\")\n",
        "for sentence4 in summarizer(parser.document, SENTENCES_COUNT):\n",
        "    print(sentence4)     "
      ]
    },
    {
      "cell_type": "code",
      "source": [
        "# BLEU SCORE and Rouge Score\n",
        "from nltk.translate.bleu_score import corpus_bleu\n",
        "from rouge_score import rouge_scorer\n",
        "\n",
        "allstr = '\\n'.join(str(parser) for parser in summary)\n",
        "contents = '\\n'.join(str(sentence1) for sentence1 in summary)\n",
        "\n",
        "canidates = [contents.split()]\n",
        "references = [allstr.split()]\n",
        "score = corpus_bleu(references, canidates)\n",
        "print(f'BLEU SCORE:{score}')\n",
        "\n",
        "scorer = rouge_scorer.RougeScorer(['rouge1', 'rougeL'], use_stemmer=True)\n",
        "scores = scorer.score(contents, allstr)\n",
        "print(f'ROUGE SCORE:{scores}')"
      ],
      "metadata": {
        "colab": {
          "base_uri": "https://localhost:8080/"
        },
        "id": "KehuDysWnGar",
        "outputId": "abf2b016-f860-4ec8-8897-b7cc0d0d7289"
      },
      "execution_count": null,
      "outputs": [
        {
          "output_type": "stream",
          "name": "stdout",
          "text": [
            "BLEU SCORE:7.720899511627474e-232\n",
            "ROUGE SCORE:{'rouge1': Score(precision=1.0, recall=1.0, fmeasure=1.0), 'rougeL': Score(precision=1.0, recall=1.0, fmeasure=1.0)}\n"
          ]
        }
      ]
    },
    {
      "cell_type": "markdown",
      "metadata": {
        "id": "ApTT3f_SHTAR"
      },
      "source": [
        "#### Observation\n",
        "- LexRank seems give the most concice and coherent summary, closely followed by Edmundson module."
      ]
    },
    {
      "cell_type": "markdown",
      "metadata": {
        "id": "m-rntnevHTAS"
      },
      "source": [
        "### Gensim\n",
        "- Reference: http://ai.intelligentonlinetools.com/ml/text-summarization/\n",
        "### Use Gensim's TextRank"
      ]
    },
    {
      "cell_type": "markdown",
      "metadata": {
        "id": "yLyUp6fIHTAT"
      },
      "source": [
        "#### Install Gensim:\n",
        "\"pip install gensim==3.8.3\"\n",
        "\n",
        "Note: if see the `No module named ‘gensim.summarization` error, refer to https://discuss.streamlit.io/t/no-module-named-gensim-summarization/11780 to resolve.  \n",
        "To continue using gensim.summarization, you will have to downgrade the version of Gensim to gensim==3.8.3 or older."
      ]
    },
    {
      "cell_type": "code",
      "source": [
        "from gensim.summarization.summarizer import summarize\n",
        "from gensim.summarization import keywords\n",
        "import requests"
      ],
      "metadata": {
        "id": "HuwdrMSYKTaC"
      },
      "execution_count": null,
      "outputs": []
    },
    {
      "cell_type": "code",
      "execution_count": null,
      "metadata": {
        "colab": {
          "base_uri": "https://localhost:8080/"
        },
        "id": "DZaSTf-ZHTAT",
        "outputId": "3d6521bf-a338-43af-80ed-7a6e6a059207"
      },
      "outputs": [
        {
          "output_type": "stream",
          "name": "stdout",
          "text": [
            "Summary (a plain text file using Gensim):\n",
            "Robotics, design, construction, and use of machines (robots) to perform tasks done traditionally by human beings.\n",
            "Robots are widely used in such industries as automobile manufacture to perform simple repetitive tasks, and in industries where work must be performed in environments hazardous to humans.\n",
            "Some are even capable of simple decision making, and current robotics research is geared toward devising robots with a degree of self-sufficiency that will permit mobility and decision-making in an unstructured environment.\n",
            "Compared to other artifacts with single functions, robots are expected to perform a variety of tasks, among which communication has an important role.\n",
            "From the viewpoint of biology, human beings can be discriminated from other species by three distinctive features or capabilities.\n",
            "The first two capabilities have been attacked by robotics researchers as challenges in locomotion and manipulation that are the main issues in robotics.\n",
            "However, recent progress of research activities developed by the idea of “embodiment” in behavior-based robotics proposed by Rod Brooks at the MIT AI laboratory in the late 1980s has caused more conceptual issues such as body scheme, body image, self, consciousness, theory of mind, communication, and the emergence of language.\n",
            "Although these issues have been attacked in the existing disciplines such as brain science, neuroscience, cognitive science, and developmental psychology, robotics may project a new light on understanding these issues by constructing artifacts similar to us.\n",
            "Among them, Russell and Norvig's book from 1995 entitled Artificial Intelligence—A Modern Approach gave a good introduction to robotics from the viewpoint of AI.\n",
            "Pfeifer and Scheier's book from 1999 entitled Understanding Intelligence shows a constructive approach to understanding intelligence with a variety of robots from the viewpoint of embodied cognitive science.\n",
            "\n",
            "Keywords:\n",
            "robotics\n",
            "robots\n",
            "robot\n",
            "human\n",
            "humans\n",
            "issues\n",
            "environments\n",
            "environment\n",
            "science\n",
            "use\n",
            "intelligence\n",
            "self\n",
            "approach\n",
            "activities\n",
            "textbooks\n"
          ]
        }
      ],
      "source": [
        "print ('Summary (a plain text file using Gensim):')\n",
        "# Summarize plain text file stored locally\n",
        "fname=\"/content/sample_data/plain_text_sample_sec.txt\"\n",
        "with open(fname, 'r') as myfile:\n",
        "      text=myfile.read()     \n",
        "\n",
        "SUMMARY_RATIO = 0.5 #for small file\n",
        "# note: this is the ratio of summary text to the whole raw text, a tunable hypermater (do tune it to your specifc doc!)\n",
        "#You should change it according to how big the raw text is. \n",
        "#e.g. if raw text is small(<=10 sentences), use ratio>=0.1; \n",
        "#if raw text is big (>100 sentences), use ratio<=0.01\n",
        "KEYWORD_RATIO = 0.1 \n",
        "sum = summarize(text, ratio=SUMMARY_RATIO)\n",
        "print (sum)\n",
        "print ('\\nKeywords:')\n",
        "print (keywords(text, ratio=KEYWORD_RATIO))"
      ]
    },
    {
      "cell_type": "code",
      "source": [
        "# BLEU SCORE and Rouge Score\n",
        "from nltk.translate.bleu_score import corpus_bleu\n",
        "from rouge_score import rouge_scorer\n",
        "\n",
        "# allstr = '\\n'.join(str(parser) for parser in summary)\n",
        "# contents = '\\n'.join(str(sentence1) for sentence1 in summary)\n",
        "\n",
        "canidates = [text.split()]\n",
        "references = [sum.split()]\n",
        "score = corpus_bleu(references, canidates)\n",
        "print(f'BLEU SCORE:{score}')\n",
        "\n",
        "scorer = rouge_scorer.RougeScorer(['rouge1', 'rougeL'], use_stemmer=True)\n",
        "scores = scorer.score(text, sum)\n",
        "print(f'ROUGE SCORE:{scores}')"
      ],
      "metadata": {
        "colab": {
          "base_uri": "https://localhost:8080/"
        },
        "id": "vLBav-KXoohC",
        "outputId": "710e437c-b130-4662-af88-0e1e1fcd64a2"
      },
      "execution_count": null,
      "outputs": [
        {
          "output_type": "stream",
          "name": "stdout",
          "text": [
            "BLEU SCORE:5.1304923275757076e-232\n",
            "ROUGE SCORE:{'rouge1': Score(precision=1.0, recall=0.5876288659793815, fmeasure=0.7402597402597402), 'rougeL': Score(precision=1.0, recall=0.5876288659793815, fmeasure=0.7402597402597402)}\n"
          ]
        },
        {
          "output_type": "stream",
          "name": "stderr",
          "text": [
            "/usr/local/lib/python3.8/dist-packages/nltk/translate/bleu_score.py:552: UserWarning: \n",
            "The hypothesis contains 0 counts of 2-gram overlaps.\n",
            "Therefore the BLEU score evaluates to 0, independently of\n",
            "how many N-gram overlaps of lower order it contains.\n",
            "Consider using lower n-gram order or use SmoothingFunction()\n",
            "  warnings.warn(_msg)\n",
            "/usr/local/lib/python3.8/dist-packages/nltk/translate/bleu_score.py:552: UserWarning: \n",
            "The hypothesis contains 0 counts of 3-gram overlaps.\n",
            "Therefore the BLEU score evaluates to 0, independently of\n",
            "how many N-gram overlaps of lower order it contains.\n",
            "Consider using lower n-gram order or use SmoothingFunction()\n",
            "  warnings.warn(_msg)\n",
            "/usr/local/lib/python3.8/dist-packages/nltk/translate/bleu_score.py:552: UserWarning: \n",
            "The hypothesis contains 0 counts of 4-gram overlaps.\n",
            "Therefore the BLEU score evaluates to 0, independently of\n",
            "how many N-gram overlaps of lower order it contains.\n",
            "Consider using lower n-gram order or use SmoothingFunction()\n",
            "  warnings.warn(_msg)\n"
          ]
        }
      ]
    },
    {
      "cell_type": "code",
      "execution_count": null,
      "metadata": {
        "colab": {
          "base_uri": "https://localhost:8080/"
        },
        "id": "HNU9LmFQHTAU",
        "outputId": "1479e377-6223-4949-a75b-0299180a1892"
      },
      "outputs": [
        {
          "output_type": "stream",
          "name": "stdout",
          "text": [
            "Summary (an online article using Gensim & web scraping using beautifulsoup):\n",
            "wiki article title is:Deep learning - Wikipedia, Its text is:\n",
            "Deep learning  (also known as deep structured learning) is part of a broader family of machine learn...\n",
            "Wiki Summary:\n",
            "Deep-learning architectures such as deep neural networks, deep belief networks, deep reinforcement learning, recurrent neural networks,  convolutional neural networks and Transformers have been applied to fields including computer vision, speech recognition, natural language processing, machine translation, bioinformatics, drug design, medical image analysis, climate science, material inspection and board game programs, where they have produced results comparable to and in some cases surpassing human expert performance.[3][4][5]\n",
            "The first general, working learning algorithm for supervised, deep, feedforward, multilayer perceptrons was published by Alexey Ivakhnenko and Lapa in 1967.[26] A 1971 paper described a deep network with eight layers trained by the group method of data handling.[27] Other deep learning working architectures, specifically those built for computer vision, began with the Neocognitron introduced by Kunihiko Fukushima in 1980.[28]\n",
            "Both shallow and deep learning (e.g., recurrent nets) of ANNs have been explored for many years.[46][47][48] These methods never outperformed non-uniform internal-handcrafting Gaussian mixture model/Hidden Markov model (GMM-HMM) technology based on generative models of speech trained discriminatively.[49] Key difficulties have been analyzed, including gradient diminishing[43] and weak temporal correlation structure in neural predictive models.[50][51] Additional difficulties were the lack of training data and limited computing power.\n",
            "Results on commonly used evaluation sets such as TIMIT (ASR) and MNIST (image classification), as well as a range of large-vocabulary speech recognition tasks have steadily improved.[64][65] Convolutional neural networks (CNNs) were superseded for ASR by CTC[57] for LSTM.[55][59][66][67][68] but are more successful in computer vision.\n",
            "The 2009 NIPS Workshop on Deep Learning for Speech Recognition was motivated by the limitations of deep generative models of speech, and the possibility that given more capable hardware and large-scale data sets that deep neural nets (DNN) might become practical.\n",
            "However, it was discovered that replacing pre-training with large amounts of training data for straightforward backpropagation when using DNNs with large, context-dependent output layers produced error rates dramatically lower than then-state-of-the-art Gaussian mixture model (GMM)/Hidden Markov Model (HMM) and also than more-advanced generative model-based systems.[64] The nature of the recognition errors produced by the two types of systems was characteristically different,[70] offering technical insights into how to integrate deep learning into the existing highly efficient, run-time speech decoding system deployed by all major speech recognition systems.[8][71][72] Analysis around 2009–2010, contrasting the GMM (and other generative speech models) vs.\n",
            "A deep neural network (DNN) is an artificial neural network (ANN) with multiple layers between the input and output layers.[9][12] There are different types of neural networks but they always consist of the same components: neurons, synapses, weights, biases, and functions.[98] These components as a whole function similarly to a human brain, and can be trained like any other ML algorithm.[citation needed]\n",
            "\n",
            "Keywords:\n",
            "deep learning\n",
            "learns\n",
            "learn\n",
            "learned\n",
            "image\n",
            "images\n",
            "imaging\n",
            "layers\n",
            "layer\n",
            "layered\n",
            "models\n",
            "model\n",
            "modeling\n",
            "\n"
          ]
        }
      ],
      "source": [
        "print ('Summary (an online article using Gensim & web scraping using beautifulsoup):')   \n",
        "#getting text document from web, below function based from 3\n",
        "from bs4 import BeautifulSoup\n",
        "from urllib.request import urlopen\n",
        "#from urllib2 import urlopen #obselte Python2, The urllib2 module has been split across several modules in Python3 \n",
        "#named urllib.request and urllib.error!\n",
        "\n",
        "def get_only_text(url):\n",
        " \"\"\" \n",
        "     return the title and the text of the article at the specified url\n",
        " \"\"\"\n",
        " page = urlopen(url)\n",
        " soup = BeautifulSoup(page, \"lxml\")\n",
        " text = ' '.join(map(lambda p: p.text, soup.find_all('p')))#Python map() iterates every element of an iterable \n",
        " return soup.title.text, text    \n",
        "\n",
        "# url = \"https://en.wikipedia.org/wiki/Snorkeling\"\n",
        "url=\"https://en.wikipedia.org/wiki/Deep_learning\"\n",
        "title, text = get_only_text(url)\n",
        "print(f'wiki article title is:{title}, Its text is:\\n{text[:100]}...')\n",
        "#print(' '.join(text))\n",
        "SUMMARY_RATIO = 0.03 #a tunable hypermater \n",
        "KEYWORD_RATIO = 0.001\n",
        "print('Wiki Summary:')\n",
        "sum = summarize(title+text, ratio=SUMMARY_RATIO)\n",
        "print (sum)\n",
        "print ('\\nKeywords:') \n",
        "print (keywords(str(text), ratio=SUMMARY_RATIO)[:99])"
      ]
    },
    {
      "cell_type": "code",
      "source": [
        "# BLEU SCORE and Rouge Score\n",
        "from nltk.translate.bleu_score import corpus_bleu\n",
        "from rouge_score import rouge_scorer\n",
        "\n",
        "# allstr = '\\n'.join(str(parser) for parser in summary)\n",
        "# contents = '\\n'.join(str(sentence1) for sentence1 in summary)\n",
        "\n",
        "canidates = [(title+text).split()]\n",
        "references = [sum.split()]\n",
        "score = corpus_bleu(references, canidates)\n",
        "print(f'BLEU SCORE:{score}')\n",
        "\n",
        "scorer = rouge_scorer.RougeScorer(['rouge1', 'rougeL'], use_stemmer=True)\n",
        "scores = scorer.score((title+text), sum)\n",
        "print(f'ROUGE SCORE:{scores}')"
      ],
      "metadata": {
        "colab": {
          "base_uri": "https://localhost:8080/"
        },
        "id": "8A275fTMqE6r",
        "outputId": "d852d988-26d8-4bfb-d965-cdde2a436a8e"
      },
      "execution_count": null,
      "outputs": [
        {
          "output_type": "stream",
          "name": "stderr",
          "text": [
            "/usr/local/lib/python3.8/dist-packages/nltk/translate/bleu_score.py:552: UserWarning: \n",
            "The hypothesis contains 0 counts of 2-gram overlaps.\n",
            "Therefore the BLEU score evaluates to 0, independently of\n",
            "how many N-gram overlaps of lower order it contains.\n",
            "Consider using lower n-gram order or use SmoothingFunction()\n",
            "  warnings.warn(_msg)\n",
            "/usr/local/lib/python3.8/dist-packages/nltk/translate/bleu_score.py:552: UserWarning: \n",
            "The hypothesis contains 0 counts of 3-gram overlaps.\n",
            "Therefore the BLEU score evaluates to 0, independently of\n",
            "how many N-gram overlaps of lower order it contains.\n",
            "Consider using lower n-gram order or use SmoothingFunction()\n",
            "  warnings.warn(_msg)\n",
            "/usr/local/lib/python3.8/dist-packages/nltk/translate/bleu_score.py:552: UserWarning: \n",
            "The hypothesis contains 0 counts of 4-gram overlaps.\n",
            "Therefore the BLEU score evaluates to 0, independently of\n",
            "how many N-gram overlaps of lower order it contains.\n",
            "Consider using lower n-gram order or use SmoothingFunction()\n",
            "  warnings.warn(_msg)\n"
          ]
        },
        {
          "output_type": "stream",
          "name": "stdout",
          "text": [
            "BLEU SCORE:3.235229487165337e-232\n",
            "ROUGE SCORE:{'rouge1': Score(precision=0.8105263157894737, recall=0.030771280138537364, fmeasure=0.059291581108829566), 'rougeL': Score(precision=0.4245614035087719, recall=0.016118289596376716, fmeasure=0.031057494866529773)}\n"
          ]
        }
      ]
    },
    {
      "cell_type": "markdown",
      "source": [
        "## Summary of Extractive Summarization"
      ],
      "metadata": {
        "id": "b8L0WoQWQZSV"
      }
    },
    {
      "cell_type": "markdown",
      "source": [
        " For extractive summarization:   \n",
        "    -> Two out-of-box models look promising: Sumy’s LexRank and Gensim’s TextRank.  Try both for any specific domain/project first, and do check out others and do fine tune key hyperparameters (SENTENCES_COUNT), SUMMARY_RATIO)   \n",
        "    -> Data sets for extractive summarization training:\n",
        "        Opinosis dataset\n",
        "        DUC 2002 dataset"
      ],
      "metadata": {
        "id": "CGTnJh6OQiFb"
      }
    },
    {
      "cell_type": "markdown",
      "source": [
        "# Abstractive Summarization:"
      ],
      "metadata": {
        "id": "kudeTzXgRgm9"
      }
    },
    {
      "cell_type": "code",
      "source": [
        "!pip install transformers"
      ],
      "metadata": {
        "colab": {
          "base_uri": "https://localhost:8080/"
        },
        "id": "G3bteWaURrTG",
        "outputId": "78df10ce-ecce-42b8-9a6a-3d2287253dd5"
      },
      "execution_count": null,
      "outputs": [
        {
          "output_type": "stream",
          "name": "stdout",
          "text": [
            "Looking in indexes: https://pypi.org/simple, https://us-python.pkg.dev/colab-wheels/public/simple/\n",
            "Requirement already satisfied: transformers in /usr/local/lib/python3.8/dist-packages (4.25.1)\n",
            "Requirement already satisfied: pyyaml>=5.1 in /usr/local/lib/python3.8/dist-packages (from transformers) (6.0)\n",
            "Requirement already satisfied: tokenizers!=0.11.3,<0.14,>=0.11.1 in /usr/local/lib/python3.8/dist-packages (from transformers) (0.13.2)\n",
            "Requirement already satisfied: tqdm>=4.27 in /usr/local/lib/python3.8/dist-packages (from transformers) (4.64.1)\n",
            "Requirement already satisfied: regex!=2019.12.17 in /usr/local/lib/python3.8/dist-packages (from transformers) (2022.6.2)\n",
            "Requirement already satisfied: packaging>=20.0 in /usr/local/lib/python3.8/dist-packages (from transformers) (21.3)\n",
            "Requirement already satisfied: requests in /usr/local/lib/python3.8/dist-packages (from transformers) (2.25.1)\n",
            "Requirement already satisfied: filelock in /usr/local/lib/python3.8/dist-packages (from transformers) (3.8.2)\n",
            "Requirement already satisfied: huggingface-hub<1.0,>=0.10.0 in /usr/local/lib/python3.8/dist-packages (from transformers) (0.11.1)\n",
            "Requirement already satisfied: numpy>=1.17 in /usr/local/lib/python3.8/dist-packages (from transformers) (1.21.6)\n",
            "Requirement already satisfied: typing-extensions>=3.7.4.3 in /usr/local/lib/python3.8/dist-packages (from huggingface-hub<1.0,>=0.10.0->transformers) (4.4.0)\n",
            "Requirement already satisfied: pyparsing!=3.0.5,>=2.0.2 in /usr/local/lib/python3.8/dist-packages (from packaging>=20.0->transformers) (3.0.9)\n",
            "Requirement already satisfied: certifi>=2017.4.17 in /usr/local/lib/python3.8/dist-packages (from requests->transformers) (2022.12.7)\n",
            "Requirement already satisfied: urllib3<1.27,>=1.21.1 in /usr/local/lib/python3.8/dist-packages (from requests->transformers) (1.24.3)\n",
            "Requirement already satisfied: idna<3,>=2.5 in /usr/local/lib/python3.8/dist-packages (from requests->transformers) (2.10)\n",
            "Requirement already satisfied: chardet<5,>=3.0.2 in /usr/local/lib/python3.8/dist-packages (from requests->transformers) (4.0.0)\n"
          ]
        }
      ]
    },
    {
      "cell_type": "code",
      "source": [
        "from IPython import display \n",
        "from transformers import EncoderDecoderModel, AutoTokenizer\n",
        "from transformers import T5ForConditionalGeneration, T5Tokenizer\n",
        "from transformers import AutoModelWithLMHead\n",
        "import warnings\n",
        "warnings.filterwarnings('ignore')"
      ],
      "metadata": {
        "id": "Z6OJid_TR04l"
      },
      "execution_count": null,
      "outputs": []
    },
    {
      "cell_type": "markdown",
      "metadata": {
        "id": "tobIOXYuHfC9"
      },
      "source": [
        "## Abstractive Summarization - A Deep Learning Approach\n",
        "\n"
      ]
    },
    {
      "cell_type": "markdown",
      "metadata": {
        "id": "RVqB-JHCHfDB"
      },
      "source": [
        "### T5 Model (Text-To-Text Transfer Transformer)\n",
        "\n",
        "- T5 model which was released by google research. It proposes **reframing ALL NLP tasks as an input-text-to-output-text formulation**  \n",
        "\n",
        "\n",
        "**'Transfer Learning'**?   \n",
        "- **\"Transfer learning, where a model is first pre-trained on a data-rich task before being fine-tuned on a downstream task, has emerged as a powerful technique in natural language processing (NLP). The effectiveness of transfer learning has given rise to a diversity of approaches, methodology, and practice...\"**  \n",
        "  \n",
        "\n",
        "\n"
      ]
    },
    {
      "cell_type": "markdown",
      "metadata": {
        "id": "mfp33TAeHfDD"
      },
      "source": []
    },
    {
      "cell_type": "code",
      "execution_count": null,
      "metadata": {
        "id": "1b6KcMqLHfDH"
      },
      "outputs": [],
      "source": [
        "def create_summary(model, tokenizer, text, max_length=512, min_length=30, length_penalty=5.0, repetition_penalty=5.0, num_beams=3):\n",
        "\n",
        "    inputs = tokenizer.encode(\"summarize: \" + text, return_tensors=\"pt\", max_length=max_length, truncation=True)\n",
        "    outputs = model.generate(\n",
        "        inputs, \n",
        "        max_length=max_length, \n",
        "        min_length=min_length, \n",
        "        length_penalty=length_penalty,\n",
        "        repetition_penalty=repetition_penalty,\n",
        "        num_beams=num_beams, \n",
        "        early_stopping=True)\n",
        "    print(tokenizer.decode(outputs[0]))"
      ]
    },
    {
      "cell_type": "markdown",
      "metadata": {
        "id": "jWWcFa8PHfDK"
      },
      "source": [
        "### Test 1: News Summary\n",
        "#### Load a news article random sample to summarize"
      ]
    },
    {
      "cell_type": "code",
      "execution_count": null,
      "metadata": {
        "id": "8RZ2VfZbHfDL"
      },
      "outputs": [],
      "source": [
        "article = \"\"\" A typical example is a humanoid robot, the building of which has been regarded as the final target of robotics for many years, especially in Japan where many robotics researchers have been struggling with making humanoid robots work in our society. Regardless of such efforts, no definition of humanoid robots exists since “robot” itself has no clear definition. From the viewpoint of biology, human beings can be discriminated from other species by three distinctive features or capabilities. They are biped walking, use instrumentation, and have the invention/use of language. The first two capabilities have been attacked by robotics researchers as challenges in locomotion and manipulation that are the main issues in robotics. The third capability has not been considered as within robotics but linguistics. It seems far away from robotics. However, recent progress of research activities developed by the idea of “embodiment” in behavior-based robotics proposed by Rod Brooks at the MIT AI laboratory in the late 1980s has caused more conceptual issues such as body scheme, body image, self, consciousness, theory of mind, communication, and the emergence of language. Although these issues have been attacked in the existing disciplines such as brain science, neuroscience, cognitive science, and developmental psychology, robotics may project a new light on understanding these issues by constructing artifacts similar to us. Thus, robotics covers a broad range of disciplines; therefore it seems very difficult to find comprehensive textbooks to understand the area. Some textbooks focus on the fundamental issues on how to build robots while others focus on a limited area in robotics such as kinematics, dynamics, control, vision, or planning. Among them, Russell and Norvig's book from 1995 entitled Artificial Intelligence—A Modern Approach gave a good introduction to robotics from the viewpoint of AI. Pfeifer and Scheier's book from 1999 entitled Understanding Intelligence shows a constructive approach to understanding intelligence with a variety of robots from the viewpoint of embodied cognitive science. Readers can access resources on the recent activities of robotics around the world through the Web. \"\"\""
      ]
    },
    {
      "cell_type": "markdown",
      "metadata": {
        "id": "xN6x7w6hHfDM"
      },
      "source": [
        "#### T5-Base:"
      ]
    },
    {
      "cell_type": "code",
      "source": [
        "!pip install Sentencepiece\n"
      ],
      "metadata": {
        "colab": {
          "base_uri": "https://localhost:8080/"
        },
        "id": "EyrSBrYFMvpw",
        "outputId": "f381ce55-5e34-4291-a017-4b6d114b76b2"
      },
      "execution_count": null,
      "outputs": [
        {
          "output_type": "stream",
          "name": "stdout",
          "text": [
            "Looking in indexes: https://pypi.org/simple, https://us-python.pkg.dev/colab-wheels/public/simple/\n",
            "Requirement already satisfied: Sentencepiece in /usr/local/lib/python3.8/dist-packages (0.1.97)\n"
          ]
        }
      ]
    },
    {
      "cell_type": "code",
      "execution_count": null,
      "metadata": {
        "colab": {
          "base_uri": "https://localhost:8080/"
        },
        "id": "YEA6oHFHHfDN",
        "outputId": "ef394788-48d5-4b89-d67c-b8c3c301215b"
      },
      "outputs": [
        {
          "output_type": "stream",
          "name": "stdout",
          "text": [
            "<pad> robots can be discriminated from other species by three distinctive features or capabilities. the first two capabilities have been attacked by robotics researchers as challenges in locomotion. the third capability has not been considered as within robotics but linguistics. it seems far away from robotics, and may project a new light on understanding these issues. back to mail online home. back to the page you came from - http://www.cnn.com/reports/embeddedrobotics?v= (versiune<extra_id_1> gra<extra_id_20><extra_id_19></s>\n",
            "None\n"
          ]
        }
      ],
      "source": [
        "tokenizer = T5Tokenizer.from_pretrained(\"t5-base\")\n",
        "model = T5ForConditionalGeneration.from_pretrained(\"t5-base\")\n",
        "sum = create_summary(model, tokenizer, article, 512, 120, 5.5, 5.5, 3)\n",
        "print(sum)"
      ]
    },
    {
      "cell_type": "markdown",
      "metadata": {
        "id": "JBvqyjqwHfDO"
      },
      "source": [
        "#### t5-base-finetuned-summerize-news"
      ]
    },
    {
      "cell_type": "code",
      "execution_count": null,
      "metadata": {
        "colab": {
          "base_uri": "https://localhost:8080/"
        },
        "id": "qeTdZeXEHfDP",
        "outputId": "9f152926-72f3-43a1-f0ab-94e6d9b54ac5"
      },
      "outputs": [
        {
          "output_type": "stream",
          "name": "stdout",
          "text": [
            "<pad> robots can be discriminated from other species by three distinctive features or capabilities. the first two capabilities have been attacked by robotics researchers as challenges in locomotion. the third capability has not been considered as within robotics but linguistics. it seems far away from robotics, and may project a new light on understanding these issues. back to mail online home. back to the page you came from - http://www.cnn.com/reports/embeddedrobotics?v= (versiune<extra_id_1> gra<extra_id_20><extra_id_19></s>\n",
            "None\n"
          ]
        }
      ],
      "source": [
        "tokenizer_t5news = AutoTokenizer.from_pretrained(\"mrm8488/t5-base-finetuned-summarize-news\")\n",
        "model_t5news = AutoModelWithLMHead.from_pretrained('mrm8488/t5-base-finetuned-summarize-news')\n",
        "\n",
        "print(create_summary(model, tokenizer, article, 512, 120, 5.5, 5.5, 3))"
      ]
    },
    {
      "cell_type": "markdown",
      "metadata": {
        "id": "-pnsmDzeHfDP"
      },
      "source": [
        "#### Observation  \n",
        "- Above many 'n' padding can be cleaned up to produce a tidy result   \n",
        "- It looks like for a specific NLP task (e.g. 'text summarization') for a specific domain (e.g. 'news summary' here), the fine-tuned model of news summarisation `t5-base-finetuned-summerize-news` produces a bit better and more concise summary than `T5-Base` model, thanks to the power of transfer learning using this specific news domain training data!  "
      ]
    },
    {
      "cell_type": "markdown",
      "metadata": {
        "id": "Bjvr4sXBHfDQ"
      },
      "source": [
        "### Test 2: Short Text Summary \n",
        "#### Load the same 'canary deployment' sample text for a like-for-like comparison with Extractive Summary"
      ]
    },
    {
      "cell_type": "code",
      "source": [
        "# import os    \n",
        "# from chardet import detect\n",
        "\n",
        "# srcfile = \"/content/sample_data/plain_text_sample_sec.txt\"\n",
        "# trgfile = \"/content/sample_data/plain_text_sample_sec_ENC.txt\"\n",
        "\n",
        "# # get file encoding type\n",
        "# def get_encoding_type(file):\n",
        "#     with open(file, 'rb') as f:\n",
        "#         rawdata = f.read()\n",
        "#     return detect(rawdata)['encoding']\n",
        "\n",
        "# from_codec = get_encoding_type(srcfile)\n",
        "\n",
        "# # add try: except block for reliability\n",
        "# try: \n",
        "#     with open(srcfile, 'r', encoding=from_codec) as f, open(trgfile, 'w', encoding='utf-8') as e:\n",
        "#         text = f.read() # for small files, for big use chunks\n",
        "#         e.write(text)\n",
        "\n",
        "#     os.remove(srcfile) # remove old encoding file\n",
        "#     os.rename(trgfile, srcfile) # rename new encoding\n",
        "# except UnicodeDecodeError:\n",
        "#     print('Decode Error')\n",
        "# except UnicodeEncodeError:\n",
        "#     print('Encode Error')"
      ],
      "metadata": {
        "id": "XT4KyBwvARNb"
      },
      "execution_count": null,
      "outputs": []
    },
    {
      "cell_type": "code",
      "execution_count": null,
      "metadata": {
        "colab": {
          "base_uri": "https://localhost:8080/",
          "height": 140
        },
        "id": "IHhg6yhDHfDQ",
        "outputId": "f2f7f5d7-bd56-4cca-e037-d2766c5ef7aa"
      },
      "outputs": [
        {
          "output_type": "execute_result",
          "data": {
            "text/plain": [
              "\"Robotics, design, construction, and use of machines (robots) to perform tasks done traditionally by human beings. Robots are widely used in such industries as automobile manufacture to perform simple repetitive tasks, and in industries where work must be performed in environments hazardous to humans. Many aspects of robotics involve artificial intelligence; robots may be equipped with the equivalent of human senses such as vision, touch, and the ability to sense temperature. Some are even capable of simple decision making, and current robotics research is geared toward devising robots with a degree of self-sufficiency that will permit mobility and decision-making in an unstructured environment. Today’s industrial robots do not resemble human beings; a robot in human form is called an android.\\nCompared to other artifacts with single functions, robots are expected to perform a variety of tasks, among which communication has an important role. A typical example is a humanoid robot, the building of which has been regarded as the final target of robotics for many years, especially in Japan where many robotics researchers have been struggling with making humanoid robots work in our society. Regardless of such efforts, no definition of humanoid robots exists since “robot” itself has no clear definition. From the viewpoint of biology, human beings can be discriminated from other species by three distinctive features or capabilities. They are biped walking, use instrumentation, and have the invention/use of language. The first two capabilities have been attacked by robotics researchers as challenges in locomotion and manipulation that are the main issues in robotics. The third capability has not been considered as within robotics but linguistics. It seems far away from robotics. However, recent progress of research activities developed by the idea of “embodiment” in behavior-based robotics proposed by Rod Brooks at the MIT AI laboratory in the late 1980s has caused more conceptual issues such as body scheme, body image, self, consciousness, theory of mind, communication, and the emergence of language. Although these issues have been attacked in the existing disciplines such as brain science, neuroscience, cognitive science, and developmental psychology, robotics may project a new light on understanding these issues by constructing artifacts similar to us. Thus, robotics covers a broad range of disciplines; therefore it seems very difficult to find comprehensive textbooks to understand the area. Some textbooks focus on the fundamental issues on how to build robots while others focus on a limited area in robotics such as kinematics, dynamics, control, vision, or planning. Among them, Russell and Norvig's book from 1995 entitled Artificial Intelligence—A Modern Approach gave a good introduction to robotics from the viewpoint of AI. Pfeifer and Scheier's book from 1999 entitled Understanding Intelligence shows a constructive approach to understanding intelligence with a variety of robots from the viewpoint of embodied cognitive science. Readers can access resources on the recent activities of robotics around the world through the Web.\""
            ],
            "application/vnd.google.colaboratory.intrinsic+json": {
              "type": "string"
            }
          },
          "metadata": {},
          "execution_count": 10
        }
      ],
      "source": [
        "with open('/content/sample_data/plain_text_sample_sec.txt', 'r') as f:\n",
        "    text = f.read()\n",
        "text"
      ]
    },
    {
      "cell_type": "markdown",
      "metadata": {
        "id": "iSIVR4aLHfDQ"
      },
      "source": [
        "#### T5-Base"
      ]
    },
    {
      "cell_type": "code",
      "execution_count": null,
      "metadata": {
        "colab": {
          "base_uri": "https://localhost:8080/"
        },
        "id": "5jB2mwbaHfDR",
        "outputId": "ff72b119-d52e-47fc-e918-aa82f22ec3b2"
      },
      "outputs": [
        {
          "output_type": "stream",
          "name": "stdout",
          "text": [
            "<pad> many aspects of robotics involve artificial intelligence. robots may be equipped with the equivalent of human senses such as vision, touch, and the ability to sense temperature. today’s industrial robots do not resemble humans; a robot in human form is called an android. no definition of humanoid robots exists since “robot” itself has no clear definition. back to mail online home. back to the page you came from. click here for all the latest robotic news & updates. read our-rene<extra_id_1><extra_id_20></s>\n",
            "None\n"
          ]
        }
      ],
      "source": [
        "print(create_summary(model, tokenizer, text, 512, 120, 5.5, 5.5, 3))"
      ]
    },
    {
      "cell_type": "markdown",
      "metadata": {
        "id": "3RSdnbJdHfDR"
      },
      "source": [
        "#### t5-base-finetuned-summerize-news"
      ]
    },
    {
      "cell_type": "code",
      "execution_count": null,
      "metadata": {
        "colab": {
          "base_uri": "https://localhost:8080/"
        },
        "id": "kKKD1686HfDR",
        "outputId": "fbb023f5-88ff-4ad6-9d33-9774051e91fb"
      },
      "outputs": [
        {
          "output_type": "stream",
          "name": "stdout",
          "text": [
            "<pad> robotics is the design, construction, and use of machines to perform tasks traditionally done by human beings. While many aspects of robotics involve artificial intelligence, they may be equipped with the equivalent of human senses such as vision, touch, and the ability to sense temperature. Humanoid robots are biped walking, use instrumentation, and have the invention/use of language. However, from the viewpoint of biology, humans can be discriminated from other species by three distinctive features or capabilities. Notably, this capability has not been considered within robotics but linguistics.</s>\n",
            "None\n"
          ]
        }
      ],
      "source": [
        "print(create_summary(model_t5news, tokenizer_t5news, text, 512, 120, 5.5, 5.5, 3))"
      ]
    },
    {
      "cell_type": "markdown",
      "metadata": {
        "id": "Ts8WU4EbHfDS"
      },
      "source": [
        "#### Observation\n",
        "It can be seen that the DL-enabled abstrative summary looks a bit **more natural, more coherent and more like human-writing summary** than the extractive summary! "
      ]
    },
    {
      "cell_type": "markdown",
      "metadata": {
        "id": "OoY71TJNHfDT"
      },
      "source": [
        "### Tips on how to produce an optimal text summary specific to your own text / domain? \n",
        "\n",
        "#### Option 1: Fine Tuning Text Summarization Hyperparameters\n",
        "- As mentioned above, for specific NLP task of text summarization, you can always use those T5 models OOTB  \n",
        "- But if you want to produce possibly the optimal summary result specific to your text data, one option is to fine tune the following T5 hyperprams  \n",
        "- Finding the best values for many hyperprams is often **'dark arts'** in deep learning / artificial neural network. But one of good practices is **'trial and error'**: you can search and experiment until you find something satisfying. For example, if you want to do news summary, run search script as follows.  \n",
        "- max_length\n",
        "- min_length  \n",
        "- length_penalty\n",
        "- repetition_penalty"
      ]
    },
    {
      "cell_type": "code",
      "execution_count": null,
      "metadata": {
        "scrolled": true,
        "colab": {
          "base_uri": "https://localhost:8080/"
        },
        "id": "2llZA4K1HfDV",
        "outputId": "a16fad9d-a65b-4ae6-c40f-0549e411fdac"
      },
      "outputs": [
        {
          "output_type": "stream",
          "name": "stdout",
          "text": [
            "<pad> no definition of humanoid robots exists since \"robot\" itself has no clear definition. human beings can be discriminated from other species by three distinctive features or capabilities. three capabilities have not been considered as within robotics but linguistics. humanoid robots have been a target of robotics research for many years.</s>\n",
            "CPU times: user 9.87 s, sys: 370 ms, total: 10.2 s\n",
            "Wall time: 10.2 s\n",
            "Experiment with length_penalty:0.5, repetition_penalty:0.5, max_length: 256, min_length:60: None\n",
            "<pad> no definition of humanoid robots exists since \"robot\" itself has no clear definition. human beings can be discriminated from other species by three distinctive features or capabilities. three capabilities have not been considered as within robotics but linguistics. humanoid robots have been a target of robotics research for many years. humanoid robots have been a target of many robotics researchers for years but no clear definition exists. a humanoid robot is a humano...</s>\n",
            "CPU times: user 17.2 s, sys: 530 ms, total: 17.7 s\n",
            "Wall time: 18.5 s\n",
            "Experiment with length_penalty:0.5, repetition_penalty:0.5, max_length: 256, min_length:120: None\n",
            "<pad> no definition of humanoid robots exists since \"robot\" itself has no clear definition. human beings can be discriminated from other species by three distinctive features or capabilities. three capabilities have not been considered as within robotics but linguistics. humanoid robots have been a target of robotics research for many years. humanoid robots have been a target of many robotics researchers for years but no clear definition exists. a humanoid robot is a humano...............................................                  \" \" \" \" \" \" \" \" \" \" \" \" \" \" \"</s>\n",
            "CPU times: user 31.5 s, sys: 752 ms, total: 32.3 s\n",
            "Wall time: 32.2 s\n",
            "Experiment with length_penalty:0.5, repetition_penalty:0.5, max_length: 256, min_length:240: None\n",
            "<pad> a humanoid robot has been regarded as the final target of robotics for many years. many robotics researchers have been struggling with making humanoid robots work in our society. many textbooks focus on the fundamental issues on how to build robots while others focus on a limited area in robotics.</s>\n",
            "CPU times: user 11.7 s, sys: 269 ms, total: 11.9 s\n",
            "Wall time: 11.9 s\n",
            "Experiment with length_penalty:0.5, repetition_penalty:0.5, max_length: 512, min_length:60: None\n",
            "<pad> a humanoid robot has been regarded as the final target of robotics for many years. many robotics researchers have been struggling with making humanoid robots work in our society. many textbooks focus on the fundamental issues on how to build robots while others focus on a limited area in robotics. many robotics textbooks focus on the fundamental issues on how to build robots while others focus on a limited area in robotics. a spokesman for the u.s. government...</s>\n",
            "CPU times: user 18.2 s, sys: 332 ms, total: 18.5 s\n",
            "Wall time: 18.5 s\n",
            "Experiment with length_penalty:0.5, repetition_penalty:0.5, max_length: 512, min_length:120: None\n",
            "<pad> a humanoid robot has been regarded as the final target of robotics for many years. many robotics researchers have been struggling with making humanoid robots work in our society. many textbooks focus on the fundamental issues on how to build robots while others focus on a limited area in robotics. many robotics textbooks focus on the fundamental issues on how to build robots while others focus on a limited area in robotics. a spokesman for the u.s. government............................................                                      </s>\n",
            "CPU times: user 36.4 s, sys: 855 ms, total: 37.2 s\n",
            "Wall time: 37.2 s\n",
            "Experiment with length_penalty:0.5, repetition_penalty:0.5, max_length: 512, min_length:240: None\n",
            "<pad> a humanoid robot has been regarded as the final target of robotics for many years. many robotics researchers have been struggling with making humanoid robots work in our society. many textbooks focus on the fundamental issues on how to build robots while others focus on a limited area in robotics.</s>\n",
            "CPU times: user 11.5 s, sys: 265 ms, total: 11.8 s\n",
            "Wall time: 11.7 s\n",
            "Experiment with length_penalty:0.5, repetition_penalty:0.5, max_length: 1024, min_length:60: None\n",
            "<pad> a humanoid robot has been regarded as the final target of robotics for many years. many robotics researchers have been struggling with making humanoid robots work in our society. many textbooks focus on the fundamental issues on how to build robots while others focus on a limited area in robotics. many robotics textbooks focus on the fundamental issues on how to build robots while others focus on a limited area in robotics. a spokesman for the u.s. government...</s>\n",
            "CPU times: user 18.3 s, sys: 409 ms, total: 18.7 s\n",
            "Wall time: 18.7 s\n",
            "Experiment with length_penalty:0.5, repetition_penalty:0.5, max_length: 1024, min_length:120: None\n",
            "<pad> a humanoid robot has been regarded as the final target of robotics for many years. many robotics researchers have been struggling with making humanoid robots work in our society. many textbooks focus on the fundamental issues on how to build robots while others focus on a limited area in robotics. many robotics textbooks focus on the fundamental issues on how to build robots while others focus on a limited area in robotics. a spokesman for the u.s. government............................................                                      </s>\n",
            "CPU times: user 36.4 s, sys: 881 ms, total: 37.3 s\n",
            "Wall time: 37.2 s\n",
            "Experiment with length_penalty:0.5, repetition_penalty:0.5, max_length: 1024, min_length:240: None\n",
            "<pad> no definition of humanoid robots exists since \"robot\" itself has no clear definition. biped walking, use instrumentation, and have the invention/use of language. the first two capabilities have been attacked by robotics researchers as challenges in locomotion. the third capability has not been considered as within robotics but linguistics.</s>\n",
            "CPU times: user 10 s, sys: 137 ms, total: 10.1 s\n",
            "Wall time: 10.2 s\n",
            "Experiment with length_penalty:0.5, repetition_penalty:1.0, max_length: 256, min_length:60: None\n",
            "<pad> no definition of humanoid robots exists since \"robot\" itself has no clear definition. biped walking, use instrumentation, and have the invention/use of language. the first two capabilities have been attacked by robotics researchers as challenges in locomotion. the third capability has not been considered as within robotics but as within linguistics. the third capability has not been considered as within robotics but linguistics. a humanoid robot can be discriminated from other species by three distinctive features versiuneversiune versiuneversiune</s>\n",
            "CPU times: user 15.2 s, sys: 244 ms, total: 15.4 s\n",
            "Wall time: 15.4 s\n",
            "Experiment with length_penalty:0.5, repetition_penalty:1.0, max_length: 256, min_length:120: None\n",
            "<pad> no definition of humanoid robots exists since \"robot\" itself has no clear definition. biped walking, use instrumentation, and have the invention/use of language. the first two capabilities have been attacked by robotics researchers as challenges in locomotion. the third capability has not been considered as within robotics but as within linguistics. the third capability has not been considered as within robotics but linguistics. a humanoid robot can be discriminated from other species by three distinctive features versiuneversiune versiune versiune versiune versiune versiune versiune. <extra_id_1> <extra_id_1> <extra_id_1> <extra_id_1> <extra_id_1> <extra_id_1> <extra_id_1> <extra_id_1> <extra_id_1> <extra_id_1>.......... .......... ....................... </s>\n",
            "CPU times: user 31.3 s, sys: 649 ms, total: 32 s\n",
            "Wall time: 31.9 s\n",
            "Experiment with length_penalty:0.5, repetition_penalty:1.0, max_length: 256, min_length:240: None\n",
            "<pad> a typical example is a humanoid robot, which has been regarded as the final target of robotics for many years. no definition of humanoid robots exists since \"robot\" itself has no clear definition. the third capability has not been considered as within robotics but linguistics.</s>\n",
            "CPU times: user 17 s, sys: 450 ms, total: 17.4 s\n",
            "Wall time: 20.6 s\n",
            "Experiment with length_penalty:0.5, repetition_penalty:1.0, max_length: 512, min_length:60: None\n",
            "<pad> a typical example is a humanoid robot, which has been regarded as the final target of robotics for many years. no definition of humanoid robots exists since \"robot\" itself has no clear definition. the third capability has not been considered as within robotics but linguistics. robotics may project a new light on understanding these issues by constructing artifacts similar to us, argues dr. robert mcdonald. mc <extra_id_1> <extra_id_1> <extra_id_1></s>\n",
            "CPU times: user 18.1 s, sys: 424 ms, total: 18.6 s\n",
            "Wall time: 18.5 s\n",
            "Experiment with length_penalty:0.5, repetition_penalty:1.0, max_length: 512, min_length:120: None\n",
            "<pad> a typical example is a humanoid robot, which has been regarded as the final target of robotics for many years. no definition of humanoid robots exists since \"robot\" itself has no clear definition. the third capability has not been considered as within robotics but linguistics. robotics may project a new light on understanding these issues by constructing artifacts similar to us, argues dr. robert mcdonald. mc <extra_id_1> <extra_id_1> <extra_id_1> <extra_id_1> <extra_id_1> <extra_id_1> <extra_id_1> <extra_id_1> <extra_id_1> <extra_id_1> <extra_id_1> <extra_id_1> <extra_id_1> <extra_id_1> <extra_id_1> <extra_id_1> <extra_id_1> <extra_id_1> <extra_id_1> <extra_id_1> <extra_id_1> <extra_id_1> <extra_id_1> <extra_id_1> <extra_id_1> <extra_id_1> <extra_id_1> <extra_id_1> <extra_id_1> <extra_id_1> <extra_id_1> \" \" \" \" \" \" \" \" \" \" \" \" \" \" \" \" \" \" \" \" \" \" \" \" \" \" \" \" \"</s>\n",
            "CPU times: user 36.5 s, sys: 1.03 s, total: 37.6 s\n",
            "Wall time: 37.5 s\n",
            "Experiment with length_penalty:0.5, repetition_penalty:1.0, max_length: 512, min_length:240: None\n",
            "<pad> a typical example is a humanoid robot, which has been regarded as the final target of robotics for many years. no definition of humanoid robots exists since \"robot\" itself has no clear definition. the third capability has not been considered as within robotics but linguistics.</s>\n",
            "CPU times: user 14.3 s, sys: 303 ms, total: 14.6 s\n",
            "Wall time: 14.6 s\n",
            "Experiment with length_penalty:0.5, repetition_penalty:1.0, max_length: 1024, min_length:60: None\n",
            "<pad> a typical example is a humanoid robot, which has been regarded as the final target of robotics for many years. no definition of humanoid robots exists since \"robot\" itself has no clear definition. the third capability has not been considered as within robotics but linguistics. robotics may project a new light on understanding these issues by constructing artifacts similar to us, argues dr. robert mcdonald. mc <extra_id_1> <extra_id_1> <extra_id_1></s>\n",
            "CPU times: user 18.1 s, sys: 374 ms, total: 18.5 s\n",
            "Wall time: 18.4 s\n",
            "Experiment with length_penalty:0.5, repetition_penalty:1.0, max_length: 1024, min_length:120: None\n",
            "<pad> a typical example is a humanoid robot, which has been regarded as the final target of robotics for many years. no definition of humanoid robots exists since \"robot\" itself has no clear definition. the third capability has not been considered as within robotics but linguistics. robotics may project a new light on understanding these issues by constructing artifacts similar to us, argues dr. robert mcdonald. mc <extra_id_1> <extra_id_1> <extra_id_1> <extra_id_1> <extra_id_1> <extra_id_1> <extra_id_1> <extra_id_1> <extra_id_1> <extra_id_1> <extra_id_1> <extra_id_1> <extra_id_1> <extra_id_1> <extra_id_1> <extra_id_1> <extra_id_1> <extra_id_1> <extra_id_1> <extra_id_1> <extra_id_1> <extra_id_1> <extra_id_1> <extra_id_1> <extra_id_1> <extra_id_1> <extra_id_1> <extra_id_1> <extra_id_1> <extra_id_1> <extra_id_1> \" \" \" \" \" \" \" \" \" \" \" \" \" \" \" \" \" \" \" \" \" \" \" \" \" \" \" \" \"</s>\n",
            "CPU times: user 36.6 s, sys: 973 ms, total: 37.6 s\n",
            "Wall time: 38.2 s\n",
            "Experiment with length_penalty:0.5, repetition_penalty:1.0, max_length: 1024, min_length:240: None\n",
            "<pad> no definition of humanoid robots exists since \"robot\" itself has no clear definition. biped walking, use instrumentation, and have the invention/use of language are distinctive features. third capability has not been considered as within robotics but linguistics.</s>\n",
            "CPU times: user 10.1 s, sys: 155 ms, total: 10.2 s\n",
            "Wall time: 10.2 s\n",
            "Experiment with length_penalty:0.5, repetition_penalty:5.5, max_length: 256, min_length:60: None\n",
            "<pad> no definition of humanoid robots exists since \"robot\" itself has no clear definition. biped walking, use instrumentation, and have the invention/use of language are distinctive features. third capability has not been considered as within robotics but linguistics. body scheme, body image, self, consciousness, theory of mind, communication among other issues raised by recent research. back to mail online home » open source projects » in which you can learn more about our world through your own eyes or with others' opinions.<extra_id_1> n-graw<extra_id_20></s>\n",
            "CPU times: user 15.1 s, sys: 229 ms, total: 15.4 s\n",
            "Wall time: 15.4 s\n",
            "Experiment with length_penalty:0.5, repetition_penalty:5.5, max_length: 256, min_length:120: None\n",
            "<pad> no definition of humanoid robots exists since \"robot\" itself has no clear definition. biped walking, use instrumentation, and have the invention/use of language are distinctive features. third capability has not been considered as within robotics but linguistics. body scheme, body image, self, consciousness, theory of mind, communication among other issues raised by recent research. back to mail online home » open source projects » in which you can learn more about our world through your own eyes or with others' opinions.<extra_id_1> n-graw­l<extra_id_19><extra_id_20><extra_id_10> (hr anec<extra_id_5><extra_id_7> depa sire also proversiune<extra_id_26> exexal second last<extra_id_3> on topthy<extra_id_17> lexer for lack fikly<extra_id_25><unk> (*matur[_in»; lafen I&# $ des miumenting cupronic root un nou ensemble bas...--- benacvigi: amnes it br [?“ “– = „” dis) me pear 1 2nd best * + services service tubies is hard soft mot (\",\"+ facial muscles muscle foam ballist] --</s>\n",
            "CPU times: user 31.1 s, sys: 716 ms, total: 31.9 s\n",
            "Wall time: 31.8 s\n",
            "Experiment with length_penalty:0.5, repetition_penalty:5.5, max_length: 256, min_length:240: None\n",
            "<pad> robots can be discriminated from other species by three distinctive features or capabilities. the first two capabilities have been attacked by robotics researchers as challenges in locomotion. the third capability has not been considered as within robotics but linguistics. it seems far away from robotics, and may project a new light on understanding these issues.</s>\n",
            "CPU times: user 11.9 s, sys: 329 ms, total: 12.2 s\n",
            "Wall time: 12.2 s\n",
            "Experiment with length_penalty:0.5, repetition_penalty:5.5, max_length: 512, min_length:60: None\n",
            "<pad> robots can be discriminated from other species by three distinctive features or capabilities. the first two capabilities have been attacked by robotics researchers as challenges in locomotion. the third capability has not been considered as within robotics but linguistics. it seems far away from robotics, and may project a new light on understanding these issues. back to mail online home. back to the page you came from - http://www.cnn.com/reports/embeddedrobotics?v= (versiune<extra_id_1> gra<extra_id_20><extra_id_19></s>\n",
            "CPU times: user 18.3 s, sys: 435 ms, total: 18.7 s\n",
            "Wall time: 18.7 s\n",
            "Experiment with length_penalty:0.5, repetition_penalty:5.5, max_length: 512, min_length:120: None\n",
            "<pad> robots can be discriminated from other species by three distinctive features or capabilities. the first two capabilities have been attacked by robotics researchers as challenges in locomotion. the third capability has not been considered as within robotics but linguistics. it seems far away from robotics, and may project a new light on understanding these issues. back to mail online home. back to the page you came from - http://www.cnn.com/reports/embeddedrobotics?v= (versiune<extra_id_1> graw<extra_id_20><extra_id_19><extra_id_10> \"hrtli­<extra_id_5><extra_id_7> an exex dep'<extra_id_26><extra_id_3> also for of<extra_id_25> last second(*»\" lethaly pro fidly si<unk> &in[_---) top basing solid<extra_id_17> root unxenatur cument mai nou quushi mi amnes pour favor encourage promote lack her she fond I former -- des ensemble se... [knicer disprognacigiulif = no $$;: *# #f+ + 1 22 3 “1],\" we will is hard muscle muscles facial tub spa</s>\n",
            "CPU times: user 36.2 s, sys: 995 ms, total: 37.2 s\n",
            "Wall time: 37.2 s\n",
            "Experiment with length_penalty:0.5, repetition_penalty:5.5, max_length: 512, min_length:240: None\n",
            "<pad> robots can be discriminated from other species by three distinctive features or capabilities. the first two capabilities have been attacked by robotics researchers as challenges in locomotion. the third capability has not been considered as within robotics but linguistics. it seems far away from robotics, and may project a new light on understanding these issues.</s>\n",
            "CPU times: user 11.9 s, sys: 288 ms, total: 12.2 s\n",
            "Wall time: 12.2 s\n",
            "Experiment with length_penalty:0.5, repetition_penalty:5.5, max_length: 1024, min_length:60: None\n",
            "<pad> robots can be discriminated from other species by three distinctive features or capabilities. the first two capabilities have been attacked by robotics researchers as challenges in locomotion. the third capability has not been considered as within robotics but linguistics. it seems far away from robotics, and may project a new light on understanding these issues. back to mail online home. back to the page you came from - http://www.cnn.com/reports/embeddedrobotics?v= (versiune<extra_id_1> gra<extra_id_20><extra_id_19></s>\n",
            "CPU times: user 18.2 s, sys: 449 ms, total: 18.6 s\n",
            "Wall time: 18.6 s\n",
            "Experiment with length_penalty:0.5, repetition_penalty:5.5, max_length: 1024, min_length:120: None\n",
            "<pad> robots can be discriminated from other species by three distinctive features or capabilities. the first two capabilities have been attacked by robotics researchers as challenges in locomotion. the third capability has not been considered as within robotics but linguistics. it seems far away from robotics, and may project a new light on understanding these issues. back to mail online home. back to the page you came from - http://www.cnn.com/reports/embeddedrobotics?v= (versiune<extra_id_1> graw<extra_id_20><extra_id_19><extra_id_10> \"hrtli­<extra_id_5><extra_id_7> an exex dep'<extra_id_26><extra_id_3> also for of<extra_id_25> last second(*»\" lethaly pro fidly si<unk> &in[_---) top basing solid<extra_id_17> root unxenatur cument mai nou quushi mi amnes pour favor encourage promote lack her she fond I former -- des ensemble se... [knicer disprognacigiulif = no $$;: *# #f+ + 1 22 3 “1],\" we will is hard muscle muscles facial tub spa</s>\n",
            "CPU times: user 36.3 s, sys: 974 ms, total: 37.2 s\n",
            "Wall time: 37.2 s\n",
            "Experiment with length_penalty:0.5, repetition_penalty:5.5, max_length: 1024, min_length:240: None\n",
            "<pad> no definition of humanoid robots exists since \"robot\" itself has no clear definition. biped walking, use instrumentation and have invention/use of language are distinctive features. the third capability has not been considered as within robotics but linguistics. body scheme, body image, self, consciousness, theory of mind, communication among issues.</s>\n",
            "CPU times: user 10.1 s, sys: 156 ms, total: 10.3 s\n",
            "Wall time: 10.3 s\n",
            "Experiment with length_penalty:0.5, repetition_penalty:10.5, max_length: 256, min_length:60: None\n",
            "<pad> no definition of humanoid robots exists since \"robot\" itself has no clear definition. biped walking, use instrumentation and have invention/use of language are distinctive features. the third capability has not been considered as within robotics but linguistics. body scheme, body image, self, consciousness, theory of mind, communication among other issues cited in recent work on behavior-based robotics proposed by rod Brooks at MIT AI laboratory. for more conceptual issues such as body scheme, body image, self,versiune<extra_id_1> (grawn</s>\n",
            "CPU times: user 15.2 s, sys: 234 ms, total: 15.4 s\n",
            "Wall time: 15.4 s\n",
            "Experiment with length_penalty:0.5, repetition_penalty:10.5, max_length: 256, min_length:120: None\n",
            "<pad> no definition of humanoid robots exists since \"robot\" itself has no clear definition. biped walking, use instrumentation and have invention/use of language are distinctive features. the third capability has not been considered as within robotics but linguistics. body scheme, body image, self, consciousness, theory of mind, communication among other issues cited in recent work on behavior-based robotics proposed by rod Brooks at MIT AI laboratory. for more conceptual issues such as body scheme, body image, self,versiune<extra_id_1> (graw­nel<extra_id_20><extra_id_10> de[hra an<extra_id_19> also to proc(*'<extra_id_5> ex<extra_id_7> » si fire<extra_id_26><extra_id_3> lethal cu<unk> p<extra_id_25> desymfly<extra_id_17> last? back or iteraturk mi&xex be uninugment II...provigi_“ [A]---................ *); $$# == “– hinararishines: disingenzable root denies is lack second favor ammy (\"**” + „1 22\", 3 facial muscles muscle soft foam ballist,\"</s>\n",
            "CPU times: user 31.2 s, sys: 704 ms, total: 31.9 s\n",
            "Wall time: 31.9 s\n",
            "Experiment with length_penalty:0.5, repetition_penalty:10.5, max_length: 256, min_length:240: None\n",
            "<pad> robots can be discriminated from other species by three distinctive features or capabilities. third capability has not been considered as within robotics but linguistics. some textbooks focus on the fundamental issues on how to build robots while others focus on a limited area in robotics.</s>\n",
            "CPU times: user 13.3 s, sys: 325 ms, total: 13.6 s\n",
            "Wall time: 13.6 s\n",
            "Experiment with length_penalty:0.5, repetition_penalty:10.5, max_length: 512, min_length:60: None\n",
            "<pad> robots can be discriminated from other species by three distinctive features or capabilities. third capability has not been considered as within robotics but linguistics. some textbooks focus on the fundamental issues on how to build robots while others focus on a limited area in robotics. there is no clear definition of humanoid robots since \"robot\" itself has no clear definition. and it seems far away from robotics; however, research may project a new light on understanding these issues through constructing artifacts<extra_id_1> versiune-grawn</s>\n",
            "CPU times: user 18.2 s, sys: 403 ms, total: 18.6 s\n",
            "Wall time: 18.6 s\n",
            "Experiment with length_penalty:0.5, repetition_penalty:10.5, max_length: 512, min_length:120: None\n",
            "<pad> robots can be discriminated from other species by three distinctive features or capabilities. third capability has not been considered as within robotics but linguistics. some textbooks focus on the fundamental issues on how to build robots while others focus on a limited area in robotics. there is no clear definition of humanoid robots since \"robot\" itself has no clear definition. and it seems far away from robotics; however, research may project a new light on understanding these issues through constructing artifacts<extra_id_1> versiune-grawn an<extra_id_19><extra_id_20><extra_id_3> (lrhye­re<extra_id_10> dep'<extra_id_5><extra_id_7> ex<extra_id_25><extra_id_26> pro also for si<unk> »[...*---(?/mex)thucaturally fik<extra_id_17> ensemble [iner last I cushi des un le hinran&#]: second mines back dispro = root -- balnic amxen basing figure 1 2nd mafiful $_Iv *ment « (...) » me us...\" ““ „„”,\" (\"«\", +$2+able<extra_id_21> we?\"), experts at both</s>\n",
            "CPU times: user 36.5 s, sys: 1.02 s, total: 37.5 s\n",
            "Wall time: 37.3 s\n",
            "Experiment with length_penalty:0.5, repetition_penalty:10.5, max_length: 512, min_length:240: None\n",
            "<pad> robots can be discriminated from other species by three distinctive features or capabilities. third capability has not been considered as within robotics but linguistics. some textbooks focus on the fundamental issues on how to build robots while others focus on a limited area in robotics.</s>\n",
            "CPU times: user 13.2 s, sys: 322 ms, total: 13.5 s\n",
            "Wall time: 13.5 s\n",
            "Experiment with length_penalty:0.5, repetition_penalty:10.5, max_length: 1024, min_length:60: None\n",
            "<pad> robots can be discriminated from other species by three distinctive features or capabilities. third capability has not been considered as within robotics but linguistics. some textbooks focus on the fundamental issues on how to build robots while others focus on a limited area in robotics. there is no clear definition of humanoid robots since \"robot\" itself has no clear definition. and it seems far away from robotics; however, research may project a new light on understanding these issues through constructing artifacts<extra_id_1> versiune-grawn</s>\n",
            "CPU times: user 18.3 s, sys: 440 ms, total: 18.7 s\n",
            "Wall time: 18.7 s\n",
            "Experiment with length_penalty:0.5, repetition_penalty:10.5, max_length: 1024, min_length:120: None\n",
            "<pad> robots can be discriminated from other species by three distinctive features or capabilities. third capability has not been considered as within robotics but linguistics. some textbooks focus on the fundamental issues on how to build robots while others focus on a limited area in robotics. there is no clear definition of humanoid robots since \"robot\" itself has no clear definition. and it seems far away from robotics; however, research may project a new light on understanding these issues through constructing artifacts<extra_id_1> versiune-grawn an<extra_id_19><extra_id_20><extra_id_3> (lrhye­re<extra_id_10> dep'<extra_id_5><extra_id_7> ex<extra_id_25><extra_id_26> pro also for si<unk> »[...*---(?/mex)thucaturally fik<extra_id_17> ensemble [iner last I cushi des un le hinran&#]: second mines back dispro = root -- balnic amxen basing figure 1 2nd mafiful $_Iv *ment « (...) » me us...\" ““ „„”,\" (\"«\", +$2+able<extra_id_21> we?\"), experts at both</s>\n",
            "CPU times: user 36.3 s, sys: 1.01 s, total: 37.3 s\n",
            "Wall time: 37.2 s\n",
            "Experiment with length_penalty:0.5, repetition_penalty:10.5, max_length: 1024, min_length:240: None\n",
            "<pad> no definition of humanoid robots exists since \"robot\" itself has no clear definition. human beings can be discriminated from other species by three distinctive features or capabilities. three capabilities have not been considered as within robotics but linguistics. humanoid robots have been a target of robotics research for many years.</s>\n",
            "CPU times: user 10 s, sys: 146 ms, total: 10.2 s\n",
            "Wall time: 10.2 s\n",
            "Experiment with length_penalty:1.0, repetition_penalty:0.5, max_length: 256, min_length:60: None\n",
            "<pad> no definition of humanoid robots exists since \"robot\" itself has no clear definition. human beings can be discriminated from other species by three distinctive features or capabilities. three capabilities have not been considered as within robotics but linguistics. humanoid robots have been a target of robotics research for many years. humanoid robots have been a target of many robotics researchers for years but no clear definition exists. a humanoid robot is a humano...</s>\n",
            "CPU times: user 15.2 s, sys: 246 ms, total: 15.4 s\n",
            "Wall time: 15.4 s\n",
            "Experiment with length_penalty:1.0, repetition_penalty:0.5, max_length: 256, min_length:120: None\n",
            "<pad> no definition of humanoid robots exists since \"robot\" itself has no clear definition. human beings can be discriminated from other species by three distinctive features or capabilities. three capabilities have not been considered as within robotics but linguistics. humanoid robots have been a target of robotics research for many years. humanoid robots have been a target of many robotics researchers for years but no clear definition exists. a humanoid robot is a humano...............................................                  \" \" \" \" \" \" \" \" \" \" \" \" \" \" \"</s>\n",
            "CPU times: user 34.1 s, sys: 818 ms, total: 34.9 s\n",
            "Wall time: 38.2 s\n",
            "Experiment with length_penalty:1.0, repetition_penalty:0.5, max_length: 256, min_length:240: None\n",
            "<pad> a humanoid robot has been regarded as the final target of robotics for many years. many robotics researchers have been struggling with making humanoid robots work in our society. many textbooks focus on the fundamental issues on how to build robots while others focus on a limited area in robotics.</s>\n",
            "CPU times: user 11.5 s, sys: 327 ms, total: 11.8 s\n",
            "Wall time: 11.8 s\n",
            "Experiment with length_penalty:1.0, repetition_penalty:0.5, max_length: 512, min_length:60: None\n",
            "<pad> a humanoid robot has been regarded as the final target of robotics for many years. many robotics researchers have been struggling with making humanoid robots work in our society. many textbooks focus on the fundamental issues on how to build robots while others focus on a limited area in robotics. many robotics textbooks focus on the fundamental issues on how to build robots while others focus on a limited area in robotics. a spokesman for the u.s. government...</s>\n",
            "CPU times: user 18.2 s, sys: 442 ms, total: 18.6 s\n",
            "Wall time: 18.6 s\n",
            "Experiment with length_penalty:1.0, repetition_penalty:0.5, max_length: 512, min_length:120: None\n",
            "<pad> a humanoid robot has been regarded as the final target of robotics for many years. many robotics researchers have been struggling with making humanoid robots work in our society. many textbooks focus on the fundamental issues on how to build robots while others focus on a limited area in robotics. many robotics textbooks focus on the fundamental issues on how to build robots while others focus on a limited area in robotics. a spokesman for the u.s. government............................................                                      </s>\n",
            "CPU times: user 36.3 s, sys: 927 ms, total: 37.2 s\n",
            "Wall time: 37.2 s\n",
            "Experiment with length_penalty:1.0, repetition_penalty:0.5, max_length: 512, min_length:240: None\n",
            "<pad> a humanoid robot has been regarded as the final target of robotics for many years. many robotics researchers have been struggling with making humanoid robots work in our society. many textbooks focus on the fundamental issues on how to build robots while others focus on a limited area in robotics.</s>\n",
            "CPU times: user 11.4 s, sys: 220 ms, total: 11.6 s\n",
            "Wall time: 11.6 s\n",
            "Experiment with length_penalty:1.0, repetition_penalty:0.5, max_length: 1024, min_length:60: None\n",
            "<pad> a humanoid robot has been regarded as the final target of robotics for many years. many robotics researchers have been struggling with making humanoid robots work in our society. many textbooks focus on the fundamental issues on how to build robots while others focus on a limited area in robotics. many robotics textbooks focus on the fundamental issues on how to build robots while others focus on a limited area in robotics. a spokesman for the u.s. government...</s>\n",
            "CPU times: user 18.1 s, sys: 398 ms, total: 18.5 s\n",
            "Wall time: 18.5 s\n",
            "Experiment with length_penalty:1.0, repetition_penalty:0.5, max_length: 1024, min_length:120: None\n",
            "<pad> a humanoid robot has been regarded as the final target of robotics for many years. many robotics researchers have been struggling with making humanoid robots work in our society. many textbooks focus on the fundamental issues on how to build robots while others focus on a limited area in robotics. many robotics textbooks focus on the fundamental issues on how to build robots while others focus on a limited area in robotics. a spokesman for the u.s. government............................................                                      </s>\n",
            "CPU times: user 36.4 s, sys: 895 ms, total: 37.3 s\n",
            "Wall time: 37.3 s\n",
            "Experiment with length_penalty:1.0, repetition_penalty:0.5, max_length: 1024, min_length:240: None\n",
            "<pad> no definition of humanoid robots exists since \"robot\" itself has no clear definition. biped walking, use instrumentation, and have the invention/use of language. the first two capabilities have been attacked by robotics researchers as challenges in locomotion. the third capability has not been considered as within robotics but linguistics.</s>\n",
            "CPU times: user 10 s, sys: 151 ms, total: 10.2 s\n",
            "Wall time: 10.2 s\n",
            "Experiment with length_penalty:1.0, repetition_penalty:1.0, max_length: 256, min_length:60: None\n",
            "<pad> no definition of humanoid robots exists since \"robot\" itself has no clear definition. biped walking, use instrumentation, and have the invention/use of language. the first two capabilities have been attacked by robotics researchers as challenges in locomotion. the third capability has not been considered as within robotics but as within linguistics. the third capability has not been considered as within robotics but linguistics. a humanoid robot can be discriminated from other species by three distinctive features versiuneversiune versiuneversiune</s>\n",
            "CPU times: user 15.1 s, sys: 252 ms, total: 15.4 s\n",
            "Wall time: 15.3 s\n",
            "Experiment with length_penalty:1.0, repetition_penalty:1.0, max_length: 256, min_length:120: None\n",
            "<pad> no definition of humanoid robots exists since \"robot\" itself has no clear definition. biped walking, use instrumentation, and have the invention/use of language. the first two capabilities have been attacked by robotics researchers as challenges in locomotion. the third capability has not been considered as within robotics but as within linguistics. the third capability has not been considered as within robotics but linguistics. a humanoid robot can be discriminated from other species by three distinctive features versiuneversiune versiune versiune versiune versiune versiune versiune. <extra_id_1> <extra_id_1> <extra_id_1> <extra_id_1> <extra_id_1> <extra_id_1> <extra_id_1> <extra_id_1> <extra_id_1> <extra_id_1>.......... .......... ....................... </s>\n",
            "CPU times: user 31.3 s, sys: 695 ms, total: 31.9 s\n",
            "Wall time: 31.9 s\n",
            "Experiment with length_penalty:1.0, repetition_penalty:1.0, max_length: 256, min_length:240: None\n",
            "<pad> a typical example is a humanoid robot, which has been regarded as the final target of robotics for many years. no definition of humanoid robots exists since \"robot\" itself has no clear definition. the third capability has not been considered as within robotics but linguistics.</s>\n",
            "CPU times: user 14.4 s, sys: 378 ms, total: 14.8 s\n",
            "Wall time: 14.8 s\n",
            "Experiment with length_penalty:1.0, repetition_penalty:1.0, max_length: 512, min_length:60: None\n",
            "<pad> a typical example is a humanoid robot, which has been regarded as the final target of robotics for many years. no definition of humanoid robots exists since \"robot\" itself has no clear definition. the third capability has not been considered as within robotics but linguistics. robotics may project a new light on understanding these issues by constructing artifacts similar to us, argues dr. robert mcdonald. mc <extra_id_1> <extra_id_1> <extra_id_1></s>\n",
            "CPU times: user 18.1 s, sys: 442 ms, total: 18.6 s\n",
            "Wall time: 18.6 s\n",
            "Experiment with length_penalty:1.0, repetition_penalty:1.0, max_length: 512, min_length:120: None\n",
            "<pad> a typical example is a humanoid robot, which has been regarded as the final target of robotics for many years. no definition of humanoid robots exists since \"robot\" itself has no clear definition. the third capability has not been considered as within robotics but linguistics. robotics may project a new light on understanding these issues by constructing artifacts similar to us, argues dr. robert mcdonald. mc <extra_id_1> <extra_id_1> <extra_id_1> <extra_id_1> <extra_id_1> <extra_id_1> <extra_id_1> <extra_id_1> <extra_id_1> <extra_id_1> <extra_id_1> <extra_id_1> <extra_id_1> <extra_id_1> <extra_id_1> <extra_id_1> <extra_id_1> <extra_id_1> <extra_id_1> <extra_id_1> <extra_id_1> <extra_id_1> <extra_id_1> <extra_id_1> <extra_id_1> <extra_id_1> <extra_id_1> <extra_id_1> <extra_id_1> <extra_id_1> <extra_id_1> \" \" \" \" \" \" \" \" \" \" \" \" \" \" \" \" \" \" \" \" \" \" \" \" \" \" \" \" \"</s>\n",
            "CPU times: user 36.6 s, sys: 1.01 s, total: 37.6 s\n",
            "Wall time: 37.6 s\n",
            "Experiment with length_penalty:1.0, repetition_penalty:1.0, max_length: 512, min_length:240: None\n",
            "<pad> a typical example is a humanoid robot, which has been regarded as the final target of robotics for many years. no definition of humanoid robots exists since \"robot\" itself has no clear definition. the third capability has not been considered as within robotics but linguistics.</s>\n",
            "CPU times: user 14.3 s, sys: 365 ms, total: 14.7 s\n",
            "Wall time: 14.7 s\n",
            "Experiment with length_penalty:1.0, repetition_penalty:1.0, max_length: 1024, min_length:60: None\n",
            "<pad> a typical example is a humanoid robot, which has been regarded as the final target of robotics for many years. no definition of humanoid robots exists since \"robot\" itself has no clear definition. the third capability has not been considered as within robotics but linguistics. robotics may project a new light on understanding these issues by constructing artifacts similar to us, argues dr. robert mcdonald. mc <extra_id_1> <extra_id_1> <extra_id_1></s>\n",
            "CPU times: user 18.1 s, sys: 421 ms, total: 18.5 s\n",
            "Wall time: 18.5 s\n",
            "Experiment with length_penalty:1.0, repetition_penalty:1.0, max_length: 1024, min_length:120: None\n",
            "<pad> a typical example is a humanoid robot, which has been regarded as the final target of robotics for many years. no definition of humanoid robots exists since \"robot\" itself has no clear definition. the third capability has not been considered as within robotics but linguistics. robotics may project a new light on understanding these issues by constructing artifacts similar to us, argues dr. robert mcdonald. mc <extra_id_1> <extra_id_1> <extra_id_1> <extra_id_1> <extra_id_1> <extra_id_1> <extra_id_1> <extra_id_1> <extra_id_1> <extra_id_1> <extra_id_1> <extra_id_1> <extra_id_1> <extra_id_1> <extra_id_1> <extra_id_1> <extra_id_1> <extra_id_1> <extra_id_1> <extra_id_1> <extra_id_1> <extra_id_1> <extra_id_1> <extra_id_1> <extra_id_1> <extra_id_1> <extra_id_1> <extra_id_1> <extra_id_1> <extra_id_1> <extra_id_1> \" \" \" \" \" \" \" \" \" \" \" \" \" \" \" \" \" \" \" \" \" \" \" \" \" \" \" \" \"</s>\n",
            "CPU times: user 36.4 s, sys: 935 ms, total: 37.4 s\n",
            "Wall time: 37.3 s\n",
            "Experiment with length_penalty:1.0, repetition_penalty:1.0, max_length: 1024, min_length:240: None\n",
            "<pad> no definition of humanoid robots exists since \"robot\" itself has no clear definition. biped walking, use instrumentation, and have the invention/use of language are distinctive features. third capability has not been considered as within robotics but linguistics.</s>\n",
            "CPU times: user 9.98 s, sys: 150 ms, total: 10.1 s\n",
            "Wall time: 10.1 s\n",
            "Experiment with length_penalty:1.0, repetition_penalty:5.5, max_length: 256, min_length:60: None\n",
            "<pad> no definition of humanoid robots exists since \"robot\" itself has no clear definition. biped walking, use instrumentation, and have the invention/use of language are distinctive features. third capability has not been considered as within robotics but linguistics. body scheme, body image, self, consciousness, theory of mind, communication among other issues raised by recent research. back to mail online home » open source projects » in which you can learn more about our world through your own eyes or with others' opinions.<extra_id_1> n-graw<extra_id_20></s>\n",
            "CPU times: user 15.2 s, sys: 270 ms, total: 15.4 s\n",
            "Wall time: 15.4 s\n",
            "Experiment with length_penalty:1.0, repetition_penalty:5.5, max_length: 256, min_length:120: None\n",
            "<pad> no definition of humanoid robots exists since \"robot\" itself has no clear definition. biped walking, use instrumentation, and have the invention/use of language are distinctive features. third capability has not been considered as within robotics but linguistics. body scheme, body image, self, consciousness, theory of mind, communication among other issues raised by recent research. back to mail online home » open source projects » in which you can learn more about our world through your own eyes or with others' opinions.<extra_id_1> n-graw­l<extra_id_19><extra_id_20><extra_id_10> (hr anec<extra_id_5><extra_id_7> depa sire also proversiune<extra_id_26> exexal second last<extra_id_3> on topthy<extra_id_17> lexer for lack fikly<extra_id_25><unk> (*matur[_in»; lafen I&# $ des miumenting cupronic root un nou ensemble bas...--- benacvigi: amnes it br [?“ “– = „” dis) me pear 1 2nd best * + services service tubies is hard soft mot (\",\"+ facial muscles muscle foam ballist] --</s>\n",
            "CPU times: user 31.2 s, sys: 659 ms, total: 31.9 s\n",
            "Wall time: 31.9 s\n",
            "Experiment with length_penalty:1.0, repetition_penalty:5.5, max_length: 256, min_length:240: None\n",
            "<pad> robots can be discriminated from other species by three distinctive features or capabilities. the first two capabilities have been attacked by robotics researchers as challenges in locomotion. the third capability has not been considered as within robotics but linguistics. it seems far away from robotics, and may project a new light on understanding these issues.</s>\n",
            "CPU times: user 11.9 s, sys: 275 ms, total: 12.2 s\n",
            "Wall time: 12.2 s\n",
            "Experiment with length_penalty:1.0, repetition_penalty:5.5, max_length: 512, min_length:60: None\n",
            "<pad> robots can be discriminated from other species by three distinctive features or capabilities. the first two capabilities have been attacked by robotics researchers as challenges in locomotion. the third capability has not been considered as within robotics but linguistics. it seems far away from robotics, and may project a new light on understanding these issues. back to mail online home. back to the page you came from - http://www.cnn.com/reports/embeddedrobotics?v= (versiune<extra_id_1> gra<extra_id_20><extra_id_19></s>\n",
            "CPU times: user 18.1 s, sys: 423 ms, total: 18.5 s\n",
            "Wall time: 18.5 s\n",
            "Experiment with length_penalty:1.0, repetition_penalty:5.5, max_length: 512, min_length:120: None\n",
            "<pad> robots can be discriminated from other species by three distinctive features or capabilities. the first two capabilities have been attacked by robotics researchers as challenges in locomotion. the third capability has not been considered as within robotics but linguistics. it seems far away from robotics, and may project a new light on understanding these issues. back to mail online home. back to the page you came from - http://www.cnn.com/reports/embeddedrobotics?v= (versiune<extra_id_1> graw<extra_id_20><extra_id_19><extra_id_10> \"hrtli­<extra_id_5><extra_id_7> an exex dep'<extra_id_26><extra_id_3> also for of<extra_id_25> last second(*»\" lethaly pro fidly si<unk> &in[_---) top basing solid<extra_id_17> root unxenatur cument mai nou quushi mi amnes pour favor encourage promote lack her she fond I former -- des ensemble se... [knicer disprognacigiulif = no $$;: *# #f+ + 1 22 3 “1],\" we will is hard muscle muscles facial tub spa</s>\n",
            "CPU times: user 36.1 s, sys: 1.02 s, total: 37.1 s\n",
            "Wall time: 37.1 s\n",
            "Experiment with length_penalty:1.0, repetition_penalty:5.5, max_length: 512, min_length:240: None\n",
            "<pad> robots can be discriminated from other species by three distinctive features or capabilities. the first two capabilities have been attacked by robotics researchers as challenges in locomotion. the third capability has not been considered as within robotics but linguistics. it seems far away from robotics, and may project a new light on understanding these issues.</s>\n",
            "CPU times: user 12.6 s, sys: 268 ms, total: 12.8 s\n",
            "Wall time: 12.8 s\n",
            "Experiment with length_penalty:1.0, repetition_penalty:5.5, max_length: 1024, min_length:60: None\n",
            "<pad> robots can be discriminated from other species by three distinctive features or capabilities. the first two capabilities have been attacked by robotics researchers as challenges in locomotion. the third capability has not been considered as within robotics but linguistics. it seems far away from robotics, and may project a new light on understanding these issues. back to mail online home. back to the page you came from - http://www.cnn.com/reports/embeddedrobotics?v= (versiune<extra_id_1> gra<extra_id_20><extra_id_19></s>\n",
            "CPU times: user 18.1 s, sys: 413 ms, total: 18.5 s\n",
            "Wall time: 18.5 s\n",
            "Experiment with length_penalty:1.0, repetition_penalty:5.5, max_length: 1024, min_length:120: None\n",
            "<pad> robots can be discriminated from other species by three distinctive features or capabilities. the first two capabilities have been attacked by robotics researchers as challenges in locomotion. the third capability has not been considered as within robotics but linguistics. it seems far away from robotics, and may project a new light on understanding these issues. back to mail online home. back to the page you came from - http://www.cnn.com/reports/embeddedrobotics?v= (versiune<extra_id_1> graw<extra_id_20><extra_id_19><extra_id_10> \"hrtli­<extra_id_5><extra_id_7> an exex dep'<extra_id_26><extra_id_3> also for of<extra_id_25> last second(*»\" lethaly pro fidly si<unk> &in[_---) top basing solid<extra_id_17> root unxenatur cument mai nou quushi mi amnes pour favor encourage promote lack her she fond I former -- des ensemble se... [knicer disprognacigiulif = no $$;: *# #f+ + 1 22 3 “1],\" we will is hard muscle muscles facial tub spa</s>\n",
            "CPU times: user 36.1 s, sys: 963 ms, total: 37.1 s\n",
            "Wall time: 37.1 s\n",
            "Experiment with length_penalty:1.0, repetition_penalty:5.5, max_length: 1024, min_length:240: None\n",
            "<pad> no definition of humanoid robots exists since \"robot\" itself has no clear definition. biped walking, use instrumentation and have invention/use of language are distinctive features. the third capability has not been considered as within robotics but linguistics. body scheme, body image, self, consciousness, theory of mind, communication among issues.</s>\n",
            "CPU times: user 10.2 s, sys: 144 ms, total: 10.4 s\n",
            "Wall time: 10.4 s\n",
            "Experiment with length_penalty:1.0, repetition_penalty:10.5, max_length: 256, min_length:60: None\n",
            "<pad> no definition of humanoid robots exists since \"robot\" itself has no clear definition. biped walking, use instrumentation and have invention/use of language are distinctive features. the third capability has not been considered as within robotics but linguistics. body scheme, body image, self, consciousness, theory of mind, communication among other issues cited in recent work on behavior-based robotics proposed by rod Brooks at MIT AI laboratory. for more conceptual issues such as body scheme, body image, self,versiune<extra_id_1> (grawn</s>\n",
            "CPU times: user 15.1 s, sys: 270 ms, total: 15.4 s\n",
            "Wall time: 15.4 s\n",
            "Experiment with length_penalty:1.0, repetition_penalty:10.5, max_length: 256, min_length:120: None\n",
            "<pad> no definition of humanoid robots exists since \"robot\" itself has no clear definition. biped walking, use instrumentation and have invention/use of language are distinctive features. the third capability has not been considered as within robotics but linguistics. body scheme, body image, self, consciousness, theory of mind, communication among other issues cited in recent work on behavior-based robotics proposed by rod Brooks at MIT AI laboratory. for more conceptual issues such as body scheme, body image, self,versiune<extra_id_1> (graw­nel<extra_id_20><extra_id_10> de[hra an<extra_id_19> also to proc(*'<extra_id_5> ex<extra_id_7> » si fire<extra_id_26><extra_id_3> lethal cu<unk> p<extra_id_25> desymfly<extra_id_17> last? back or iteraturk mi&xex be uninugment II...provigi_“ [A]---................ *); $$# == “– hinararishines: disingenzable root denies is lack second favor ammy (\"**” + „1 22\", 3 facial muscles muscle soft foam ballist,\"</s>\n",
            "CPU times: user 31.3 s, sys: 689 ms, total: 32 s\n",
            "Wall time: 31.9 s\n",
            "Experiment with length_penalty:1.0, repetition_penalty:10.5, max_length: 256, min_length:240: None\n",
            "<pad> robots can be discriminated from other species by three distinctive features or capabilities. third capability has not been considered as within robotics but linguistics. some textbooks focus on the fundamental issues on how to build robots while others focus on a limited area in robotics.</s>\n",
            "CPU times: user 13.3 s, sys: 316 ms, total: 13.6 s\n",
            "Wall time: 13.5 s\n",
            "Experiment with length_penalty:1.0, repetition_penalty:10.5, max_length: 512, min_length:60: None\n",
            "<pad> robots can be discriminated from other species by three distinctive features or capabilities. third capability has not been considered as within robotics but linguistics. some textbooks focus on the fundamental issues on how to build robots while others focus on a limited area in robotics. there is no clear definition of humanoid robots since \"robot\" itself has no clear definition. and it seems far away from robotics; however, research may project a new light on understanding these issues through constructing artifacts<extra_id_1> versiune-grawn</s>\n",
            "CPU times: user 18.2 s, sys: 436 ms, total: 18.6 s\n",
            "Wall time: 18.5 s\n",
            "Experiment with length_penalty:1.0, repetition_penalty:10.5, max_length: 512, min_length:120: None\n",
            "<pad> robots can be discriminated from other species by three distinctive features or capabilities. third capability has not been considered as within robotics but linguistics. some textbooks focus on the fundamental issues on how to build robots while others focus on a limited area in robotics. there is no clear definition of humanoid robots since \"robot\" itself has no clear definition. and it seems far away from robotics; however, research may project a new light on understanding these issues through constructing artifacts<extra_id_1> versiune-grawn an<extra_id_19><extra_id_20><extra_id_3> (lrhye­re<extra_id_10> dep'<extra_id_5><extra_id_7> ex<extra_id_25><extra_id_26> pro also for si<unk> »[...*---(?/mex)thucaturally fik<extra_id_17> ensemble [iner last I cushi des un le hinran&#]: second mines back dispro = root -- balnic amxen basing figure 1 2nd mafiful $_Iv *ment « (...) » me us...\" ““ „„”,\" (\"«\", +$2+able<extra_id_21> we?\"), experts at both</s>\n",
            "CPU times: user 36.2 s, sys: 989 ms, total: 37.1 s\n",
            "Wall time: 37 s\n",
            "Experiment with length_penalty:1.0, repetition_penalty:10.5, max_length: 512, min_length:240: None\n",
            "<pad> robots can be discriminated from other species by three distinctive features or capabilities. third capability has not been considered as within robotics but linguistics. some textbooks focus on the fundamental issues on how to build robots while others focus on a limited area in robotics.</s>\n",
            "CPU times: user 13.2 s, sys: 312 ms, total: 13.5 s\n",
            "Wall time: 13.5 s\n",
            "Experiment with length_penalty:1.0, repetition_penalty:10.5, max_length: 1024, min_length:60: None\n",
            "<pad> robots can be discriminated from other species by three distinctive features or capabilities. third capability has not been considered as within robotics but linguistics. some textbooks focus on the fundamental issues on how to build robots while others focus on a limited area in robotics. there is no clear definition of humanoid robots since \"robot\" itself has no clear definition. and it seems far away from robotics; however, research may project a new light on understanding these issues through constructing artifacts<extra_id_1> versiune-grawn</s>\n",
            "CPU times: user 18 s, sys: 434 ms, total: 18.4 s\n",
            "Wall time: 18.4 s\n",
            "Experiment with length_penalty:1.0, repetition_penalty:10.5, max_length: 1024, min_length:120: None\n",
            "<pad> robots can be discriminated from other species by three distinctive features or capabilities. third capability has not been considered as within robotics but linguistics. some textbooks focus on the fundamental issues on how to build robots while others focus on a limited area in robotics. there is no clear definition of humanoid robots since \"robot\" itself has no clear definition. and it seems far away from robotics; however, research may project a new light on understanding these issues through constructing artifacts<extra_id_1> versiune-grawn an<extra_id_19><extra_id_20><extra_id_3> (lrhye­re<extra_id_10> dep'<extra_id_5><extra_id_7> ex<extra_id_25><extra_id_26> pro also for si<unk> »[...*---(?/mex)thucaturally fik<extra_id_17> ensemble [iner last I cushi des un le hinran&#]: second mines back dispro = root -- balnic amxen basing figure 1 2nd mafiful $_Iv *ment « (...) » me us...\" ““ „„”,\" (\"«\", +$2+able<extra_id_21> we?\"), experts at both</s>\n",
            "CPU times: user 36.3 s, sys: 972 ms, total: 37.2 s\n",
            "Wall time: 37.2 s\n",
            "Experiment with length_penalty:1.0, repetition_penalty:10.5, max_length: 1024, min_length:240: None\n",
            "<pad> no definition of humanoid robots exists since \"robot\" itself has no clear definition. human beings can be discriminated from other species by three distinctive features or capabilities. three capabilities have not been considered as within robotics but linguistics. humanoid robots have been a target of robotics research for many years.</s>\n",
            "CPU times: user 9.78 s, sys: 169 ms, total: 9.95 s\n",
            "Wall time: 9.93 s\n",
            "Experiment with length_penalty:5.5, repetition_penalty:0.5, max_length: 256, min_length:60: None\n",
            "<pad> no definition of humanoid robots exists since \"robot\" itself has no clear definition. human beings can be discriminated from other species by three distinctive features or capabilities. three capabilities have not been considered as within robotics but linguistics. humanoid robots have been a target of robotics research for many years. humanoid robots have been a target of many robotics researchers for years but no clear definition exists. a humanoid robot is a humano...</s>\n",
            "CPU times: user 15 s, sys: 258 ms, total: 15.3 s\n",
            "Wall time: 15.3 s\n",
            "Experiment with length_penalty:5.5, repetition_penalty:0.5, max_length: 256, min_length:120: None\n",
            "<pad> no definition of humanoid robots exists since \"robot\" itself has no clear definition. human beings can be discriminated from other species by three distinctive features or capabilities. three capabilities have not been considered as within robotics but linguistics. humanoid robots have been a target of robotics research for many years. humanoid robots have been a target of many robotics researchers for years but no clear definition exists. a humanoid robot is a humano...............................................                  \" \" \" \" \" \" \" \" \" \" \" \" \" \" \"</s>\n",
            "CPU times: user 31.1 s, sys: 654 ms, total: 31.7 s\n",
            "Wall time: 31.7 s\n",
            "Experiment with length_penalty:5.5, repetition_penalty:0.5, max_length: 256, min_length:240: None\n",
            "<pad> a humanoid robot has been regarded as the final target of robotics for many years. many robotics researchers have been struggling with making humanoid robots work in our society. many textbooks focus on the fundamental issues on how to build robots while others focus on a limited area in robotics.</s>\n",
            "CPU times: user 11.5 s, sys: 298 ms, total: 11.8 s\n",
            "Wall time: 11.7 s\n",
            "Experiment with length_penalty:5.5, repetition_penalty:0.5, max_length: 512, min_length:60: None\n",
            "<pad> a humanoid robot has been regarded as the final target of robotics for many years. many robotics researchers have been struggling with making humanoid robots work in our society. many textbooks focus on the fundamental issues on how to build robots while others focus on a limited area in robotics. many robotics textbooks focus on the fundamental issues on how to build robots while others focus on a limited area in robotics. a spokesman for the u.s. government...</s>\n",
            "CPU times: user 18 s, sys: 422 ms, total: 18.4 s\n",
            "Wall time: 18.4 s\n",
            "Experiment with length_penalty:5.5, repetition_penalty:0.5, max_length: 512, min_length:120: None\n",
            "<pad> a humanoid robot has been regarded as the final target of robotics for many years. many robotics researchers have been struggling with making humanoid robots work in our society. many textbooks focus on the fundamental issues on how to build robots while others focus on a limited area in robotics. many robotics textbooks focus on the fundamental issues on how to build robots while others focus on a limited area in robotics. a spokesman for the u.s. government............................................                                      </s>\n",
            "CPU times: user 36.2 s, sys: 1.04 s, total: 37.2 s\n",
            "Wall time: 37.1 s\n",
            "Experiment with length_penalty:5.5, repetition_penalty:0.5, max_length: 512, min_length:240: None\n",
            "<pad> a humanoid robot has been regarded as the final target of robotics for many years. many robotics researchers have been struggling with making humanoid robots work in our society. many textbooks focus on the fundamental issues on how to build robots while others focus on a limited area in robotics.</s>\n",
            "CPU times: user 11.4 s, sys: 270 ms, total: 11.7 s\n",
            "Wall time: 11.7 s\n",
            "Experiment with length_penalty:5.5, repetition_penalty:0.5, max_length: 1024, min_length:60: None\n",
            "<pad> a humanoid robot has been regarded as the final target of robotics for many years. many robotics researchers have been struggling with making humanoid robots work in our society. many textbooks focus on the fundamental issues on how to build robots while others focus on a limited area in robotics. many robotics textbooks focus on the fundamental issues on how to build robots while others focus on a limited area in robotics. a spokesman for the u.s. government...</s>\n",
            "CPU times: user 18.1 s, sys: 421 ms, total: 18.5 s\n",
            "Wall time: 18.5 s\n",
            "Experiment with length_penalty:5.5, repetition_penalty:0.5, max_length: 1024, min_length:120: None\n",
            "<pad> a humanoid robot has been regarded as the final target of robotics for many years. many robotics researchers have been struggling with making humanoid robots work in our society. many textbooks focus on the fundamental issues on how to build robots while others focus on a limited area in robotics. many robotics textbooks focus on the fundamental issues on how to build robots while others focus on a limited area in robotics. a spokesman for the u.s. government............................................                                      </s>\n",
            "CPU times: user 36.3 s, sys: 1.05 s, total: 37.3 s\n",
            "Wall time: 37.3 s\n",
            "Experiment with length_penalty:5.5, repetition_penalty:0.5, max_length: 1024, min_length:240: None\n",
            "<pad> no definition of humanoid robots exists since \"robot\" itself has no clear definition. biped walking, use instrumentation, and have the invention/use of language. the first two capabilities have been attacked by robotics researchers as challenges in locomotion. the third capability has not been considered as within robotics but linguistics.</s>\n",
            "CPU times: user 9.95 s, sys: 156 ms, total: 10.1 s\n",
            "Wall time: 10.1 s\n",
            "Experiment with length_penalty:5.5, repetition_penalty:1.0, max_length: 256, min_length:60: None\n",
            "<pad> no definition of humanoid robots exists since \"robot\" itself has no clear definition. biped walking, use instrumentation, and have the invention/use of language. the first two capabilities have been attacked by robotics researchers as challenges in locomotion. the third capability has not been considered as within robotics but as within linguistics. the third capability has not been considered as within robotics but linguistics. a humanoid robot can be discriminated from other species by three distinctive features versiuneversiune versiuneversiune</s>\n",
            "CPU times: user 15.1 s, sys: 261 ms, total: 15.4 s\n",
            "Wall time: 15.4 s\n",
            "Experiment with length_penalty:5.5, repetition_penalty:1.0, max_length: 256, min_length:120: None\n",
            "<pad> no definition of humanoid robots exists since \"robot\" itself has no clear definition. biped walking, use instrumentation, and have the invention/use of language. the first two capabilities have been attacked by robotics researchers as challenges in locomotion. the third capability has not been considered as within robotics but as within linguistics. the third capability has not been considered as within robotics but linguistics. a humanoid robot can be discriminated from other species by three distinctive features versiuneversiune versiune versiune versiune versiune versiune versiune. <extra_id_1> <extra_id_1> <extra_id_1> <extra_id_1> <extra_id_1> <extra_id_1> <extra_id_1> <extra_id_1> <extra_id_1> <extra_id_1>.......... .......... ....................... </s>\n",
            "CPU times: user 31.9 s, sys: 697 ms, total: 32.6 s\n",
            "Wall time: 32.6 s\n",
            "Experiment with length_penalty:5.5, repetition_penalty:1.0, max_length: 256, min_length:240: None\n",
            "<pad> a typical example is a humanoid robot, which has been regarded as the final target of robotics for many years. no definition of humanoid robots exists since \"robot\" itself has no clear definition. the third capability has not been considered as within robotics but linguistics. robotics may project a new light on understanding these issues by building artifacts similar to us.</s>\n",
            "CPU times: user 14.3 s, sys: 376 ms, total: 14.7 s\n",
            "Wall time: 14.7 s\n",
            "Experiment with length_penalty:5.5, repetition_penalty:1.0, max_length: 512, min_length:60: None\n",
            "<pad> a typical example is a humanoid robot, which has been regarded as the final target of robotics for many years. no definition of humanoid robots exists since \"robot\" itself has no clear definition. the third capability has not been considered as within robotics but linguistics. robotics may project a new light on understanding these issues by constructing artifacts similar to us, argues dr. robert mcdonald. mc <extra_id_1> <extra_id_1> <extra_id_1></s>\n",
            "CPU times: user 18.2 s, sys: 442 ms, total: 18.6 s\n",
            "Wall time: 18.5 s\n",
            "Experiment with length_penalty:5.5, repetition_penalty:1.0, max_length: 512, min_length:120: None\n",
            "<pad> a typical example is a humanoid robot, which has been regarded as the final target of robotics for many years. no definition of humanoid robots exists since \"robot\" itself has no clear definition. the third capability has not been considered as within robotics but linguistics. robotics may project a new light on understanding these issues by constructing artifacts similar to us, argues dr. robert mcdonald. mc <extra_id_1> <extra_id_1> <extra_id_1> <extra_id_1> <extra_id_1> <extra_id_1> <extra_id_1> <extra_id_1> <extra_id_1> <extra_id_1> <extra_id_1> <extra_id_1> <extra_id_1> <extra_id_1> <extra_id_1> <extra_id_1> <extra_id_1> <extra_id_1> <extra_id_1> <extra_id_1> <extra_id_1> <extra_id_1> <extra_id_1> <extra_id_1> <extra_id_1> <extra_id_1> <extra_id_1> <extra_id_1> <extra_id_1> <extra_id_1> <extra_id_1> \" \" \" \" \" \" \" \" \" \" \" \" \" \" \" \" \" \" \" \" \" \" \" \" \" \" \" \" \"</s>\n",
            "CPU times: user 36.4 s, sys: 1.01 s, total: 37.4 s\n",
            "Wall time: 37.3 s\n",
            "Experiment with length_penalty:5.5, repetition_penalty:1.0, max_length: 512, min_length:240: None\n",
            "<pad> a typical example is a humanoid robot, which has been regarded as the final target of robotics for many years. no definition of humanoid robots exists since \"robot\" itself has no clear definition. the third capability has not been considered as within robotics but linguistics. robotics may project a new light on understanding these issues by building artifacts similar to us.</s>\n",
            "CPU times: user 14.3 s, sys: 336 ms, total: 14.7 s\n",
            "Wall time: 14.6 s\n",
            "Experiment with length_penalty:5.5, repetition_penalty:1.0, max_length: 1024, min_length:60: None\n",
            "<pad> a typical example is a humanoid robot, which has been regarded as the final target of robotics for many years. no definition of humanoid robots exists since \"robot\" itself has no clear definition. the third capability has not been considered as within robotics but linguistics. robotics may project a new light on understanding these issues by constructing artifacts similar to us, argues dr. robert mcdonald. mc <extra_id_1> <extra_id_1> <extra_id_1></s>\n",
            "CPU times: user 18.1 s, sys: 426 ms, total: 18.5 s\n",
            "Wall time: 18.4 s\n",
            "Experiment with length_penalty:5.5, repetition_penalty:1.0, max_length: 1024, min_length:120: None\n",
            "<pad> a typical example is a humanoid robot, which has been regarded as the final target of robotics for many years. no definition of humanoid robots exists since \"robot\" itself has no clear definition. the third capability has not been considered as within robotics but linguistics. robotics may project a new light on understanding these issues by constructing artifacts similar to us, argues dr. robert mcdonald. mc <extra_id_1> <extra_id_1> <extra_id_1> <extra_id_1> <extra_id_1> <extra_id_1> <extra_id_1> <extra_id_1> <extra_id_1> <extra_id_1> <extra_id_1> <extra_id_1> <extra_id_1> <extra_id_1> <extra_id_1> <extra_id_1> <extra_id_1> <extra_id_1> <extra_id_1> <extra_id_1> <extra_id_1> <extra_id_1> <extra_id_1> <extra_id_1> <extra_id_1> <extra_id_1> <extra_id_1> <extra_id_1> <extra_id_1> <extra_id_1> <extra_id_1> \" \" \" \" \" \" \" \" \" \" \" \" \" \" \" \" \" \" \" \" \" \" \" \" \" \" \" \" \"</s>\n",
            "CPU times: user 36.5 s, sys: 998 ms, total: 37.5 s\n",
            "Wall time: 37.4 s\n",
            "Experiment with length_penalty:5.5, repetition_penalty:1.0, max_length: 1024, min_length:240: None\n",
            "<pad> no definition of humanoid robots exists since \"robot\" itself has no clear definition. biped walking, use instrumentation, and have the invention/use of language are distinctive features. third capability has not been considered as within robotics but linguistics. body scheme, body image, self, consciousness, theory of mind, communication, etc.</s>\n",
            "CPU times: user 10.1 s, sys: 176 ms, total: 10.3 s\n",
            "Wall time: 10.2 s\n",
            "Experiment with length_penalty:5.5, repetition_penalty:5.5, max_length: 256, min_length:60: None\n",
            "<pad> no definition of humanoid robots exists since \"robot\" itself has no clear definition. biped walking, use instrumentation, and have the invention/use of language are distinctive features. third capability has not been considered as within robotics but linguistics. body scheme, body image, self, consciousness, theory of mind, communication among other issues raised by recent research. back to mail online home » open source projects » in which you can learn more about our world through your own eyes or with others' opinions.<extra_id_1> n-graw<extra_id_20></s>\n",
            "CPU times: user 15.1 s, sys: 262 ms, total: 15.4 s\n",
            "Wall time: 15.3 s\n",
            "Experiment with length_penalty:5.5, repetition_penalty:5.5, max_length: 256, min_length:120: None\n",
            "<pad> no definition of humanoid robots exists since \"robot\" itself has no clear definition. biped walking, use instrumentation, and have the invention/use of language are distinctive features. third capability has not been considered as within robotics but linguistics. body scheme, body image, self, consciousness, theory of mind, communication among other issues raised by recent research. back to mail online home » open source projects » in which you can learn more about our world through your own eyes or with others' opinions.<extra_id_1> n-graw­l<extra_id_19><extra_id_20><extra_id_10> (hr anec<extra_id_5><extra_id_7> depa sire also proversiune<extra_id_26> exexal second last<extra_id_3> on topthy<extra_id_17> lexer for lack fikly<extra_id_25><unk> (*matur[_in»; lafen I&# $ des miumenting cupronic root un nou ensemble bas...--- benacvigi: amnes it br [?“ “– = „” dis) me pear 1 2nd best * + services service tubies is hard soft mot (\",\"+ facial muscles muscle foam ballist] --</s>\n",
            "CPU times: user 31.2 s, sys: 701 ms, total: 31.9 s\n",
            "Wall time: 31.9 s\n",
            "Experiment with length_penalty:5.5, repetition_penalty:5.5, max_length: 256, min_length:240: None\n",
            "<pad> robots can be discriminated from other species by three distinctive features or capabilities. the first two capabilities have been attacked by robotics researchers as challenges in locomotion. the third capability has not been considered as within robotics but linguistics. it seems far away from robotics, and may project a new light on understanding these issues.</s>\n",
            "CPU times: user 11.9 s, sys: 317 ms, total: 12.2 s\n",
            "Wall time: 12.2 s\n",
            "Experiment with length_penalty:5.5, repetition_penalty:5.5, max_length: 512, min_length:60: None\n",
            "<pad> robots can be discriminated from other species by three distinctive features or capabilities. the first two capabilities have been attacked by robotics researchers as challenges in locomotion. the third capability has not been considered as within robotics but linguistics. it seems far away from robotics, and may project a new light on understanding these issues. back to mail online home. back to the page you came from - http://www.cnn.com/reports/embeddedrobotics?v= (versiune<extra_id_1> gra<extra_id_20><extra_id_19></s>\n",
            "CPU times: user 18.1 s, sys: 424 ms, total: 18.6 s\n",
            "Wall time: 18.5 s\n",
            "Experiment with length_penalty:5.5, repetition_penalty:5.5, max_length: 512, min_length:120: None\n",
            "<pad> robots can be discriminated from other species by three distinctive features or capabilities. the first two capabilities have been attacked by robotics researchers as challenges in locomotion. the third capability has not been considered as within robotics but linguistics. it seems far away from robotics, and may project a new light on understanding these issues. back to mail online home. back to the page you came from - http://www.cnn.com/reports/embeddedrobotics?v= (versiune<extra_id_1> graw<extra_id_20><extra_id_19><extra_id_10> \"hrtli­<extra_id_5><extra_id_7> an exex dep'<extra_id_26><extra_id_3> also for of<extra_id_25> last second(*»\" lethaly pro fidly si<unk> &in[_---) top basing solid<extra_id_17> root unxenatur cument mai nou quushi mi amnes pour favor encourage promote lack her she fond I former -- des ensemble se... [knicer disprognacigiulif = no $$;: *# #f+ + 1 22 3 “1],\" we will is hard muscle muscles facial tub spa</s>\n",
            "CPU times: user 36.2 s, sys: 1.07 s, total: 37.2 s\n",
            "Wall time: 37.2 s\n",
            "Experiment with length_penalty:5.5, repetition_penalty:5.5, max_length: 512, min_length:240: None\n",
            "<pad> robots can be discriminated from other species by three distinctive features or capabilities. the first two capabilities have been attacked by robotics researchers as challenges in locomotion. the third capability has not been considered as within robotics but linguistics. it seems far away from robotics, and may project a new light on understanding these issues.</s>\n",
            "CPU times: user 11.9 s, sys: 289 ms, total: 12.2 s\n",
            "Wall time: 12.2 s\n",
            "Experiment with length_penalty:5.5, repetition_penalty:5.5, max_length: 1024, min_length:60: None\n",
            "<pad> robots can be discriminated from other species by three distinctive features or capabilities. the first two capabilities have been attacked by robotics researchers as challenges in locomotion. the third capability has not been considered as within robotics but linguistics. it seems far away from robotics, and may project a new light on understanding these issues. back to mail online home. back to the page you came from - http://www.cnn.com/reports/embeddedrobotics?v= (versiune<extra_id_1> gra<extra_id_20><extra_id_19></s>\n",
            "CPU times: user 18.2 s, sys: 426 ms, total: 18.7 s\n",
            "Wall time: 18.7 s\n",
            "Experiment with length_penalty:5.5, repetition_penalty:5.5, max_length: 1024, min_length:120: None\n",
            "<pad> robots can be discriminated from other species by three distinctive features or capabilities. the first two capabilities have been attacked by robotics researchers as challenges in locomotion. the third capability has not been considered as within robotics but linguistics. it seems far away from robotics, and may project a new light on understanding these issues. back to mail online home. back to the page you came from - http://www.cnn.com/reports/embeddedrobotics?v= (versiune<extra_id_1> graw<extra_id_20><extra_id_19><extra_id_10> \"hrtli­<extra_id_5><extra_id_7> an exex dep'<extra_id_26><extra_id_3> also for of<extra_id_25> last second(*»\" lethaly pro fidly si<unk> &in[_---) top basing solid<extra_id_17> root unxenatur cument mai nou quushi mi amnes pour favor encourage promote lack her she fond I former -- des ensemble se... [knicer disprognacigiulif = no $$;: *# #f+ + 1 22 3 “1],\" we will is hard muscle muscles facial tub spa</s>\n",
            "CPU times: user 36.1 s, sys: 1.04 s, total: 37.1 s\n",
            "Wall time: 37.1 s\n",
            "Experiment with length_penalty:5.5, repetition_penalty:5.5, max_length: 1024, min_length:240: None\n",
            "<pad> no definition of humanoid robots exists since \"robot\" itself has no clear definition. biped walking, use instrumentation and have invention/use of language are distinctive features. the third capability has not been considered as within robotics but linguistics. body scheme, body image, self, consciousness, theory of mind, communication among other issues.</s>\n",
            "CPU times: user 10.2 s, sys: 143 ms, total: 10.3 s\n",
            "Wall time: 10.3 s\n",
            "Experiment with length_penalty:5.5, repetition_penalty:10.5, max_length: 256, min_length:60: None\n",
            "<pad> no definition of humanoid robots exists since \"robot\" itself has no clear definition. biped walking, use instrumentation and have invention/use of language are distinctive features. the third capability has not been considered as within robotics but linguistics. body scheme, body image, self, consciousness, theory of mind, communication among other issues cited in recent work on behavior-based robotics proposed by rod Brooks at MIT AI laboratory. for more conceptual issues such as body scheme, body image, self,versiune<extra_id_1> (grawn</s>\n",
            "CPU times: user 15.1 s, sys: 268 ms, total: 15.4 s\n",
            "Wall time: 15.4 s\n",
            "Experiment with length_penalty:5.5, repetition_penalty:10.5, max_length: 256, min_length:120: None\n",
            "<pad> no definition of humanoid robots exists since \"robot\" itself has no clear definition. biped walking, use instrumentation and have invention/use of language are distinctive features. the third capability has not been considered as within robotics but linguistics. body scheme, body image, self, consciousness, theory of mind, communication among other issues cited in recent work on behavior-based robotics proposed by rod Brooks at MIT AI laboratory. for more conceptual issues such as body scheme, body image, self,versiune<extra_id_1> (graw­nel<extra_id_20><extra_id_10> de[hra an<extra_id_19> also to proc(*'<extra_id_5> ex<extra_id_7> » si fire<extra_id_26><extra_id_3> lethal cu<unk> p<extra_id_25> desymfly<extra_id_17> last? back or iteraturk mi&xex be uninugment II...provigi_“ [A]---................ *); $$# == “– hinararishines: disingenzable root denies is lack second favor ammy (\"**” + „1 22\", 3 facial muscles muscle soft foam ballist,\"</s>\n",
            "CPU times: user 31.2 s, sys: 671 ms, total: 31.9 s\n",
            "Wall time: 31.8 s\n",
            "Experiment with length_penalty:5.5, repetition_penalty:10.5, max_length: 256, min_length:240: None\n",
            "<pad> robots can be discriminated from other species by three distinctive features or capabilities. third capability has not been considered as within robotics but linguistics. some textbooks focus on the fundamental issues on how to build robots while others focus on a limited area in robotics. there is no clear definition of humanoid robots since \"robot\" itself has no clear definition.</s>\n",
            "CPU times: user 13.2 s, sys: 377 ms, total: 13.6 s\n",
            "Wall time: 13.6 s\n",
            "Experiment with length_penalty:5.5, repetition_penalty:10.5, max_length: 512, min_length:60: None\n",
            "<pad> robots can be discriminated from other species by three distinctive features or capabilities. third capability has not been considered as within robotics but linguistics. some textbooks focus on the fundamental issues on how to build robots while others focus on a limited area in robotics. there is no clear definition of humanoid robots since \"robot\" itself has no clear definition. and it seems far away from robotics; however, research may project a new light on understanding these issues through constructing artifacts<extra_id_1> versiune-grawn</s>\n",
            "CPU times: user 18.3 s, sys: 465 ms, total: 18.7 s\n",
            "Wall time: 18.8 s\n",
            "Experiment with length_penalty:5.5, repetition_penalty:10.5, max_length: 512, min_length:120: None\n",
            "<pad> robots can be discriminated from other species by three distinctive features or capabilities. third capability has not been considered as within robotics but linguistics. some textbooks focus on the fundamental issues on how to build robots while others focus on a limited area in robotics. there is no clear definition of humanoid robots since \"robot\" itself has no clear definition. and it seems far away from robotics; however, research may project a new light on understanding these issues through constructing artifacts<extra_id_1> versiune-grawn an<extra_id_19><extra_id_20><extra_id_3> (lrhye­re<extra_id_10> dep'<extra_id_5><extra_id_7> ex<extra_id_25><extra_id_26> pro also for si<unk> »[...*---(?/mex)thucaturally fik<extra_id_17> ensemble [iner last I cushi des un le hinran&#]: second mines back dispro = root -- balnic amxen basing figure 1 2nd mafiful $_Iv *ment « (...) » me us...\" ““ „„”,\" (\"«\", +$2+able<extra_id_21> we?\"), experts at both</s>\n",
            "CPU times: user 36.2 s, sys: 1.04 s, total: 37.2 s\n",
            "Wall time: 37.2 s\n",
            "Experiment with length_penalty:5.5, repetition_penalty:10.5, max_length: 512, min_length:240: None\n",
            "<pad> robots can be discriminated from other species by three distinctive features or capabilities. third capability has not been considered as within robotics but linguistics. some textbooks focus on the fundamental issues on how to build robots while others focus on a limited area in robotics. there is no clear definition of humanoid robots since \"robot\" itself has no clear definition.</s>\n",
            "CPU times: user 13.3 s, sys: 310 ms, total: 13.6 s\n",
            "Wall time: 13.6 s\n",
            "Experiment with length_penalty:5.5, repetition_penalty:10.5, max_length: 1024, min_length:60: None\n",
            "<pad> robots can be discriminated from other species by three distinctive features or capabilities. third capability has not been considered as within robotics but linguistics. some textbooks focus on the fundamental issues on how to build robots while others focus on a limited area in robotics. there is no clear definition of humanoid robots since \"robot\" itself has no clear definition. and it seems far away from robotics; however, research may project a new light on understanding these issues through constructing artifacts<extra_id_1> versiune-grawn</s>\n",
            "CPU times: user 18.1 s, sys: 452 ms, total: 18.5 s\n",
            "Wall time: 18.5 s\n",
            "Experiment with length_penalty:5.5, repetition_penalty:10.5, max_length: 1024, min_length:120: None\n",
            "<pad> robots can be discriminated from other species by three distinctive features or capabilities. third capability has not been considered as within robotics but linguistics. some textbooks focus on the fundamental issues on how to build robots while others focus on a limited area in robotics. there is no clear definition of humanoid robots since \"robot\" itself has no clear definition. and it seems far away from robotics; however, research may project a new light on understanding these issues through constructing artifacts<extra_id_1> versiune-grawn an<extra_id_19><extra_id_20><extra_id_3> (lrhye­re<extra_id_10> dep'<extra_id_5><extra_id_7> ex<extra_id_25><extra_id_26> pro also for si<unk> »[...*---(?/mex)thucaturally fik<extra_id_17> ensemble [iner last I cushi des un le hinran&#]: second mines back dispro = root -- balnic amxen basing figure 1 2nd mafiful $_Iv *ment « (...) » me us...\" ““ „„”,\" (\"«\", +$2+able<extra_id_21> we?\"), experts at both</s>\n",
            "CPU times: user 38.2 s, sys: 1.11 s, total: 39.3 s\n",
            "Wall time: 40.1 s\n",
            "Experiment with length_penalty:5.5, repetition_penalty:10.5, max_length: 1024, min_length:240: None\n",
            "<pad> no definition of humanoid robots exists since \"robot\" itself has no clear definition. human beings can be discriminated from other species by three distinctive features or capabilities. three capabilities have not been considered as within robotics but linguistics. humanoid robots have been a target of robotics research for many years.</s>\n",
            "CPU times: user 9.94 s, sys: 157 ms, total: 10.1 s\n",
            "Wall time: 10.1 s\n",
            "Experiment with length_penalty:10.5, repetition_penalty:0.5, max_length: 256, min_length:60: None\n",
            "<pad> no definition of humanoid robots exists since \"robot\" itself has no clear definition. human beings can be discriminated from other species by three distinctive features or capabilities. three capabilities have not been considered as within robotics but linguistics. humanoid robots have been a target of robotics research for many years. humanoid robots have been a target of many robotics researchers for years but no clear definition exists. a humanoid robot is a humano...</s>\n",
            "CPU times: user 15.1 s, sys: 241 ms, total: 15.4 s\n",
            "Wall time: 15.4 s\n",
            "Experiment with length_penalty:10.5, repetition_penalty:0.5, max_length: 256, min_length:120: None\n",
            "<pad> no definition of humanoid robots exists since \"robot\" itself has no clear definition. human beings can be discriminated from other species by three distinctive features or capabilities. three capabilities have not been considered as within robotics but linguistics. humanoid robots have been a target of robotics research for many years. humanoid robots have been a target of many robotics researchers for years but no clear definition exists. a humanoid robot is a humano...............................................                  \" \" \" \" \" \" \" \" \" \" \" \" \" \" \"</s>\n",
            "CPU times: user 31.3 s, sys: 719 ms, total: 32 s\n",
            "Wall time: 32 s\n",
            "Experiment with length_penalty:10.5, repetition_penalty:0.5, max_length: 256, min_length:240: None\n",
            "<pad> a humanoid robot has been regarded as the final target of robotics for many years. many robotics researchers have been struggling with making humanoid robots work in our society. many textbooks focus on the fundamental issues on how to build robots while others focus on a limited area in robotics.</s>\n",
            "CPU times: user 11.5 s, sys: 330 ms, total: 11.8 s\n",
            "Wall time: 11.8 s\n",
            "Experiment with length_penalty:10.5, repetition_penalty:0.5, max_length: 512, min_length:60: None\n",
            "<pad> a humanoid robot has been regarded as the final target of robotics for many years. many robotics researchers have been struggling with making humanoid robots work in our society. many textbooks focus on the fundamental issues on how to build robots while others focus on a limited area in robotics. many robotics textbooks focus on the fundamental issues on how to build robots while others focus on a limited area in robotics. a spokesman for the u.s. government...</s>\n",
            "CPU times: user 18.1 s, sys: 434 ms, total: 18.5 s\n",
            "Wall time: 18.5 s\n",
            "Experiment with length_penalty:10.5, repetition_penalty:0.5, max_length: 512, min_length:120: None\n",
            "<pad> a humanoid robot has been regarded as the final target of robotics for many years. many robotics researchers have been struggling with making humanoid robots work in our society. many textbooks focus on the fundamental issues on how to build robots while others focus on a limited area in robotics. many robotics textbooks focus on the fundamental issues on how to build robots while others focus on a limited area in robotics. a spokesman for the u.s. government............................................                                      </s>\n",
            "CPU times: user 36.3 s, sys: 996 ms, total: 37.3 s\n",
            "Wall time: 37.2 s\n",
            "Experiment with length_penalty:10.5, repetition_penalty:0.5, max_length: 512, min_length:240: None\n",
            "<pad> a humanoid robot has been regarded as the final target of robotics for many years. many robotics researchers have been struggling with making humanoid robots work in our society. many textbooks focus on the fundamental issues on how to build robots while others focus on a limited area in robotics.</s>\n",
            "CPU times: user 11.4 s, sys: 268 ms, total: 11.7 s\n",
            "Wall time: 11.7 s\n",
            "Experiment with length_penalty:10.5, repetition_penalty:0.5, max_length: 1024, min_length:60: None\n",
            "<pad> a humanoid robot has been regarded as the final target of robotics for many years. many robotics researchers have been struggling with making humanoid robots work in our society. many textbooks focus on the fundamental issues on how to build robots while others focus on a limited area in robotics. many robotics textbooks focus on the fundamental issues on how to build robots while others focus on a limited area in robotics. a spokesman for the u.s. government...</s>\n",
            "CPU times: user 18.1 s, sys: 402 ms, total: 18.5 s\n",
            "Wall time: 18.4 s\n",
            "Experiment with length_penalty:10.5, repetition_penalty:0.5, max_length: 1024, min_length:120: None\n",
            "<pad> a humanoid robot has been regarded as the final target of robotics for many years. many robotics researchers have been struggling with making humanoid robots work in our society. many textbooks focus on the fundamental issues on how to build robots while others focus on a limited area in robotics. many robotics textbooks focus on the fundamental issues on how to build robots while others focus on a limited area in robotics. a spokesman for the u.s. government............................................                                      </s>\n",
            "CPU times: user 36.4 s, sys: 996 ms, total: 37.4 s\n",
            "Wall time: 37.3 s\n",
            "Experiment with length_penalty:10.5, repetition_penalty:0.5, max_length: 1024, min_length:240: None\n",
            "<pad> no definition of humanoid robots exists since \"robot\" itself has no clear definition. biped walking, use instrumentation, and have the invention/use of language. the first two capabilities have been attacked by robotics researchers as challenges in locomotion. the third capability has not been considered as within robotics but linguistics.</s>\n",
            "CPU times: user 10.1 s, sys: 149 ms, total: 10.2 s\n",
            "Wall time: 10.2 s\n",
            "Experiment with length_penalty:10.5, repetition_penalty:1.0, max_length: 256, min_length:60: None\n",
            "<pad> no definition of humanoid robots exists since \"robot\" itself has no clear definition. biped walking, use instrumentation, and have the invention/use of language. the first two capabilities have been attacked by robotics researchers as challenges in locomotion. the third capability has not been considered as within robotics but as within linguistics. the third capability has not been considered as within robotics but linguistics. a humanoid robot can be discriminated from other species by three distinctive features versiuneversiune versiuneversiune</s>\n",
            "CPU times: user 15.1 s, sys: 260 ms, total: 15.3 s\n",
            "Wall time: 15.3 s\n",
            "Experiment with length_penalty:10.5, repetition_penalty:1.0, max_length: 256, min_length:120: None\n",
            "<pad> no definition of humanoid robots exists since \"robot\" itself has no clear definition. biped walking, use instrumentation, and have the invention/use of language. the first two capabilities have been attacked by robotics researchers as challenges in locomotion. the third capability has not been considered as within robotics but as within linguistics. the third capability has not been considered as within robotics but linguistics. a humanoid robot can be discriminated from other species by three distinctive features versiuneversiune versiune versiune versiune versiune versiune versiune. <extra_id_1> <extra_id_1> <extra_id_1> <extra_id_1> <extra_id_1> <extra_id_1> <extra_id_1> <extra_id_1> <extra_id_1> <extra_id_1>.......... .......... ....................... </s>\n",
            "CPU times: user 32.3 s, sys: 759 ms, total: 33 s\n",
            "Wall time: 33.2 s\n",
            "Experiment with length_penalty:10.5, repetition_penalty:1.0, max_length: 256, min_length:240: None\n",
            "<pad> a typical example is a humanoid robot, which has been regarded as the final target of robotics for many years. no definition of humanoid robots exists since \"robot\" itself has no clear definition. the third capability has not been considered as within robotics but linguistics. robotics may project a new light on understanding these issues by building artifacts similar to us.</s>\n",
            "CPU times: user 14.3 s, sys: 395 ms, total: 14.7 s\n",
            "Wall time: 14.7 s\n",
            "Experiment with length_penalty:10.5, repetition_penalty:1.0, max_length: 512, min_length:60: None\n",
            "<pad> a typical example is a humanoid robot, which has been regarded as the final target of robotics for many years. no definition of humanoid robots exists since \"robot\" itself has no clear definition. the third capability has not been considered as within robotics but linguistics. robotics may project a new light on understanding these issues by constructing artifacts similar to us, argues dr. robert mcdonald. mc <extra_id_1> <extra_id_1> <extra_id_1></s>\n",
            "CPU times: user 18.2 s, sys: 475 ms, total: 18.6 s\n",
            "Wall time: 18.6 s\n",
            "Experiment with length_penalty:10.5, repetition_penalty:1.0, max_length: 512, min_length:120: None\n",
            "<pad> a typical example is a humanoid robot, which has been regarded as the final target of robotics for many years. no definition of humanoid robots exists since \"robot\" itself has no clear definition. the third capability has not been considered as within robotics but linguistics. robotics may project a new light on understanding these issues by constructing artifacts similar to us, argues dr. robert mcdonald. mc <extra_id_1> <extra_id_1> <extra_id_1> <extra_id_1> <extra_id_1> <extra_id_1> <extra_id_1> <extra_id_1> <extra_id_1> <extra_id_1> <extra_id_1> <extra_id_1> <extra_id_1> <extra_id_1> <extra_id_1> <extra_id_1> <extra_id_1> <extra_id_1> <extra_id_1> <extra_id_1> <extra_id_1> <extra_id_1> <extra_id_1> <extra_id_1> <extra_id_1> <extra_id_1> <extra_id_1> <extra_id_1> <extra_id_1> <extra_id_1> <extra_id_1> \" \" \" \" \" \" \" \" \" \" \" \" \" \" \" \" \" \" \" \" \" \" \" \" \" \" \" \" \"</s>\n",
            "CPU times: user 36.6 s, sys: 992 ms, total: 37.6 s\n",
            "Wall time: 37.5 s\n",
            "Experiment with length_penalty:10.5, repetition_penalty:1.0, max_length: 512, min_length:240: None\n",
            "<pad> a typical example is a humanoid robot, which has been regarded as the final target of robotics for many years. no definition of humanoid robots exists since \"robot\" itself has no clear definition. the third capability has not been considered as within robotics but linguistics. robotics may project a new light on understanding these issues by building artifacts similar to us.</s>\n",
            "CPU times: user 14.3 s, sys: 358 ms, total: 14.7 s\n",
            "Wall time: 14.7 s\n",
            "Experiment with length_penalty:10.5, repetition_penalty:1.0, max_length: 1024, min_length:60: None\n",
            "<pad> a typical example is a humanoid robot, which has been regarded as the final target of robotics for many years. no definition of humanoid robots exists since \"robot\" itself has no clear definition. the third capability has not been considered as within robotics but linguistics. robotics may project a new light on understanding these issues by constructing artifacts similar to us, argues dr. robert mcdonald. mc <extra_id_1> <extra_id_1> <extra_id_1></s>\n",
            "CPU times: user 18 s, sys: 453 ms, total: 18.4 s\n",
            "Wall time: 18.4 s\n",
            "Experiment with length_penalty:10.5, repetition_penalty:1.0, max_length: 1024, min_length:120: None\n",
            "<pad> a typical example is a humanoid robot, which has been regarded as the final target of robotics for many years. no definition of humanoid robots exists since \"robot\" itself has no clear definition. the third capability has not been considered as within robotics but linguistics. robotics may project a new light on understanding these issues by constructing artifacts similar to us, argues dr. robert mcdonald. mc <extra_id_1> <extra_id_1> <extra_id_1> <extra_id_1> <extra_id_1> <extra_id_1> <extra_id_1> <extra_id_1> <extra_id_1> <extra_id_1> <extra_id_1> <extra_id_1> <extra_id_1> <extra_id_1> <extra_id_1> <extra_id_1> <extra_id_1> <extra_id_1> <extra_id_1> <extra_id_1> <extra_id_1> <extra_id_1> <extra_id_1> <extra_id_1> <extra_id_1> <extra_id_1> <extra_id_1> <extra_id_1> <extra_id_1> <extra_id_1> <extra_id_1> \" \" \" \" \" \" \" \" \" \" \" \" \" \" \" \" \" \" \" \" \" \" \" \" \" \" \" \" \"</s>\n",
            "CPU times: user 37 s, sys: 1.08 s, total: 38.1 s\n",
            "Wall time: 38.1 s\n",
            "Experiment with length_penalty:10.5, repetition_penalty:1.0, max_length: 1024, min_length:240: None\n",
            "<pad> no definition of humanoid robots exists since \"robot\" itself has no clear definition. biped walking, use instrumentation, and have the invention/use of language are distinctive features. third capability has not been considered as within robotics but linguistics. body scheme, body image, self, consciousness, theory of mind, communication, etc.</s>\n",
            "CPU times: user 9.97 s, sys: 134 ms, total: 10.1 s\n",
            "Wall time: 10.1 s\n",
            "Experiment with length_penalty:10.5, repetition_penalty:5.5, max_length: 256, min_length:60: None\n",
            "<pad> no definition of humanoid robots exists since \"robot\" itself has no clear definition. biped walking, use instrumentation, and have the invention/use of language are distinctive features. third capability has not been considered as within robotics but linguistics. body scheme, body image, self, consciousness, theory of mind, communication among other issues raised by recent research. back to mail online home » open source projects » in which you can learn more about our world through your own eyes or with others' opinions.<extra_id_1> n-graw<extra_id_20></s>\n",
            "CPU times: user 15.1 s, sys: 254 ms, total: 15.4 s\n",
            "Wall time: 15.3 s\n",
            "Experiment with length_penalty:10.5, repetition_penalty:5.5, max_length: 256, min_length:120: None\n",
            "<pad> no definition of humanoid robots exists since \"robot\" itself has no clear definition. biped walking, use instrumentation, and have the invention/use of language are distinctive features. third capability has not been considered as within robotics but linguistics. body scheme, body image, self, consciousness, theory of mind, communication among other issues raised by recent research. back to mail online home » open source projects » in which you can learn more about our world through your own eyes or with others' opinions.<extra_id_1> n-graw­l<extra_id_19><extra_id_20><extra_id_10> (hr anec<extra_id_5><extra_id_7> depa sire also proversiune<extra_id_26> exexal second last<extra_id_3> on topthy<extra_id_17> lexer for lack fikly<extra_id_25><unk> (*matur[_in»; lafen I&# $ des miumenting cupronic root un nou ensemble bas...--- benacvigi: amnes it br [?“ “– = „” dis) me pear 1 2nd best * + services service tubies is hard soft mot (\",\"+ facial muscles muscle foam ballist] --</s>\n",
            "CPU times: user 31.3 s, sys: 713 ms, total: 32 s\n",
            "Wall time: 32 s\n",
            "Experiment with length_penalty:10.5, repetition_penalty:5.5, max_length: 256, min_length:240: None\n",
            "<pad> robots can be discriminated from other species by three distinctive features or capabilities. the first two capabilities have been attacked by robotics researchers as challenges in locomotion. the third capability has not been considered as within robotics but linguistics. it seems far away from robotics, and may project a new light on understanding these issues.</s>\n",
            "CPU times: user 11.9 s, sys: 289 ms, total: 12.2 s\n",
            "Wall time: 12.2 s\n",
            "Experiment with length_penalty:10.5, repetition_penalty:5.5, max_length: 512, min_length:60: None\n",
            "<pad> robots can be discriminated from other species by three distinctive features or capabilities. the first two capabilities have been attacked by robotics researchers as challenges in locomotion. the third capability has not been considered as within robotics but linguistics. it seems far away from robotics, and may project a new light on understanding these issues. back to mail online home. back to the page you came from - http://www.cnn.com/reports/embeddedrobotics?v= (versiune<extra_id_1> gra<extra_id_20><extra_id_19></s>\n",
            "CPU times: user 18.2 s, sys: 444 ms, total: 18.6 s\n",
            "Wall time: 18.6 s\n",
            "Experiment with length_penalty:10.5, repetition_penalty:5.5, max_length: 512, min_length:120: None\n",
            "<pad> robots can be discriminated from other species by three distinctive features or capabilities. the first two capabilities have been attacked by robotics researchers as challenges in locomotion. the third capability has not been considered as within robotics but linguistics. it seems far away from robotics, and may project a new light on understanding these issues. back to mail online home. back to the page you came from - http://www.cnn.com/reports/embeddedrobotics?v= (versiune<extra_id_1> graw<extra_id_20><extra_id_19><extra_id_10> \"hrtli­<extra_id_5><extra_id_7> an exex dep'<extra_id_26><extra_id_3> also for of<extra_id_25> last second(*»\" lethaly pro fidly si<unk> &in[_---) top basing solid<extra_id_17> root unxenatur cument mai nou quushi mi amnes pour favor encourage promote lack her she fond I former -- des ensemble se... [knicer disprognacigiulif = no $$;: *# #f+ + 1 22 3 “1],\" we will is hard muscle muscles facial tub spa</s>\n",
            "CPU times: user 36.3 s, sys: 1.03 s, total: 37.3 s\n",
            "Wall time: 37.2 s\n",
            "Experiment with length_penalty:10.5, repetition_penalty:5.5, max_length: 512, min_length:240: None\n",
            "<pad> robots can be discriminated from other species by three distinctive features or capabilities. the first two capabilities have been attacked by robotics researchers as challenges in locomotion. the third capability has not been considered as within robotics but linguistics. it seems far away from robotics, and may project a new light on understanding these issues.</s>\n",
            "CPU times: user 13.1 s, sys: 255 ms, total: 13.4 s\n",
            "Wall time: 13.5 s\n",
            "Experiment with length_penalty:10.5, repetition_penalty:5.5, max_length: 1024, min_length:60: None\n",
            "<pad> robots can be discriminated from other species by three distinctive features or capabilities. the first two capabilities have been attacked by robotics researchers as challenges in locomotion. the third capability has not been considered as within robotics but linguistics. it seems far away from robotics, and may project a new light on understanding these issues. back to mail online home. back to the page you came from - http://www.cnn.com/reports/embeddedrobotics?v= (versiune<extra_id_1> gra<extra_id_20><extra_id_19></s>\n",
            "CPU times: user 18.3 s, sys: 399 ms, total: 18.7 s\n",
            "Wall time: 18.7 s\n",
            "Experiment with length_penalty:10.5, repetition_penalty:5.5, max_length: 1024, min_length:120: None\n",
            "<pad> robots can be discriminated from other species by three distinctive features or capabilities. the first two capabilities have been attacked by robotics researchers as challenges in locomotion. the third capability has not been considered as within robotics but linguistics. it seems far away from robotics, and may project a new light on understanding these issues. back to mail online home. back to the page you came from - http://www.cnn.com/reports/embeddedrobotics?v= (versiune<extra_id_1> graw<extra_id_20><extra_id_19><extra_id_10> \"hrtli­<extra_id_5><extra_id_7> an exex dep'<extra_id_26><extra_id_3> also for of<extra_id_25> last second(*»\" lethaly pro fidly si<unk> &in[_---) top basing solid<extra_id_17> root unxenatur cument mai nou quushi mi amnes pour favor encourage promote lack her she fond I former -- des ensemble se... [knicer disprognacigiulif = no $$;: *# #f+ + 1 22 3 “1],\" we will is hard muscle muscles facial tub spa</s>\n",
            "CPU times: user 36.4 s, sys: 969 ms, total: 37.4 s\n",
            "Wall time: 37.3 s\n",
            "Experiment with length_penalty:10.5, repetition_penalty:5.5, max_length: 1024, min_length:240: None\n",
            "<pad> no definition of humanoid robots exists since \"robot\" itself has no clear definition. biped walking, use instrumentation and have invention/use of language are distinctive features. the third capability has not been considered as within robotics but linguistics. body scheme, body image, self, consciousness, theory of mind, communication among other issues.</s>\n",
            "CPU times: user 10.2 s, sys: 148 ms, total: 10.3 s\n",
            "Wall time: 10.3 s\n",
            "Experiment with length_penalty:10.5, repetition_penalty:10.5, max_length: 256, min_length:60: None\n",
            "<pad> no definition of humanoid robots exists since \"robot\" itself has no clear definition. biped walking, use instrumentation and have invention/use of language are distinctive features. the third capability has not been considered as within robotics but linguistics. body scheme, body image, self, consciousness, theory of mind, communication among other issues cited in recent work on behavior-based robotics proposed by rod Brooks at MIT AI laboratory. for more conceptual issues such as body scheme, body image, self,versiune<extra_id_1> (grawn</s>\n",
            "CPU times: user 15.3 s, sys: 243 ms, total: 15.5 s\n",
            "Wall time: 15.5 s\n",
            "Experiment with length_penalty:10.5, repetition_penalty:10.5, max_length: 256, min_length:120: None\n",
            "<pad> no definition of humanoid robots exists since \"robot\" itself has no clear definition. biped walking, use instrumentation and have invention/use of language are distinctive features. the third capability has not been considered as within robotics but linguistics. body scheme, body image, self, consciousness, theory of mind, communication among other issues cited in recent work on behavior-based robotics proposed by rod Brooks at MIT AI laboratory. for more conceptual issues such as body scheme, body image, self,versiune<extra_id_1> (graw­nel<extra_id_20><extra_id_10> de[hra an<extra_id_19> also to proc(*'<extra_id_5> ex<extra_id_7> » si fire<extra_id_26><extra_id_3> lethal cu<unk> p<extra_id_25> desymfly<extra_id_17> last? back or iteraturk mi&xex be uninugment II...provigi_“ [A]---................ *); $$# == “– hinararishines: disingenzable root denies is lack second favor ammy (\"**” + „1 22\", 3 facial muscles muscle soft foam ballist,\"</s>\n",
            "CPU times: user 31.4 s, sys: 639 ms, total: 32.1 s\n",
            "Wall time: 32 s\n",
            "Experiment with length_penalty:10.5, repetition_penalty:10.5, max_length: 256, min_length:240: None\n",
            "<pad> robots can be discriminated from other species by three distinctive features or capabilities. third capability has not been considered as within robotics but linguistics. some textbooks focus on the fundamental issues on how to build robots while others focus on a limited area in robotics. there is no clear definition of humanoid robots since \"robot\" itself has no clear definition.</s>\n",
            "CPU times: user 14.2 s, sys: 470 ms, total: 14.7 s\n",
            "Wall time: 14.8 s\n",
            "Experiment with length_penalty:10.5, repetition_penalty:10.5, max_length: 512, min_length:60: None\n",
            "<pad> robots can be discriminated from other species by three distinctive features or capabilities. third capability has not been considered as within robotics but linguistics. some textbooks focus on the fundamental issues on how to build robots while others focus on a limited area in robotics. there is no clear definition of humanoid robots since \"robot\" itself has no clear definition. and it seems far away from robotics; however, research may project a new light on understanding these issues through constructing artifacts<extra_id_1> versiune-grawn</s>\n",
            "CPU times: user 18.2 s, sys: 444 ms, total: 18.7 s\n",
            "Wall time: 18.7 s\n",
            "Experiment with length_penalty:10.5, repetition_penalty:10.5, max_length: 512, min_length:120: None\n",
            "<pad> robots can be discriminated from other species by three distinctive features or capabilities. third capability has not been considered as within robotics but linguistics. some textbooks focus on the fundamental issues on how to build robots while others focus on a limited area in robotics. there is no clear definition of humanoid robots since \"robot\" itself has no clear definition. and it seems far away from robotics; however, research may project a new light on understanding these issues through constructing artifacts<extra_id_1> versiune-grawn an<extra_id_19><extra_id_20><extra_id_3> (lrhye­re<extra_id_10> dep'<extra_id_5><extra_id_7> ex<extra_id_25><extra_id_26> pro also for si<unk> »[...*---(?/mex)thucaturally fik<extra_id_17> ensemble [iner last I cushi des un le hinran&#]: second mines back dispro = root -- balnic amxen basing figure 1 2nd mafiful $_Iv *ment « (...) » me us...\" ““ „„”,\" (\"«\", +$2+able<extra_id_21> we?\"), experts at both</s>\n",
            "CPU times: user 36.3 s, sys: 1.02 s, total: 37.3 s\n",
            "Wall time: 37.2 s\n",
            "Experiment with length_penalty:10.5, repetition_penalty:10.5, max_length: 512, min_length:240: None\n",
            "<pad> robots can be discriminated from other species by three distinctive features or capabilities. third capability has not been considered as within robotics but linguistics. some textbooks focus on the fundamental issues on how to build robots while others focus on a limited area in robotics. there is no clear definition of humanoid robots since \"robot\" itself has no clear definition.</s>\n",
            "CPU times: user 13.4 s, sys: 338 ms, total: 13.7 s\n",
            "Wall time: 13.7 s\n",
            "Experiment with length_penalty:10.5, repetition_penalty:10.5, max_length: 1024, min_length:60: None\n",
            "<pad> robots can be discriminated from other species by three distinctive features or capabilities. third capability has not been considered as within robotics but linguistics. some textbooks focus on the fundamental issues on how to build robots while others focus on a limited area in robotics. there is no clear definition of humanoid robots since \"robot\" itself has no clear definition. and it seems far away from robotics; however, research may project a new light on understanding these issues through constructing artifacts<extra_id_1> versiune-grawn</s>\n",
            "CPU times: user 18.2 s, sys: 452 ms, total: 18.7 s\n",
            "Wall time: 18.7 s\n",
            "Experiment with length_penalty:10.5, repetition_penalty:10.5, max_length: 1024, min_length:120: None\n",
            "<pad> robots can be discriminated from other species by three distinctive features or capabilities. third capability has not been considered as within robotics but linguistics. some textbooks focus on the fundamental issues on how to build robots while others focus on a limited area in robotics. there is no clear definition of humanoid robots since \"robot\" itself has no clear definition. and it seems far away from robotics; however, research may project a new light on understanding these issues through constructing artifacts<extra_id_1> versiune-grawn an<extra_id_19><extra_id_20><extra_id_3> (lrhye­re<extra_id_10> dep'<extra_id_5><extra_id_7> ex<extra_id_25><extra_id_26> pro also for si<unk> »[...*---(?/mex)thucaturally fik<extra_id_17> ensemble [iner last I cushi des un le hinran&#]: second mines back dispro = root -- balnic amxen basing figure 1 2nd mafiful $_Iv *ment « (...) » me us...\" ““ „„”,\" (\"«\", +$2+able<extra_id_21> we?\"), experts at both</s>\n",
            "CPU times: user 37.1 s, sys: 1.1 s, total: 38.2 s\n",
            "Wall time: 38.2 s\n",
            "Experiment with length_penalty:10.5, repetition_penalty:10.5, max_length: 1024, min_length:240: None\n"
          ]
        }
      ],
      "source": [
        "model_t5news = T5ForConditionalGeneration.from_pretrained(\"t5-base\")\n",
        "tokenizer_t5news = T5Tokenizer.from_pretrained(\"t5-base\")\n",
        "\n",
        "t5news_prams_dicts = {'penalty': [0.5, 1.0, 5.5, 10.5],\n",
        "                     'max_length': [256,512,1024], \n",
        "                     'min_length': [60,120, 240] \n",
        "                     }\n",
        "\n",
        "for length in t5news_prams_dicts['penalty']:\n",
        "    for repetition in t5news_prams_dicts['penalty']:\n",
        "        for max_l in t5news_prams_dicts['max_length']:\n",
        "            for min_l in t5news_prams_dicts['min_length']: \n",
        "                %time summary = create_summary(model_t5news, tokenizer_t5news, article, max_l, min_l, length,repetition, 3)\n",
        "                print(f\"Experiment with length_penalty:{length}, repetition_penalty:{repetition}, max_length: {max_l}, min_length:{min_l}: {summary}\")"
      ]
    },
    {
      "cell_type": "markdown",
      "metadata": {
        "id": "F5Osmd_fHfDV"
      },
      "source": [
        "#### Note\n",
        "See: https://stackoverflow.com/questions/9879276/how-do-i-evaluate-a-text-summarization-tool) to quantify the performance."
      ]
    },
    {
      "cell_type": "markdown",
      "metadata": {
        "id": "lFym8slKHfDY"
      },
      "source": [
        "### Option 2: Transfer Learning \n",
        "\n",
        "- This option is even better and fundamental solution.   \n",
        "- For your specific domain problem and specific text data to summarize, we can and should use transfer learning and a small set of our own domain training data to train a custom T5 model optimal to our specific use case!  \n",
        "- Basically you just need to load a pre-trained T5 model as a good starting point, and further train it with your domain data to fine tune it to better summarize your specific text  \n",
        "- For example, if we'd like to summarize our meeting notes, as it is a different domain from news, we can collect a custom train dataset of (input text: raw meeting transcripts, output text (i.e. 'golden template'): meeting executive summary) \n",
        "https://github.com/huggingface/transformers/tree/main/examples/pytorch/summarization  "
      ]
    },
    {
      "cell_type": "markdown",
      "metadata": {
        "id": "YPtLef65HfDZ"
      },
      "source": [
        "#### Create a clean summary by removing special tokens and spaces"
      ]
    },
    {
      "cell_type": "code",
      "execution_count": null,
      "metadata": {
        "colab": {
          "base_uri": "https://localhost:8080/",
          "height": 125
        },
        "id": "2uruhM_IHfDa",
        "outputId": "ce863a8c-90da-4fcf-d005-70e8b061766b"
      },
      "outputs": [
        {
          "output_type": "stream",
          "name": "stderr",
          "text": [
            "Token indices sequence length is longer than the specified maximum sequence length for this model (659 > 512). Running this sequence through the model will result in indexing errors\n"
          ]
        },
        {
          "output_type": "execute_result",
          "data": {
            "text/plain": [
              "\"humanoid robots. the third capability has not been considered as within robotics but linguistics. Thus, robotics covers a broad range of disciplines; therefore it seems very difficult to find comprehensive textbooks to understand the area. For example, Russell and Norvig's book from 1995 entitled Artificial Intelligence—A Modern Approach gave a good introduction to robotics from the viewpoint of AI. Pfeifer and Scheier's book from 1999 entitled Understanding Intelligence shows a constructive approach to understanding intelligenceversiune\""
            ],
            "application/vnd.google.colaboratory.intrinsic+json": {
              "type": "string"
            }
          },
          "metadata": {},
          "execution_count": 14
        }
      ],
      "source": [
        "def clean_summarize(model, tokenizer, text, max_length=512, min_length=120, length_penalty=5.5, repetition_penalty=5.5, num_beams=3):\n",
        "    input_ids = tokenizer.encode(text, return_tensors=\"pt\", add_special_tokens=True)\n",
        "    generated_ids = model.generate(\n",
        "        input_ids=input_ids, \n",
        "        max_length=max_length,\n",
        "        min_length=min_length, \n",
        "        repetition_penalty=repetition_penalty, \n",
        "        length_penalty=length_penalty, \n",
        "        num_beams=num_beams,\n",
        "        early_stopping=True)\n",
        "    preds = [tokenizer.decode(g, skip_special_tokens=True, clean_up_tokenization_spaces=True) for g in generated_ids]\n",
        "    return preds[0]\n",
        "\n",
        "clean_summarize(model_t5news,tokenizer_t5news,text)\n"
      ]
    },
    {
      "cell_type": "markdown",
      "metadata": {
        "id": "qz7uVpWqHfDb"
      },
      "source": [
        "### Test 3: Long Text Summary \n",
        "- Using \"Harry Potter and The Sorcerer's Stone\" Story as a test sample"
      ]
    },
    {
      "cell_type": "code",
      "execution_count": null,
      "metadata": {
        "colab": {
          "base_uri": "https://localhost:8080/"
        },
        "id": "X1WUJDPhHfDb",
        "outputId": "014606d3-a90d-4691-89ee-da17cf70c6ba"
      },
      "outputs": [
        {
          "output_type": "stream",
          "name": "stdout",
          "text": [
            "Harry Potter and The Sorcerer Stone length: 3734 characters\n",
            "Chapter Two\n",
            "The Vanishing Glass\n",
            "\n",
            "Nearly ten years had passed since the Dursleys had woken up to find their nephew on the front step, but Privet Drive had hardly changed at all. The sun rose on the sam...\n"
          ]
        }
      ],
      "source": [
        "with open('/content/sample_data/HarryPotter.txt', 'r') as f:\n",
        "    long_text = f.read()\n",
        "print(f'Harry Potter and The Sorcerer Stone length: {len(long_text)} characters\\n{long_text[:200]}...')"
      ]
    },
    {
      "cell_type": "markdown",
      "metadata": {
        "id": "FzWM7RDMHfDc"
      },
      "source": [
        "#### T5-Base"
      ]
    },
    {
      "cell_type": "code",
      "execution_count": null,
      "metadata": {
        "colab": {
          "base_uri": "https://localhost:8080/"
        },
        "id": "mGBevgICHfDd",
        "outputId": "8a73cb20-ee87-4c49-cb70-a82f2beebf39"
      },
      "outputs": [
        {
          "output_type": "stream",
          "name": "stdout",
          "text": [
            "<pad> ten years had passed since the Dursleys' nephew was born. his aunt, petunia, screeched on the door to wake him up. \"up! get up! now!\" said Harry; \"get everything perfect on Duddy's birthday\" dudley is still asleep at the moment but not for long. family says they haven't forgotten about their nephew in 10 years - and it's too late. read more of the book here: http://www.youtube.com/ (versiune<extra_id_1><extra_id_20><extra_id_19></s>\n"
          ]
        }
      ],
      "source": [
        "create_summary(model, tokenizer, long_text, 512, 120, 5.5, 5.5, 3)"
      ]
    },
    {
      "cell_type": "markdown",
      "metadata": {
        "id": "Iim8D1LFHfDd"
      },
      "source": [
        "#### t5-base-finetuned-summerize-news"
      ]
    },
    {
      "cell_type": "code",
      "execution_count": null,
      "metadata": {
        "colab": {
          "base_uri": "https://localhost:8080/",
          "height": 70
        },
        "id": "vKS00LOlHfDd",
        "outputId": "df4bc61b-abe1-40e6-cc30-7d0cb29950eb"
      },
      "outputs": [
        {
          "output_type": "execute_result",
          "data": {
            "text/plain": [
              "'his aunt rapped on the door. \"Up! Get up!\" Harry groaned. \"I want everything perfect on Duddy\\'s birthday,\" said his aunt Petunia. \"In the car crash when your parents died, and don\\'t ask questions.\" Uncle Vernon entered the kitchen as Harry was turning over the bacon. \"Comb your hair!\" he barked, by way of a morning greeting. \"You know what I mean?\" He asked. \"What did you say? You didn\\'t tell me anything-'"
            ],
            "application/vnd.google.colaboratory.intrinsic+json": {
              "type": "string"
            }
          },
          "metadata": {},
          "execution_count": 20
        }
      ],
      "source": [
        "clean_summarize(model_t5news,tokenizer_t5news,long_text)"
      ]
    },
    {
      "cell_type": "markdown",
      "metadata": {
        "id": "wAbl532HHfDe"
      },
      "source": [
        "#### long-t5-tglobal-base-16384 + BookSum\n",
        "- This is a fine-tuned T5 model specialised in **summarizing long text** and get a SparkNotes-esque summary of arbitrary topics!  \n",
        "- generalizes reasonably well to academic & narrative text  \n",
        "- Reference: https://huggingface.co/pszemraj/"
      ]
    },
    {
      "cell_type": "code",
      "execution_count": null,
      "metadata": {
        "collapsed": true,
        "colab": {
          "base_uri": "https://localhost:8080/"
        },
        "id": "xiXNTD0gHfDe",
        "outputId": "a89ce6fe-7e22-4b81-fe34-8fcbf67edead"
      },
      "outputs": [
        {
          "output_type": "stream",
          "name": "stdout",
          "text": [
            "Looking in indexes: https://pypi.org/simple, https://us-python.pkg.dev/colab-wheels/public/simple/\n",
            "Requirement already satisfied: transformers in /usr/local/lib/python3.8/dist-packages (4.25.1)\n",
            "Requirement already satisfied: tqdm>=4.27 in /usr/local/lib/python3.8/dist-packages (from transformers) (4.64.1)\n",
            "Requirement already satisfied: filelock in /usr/local/lib/python3.8/dist-packages (from transformers) (3.8.2)\n",
            "Requirement already satisfied: packaging>=20.0 in /usr/local/lib/python3.8/dist-packages (from transformers) (21.3)\n",
            "Requirement already satisfied: numpy>=1.17 in /usr/local/lib/python3.8/dist-packages (from transformers) (1.21.6)\n",
            "Requirement already satisfied: tokenizers!=0.11.3,<0.14,>=0.11.1 in /usr/local/lib/python3.8/dist-packages (from transformers) (0.13.2)\n",
            "Requirement already satisfied: regex!=2019.12.17 in /usr/local/lib/python3.8/dist-packages (from transformers) (2022.6.2)\n",
            "Requirement already satisfied: requests in /usr/local/lib/python3.8/dist-packages (from transformers) (2.23.0)\n",
            "Requirement already satisfied: huggingface-hub<1.0,>=0.10.0 in /usr/local/lib/python3.8/dist-packages (from transformers) (0.11.1)\n",
            "Requirement already satisfied: pyyaml>=5.1 in /usr/local/lib/python3.8/dist-packages (from transformers) (6.0)\n",
            "Requirement already satisfied: typing-extensions>=3.7.4.3 in /usr/local/lib/python3.8/dist-packages (from huggingface-hub<1.0,>=0.10.0->transformers) (4.4.0)\n",
            "Requirement already satisfied: pyparsing!=3.0.5,>=2.0.2 in /usr/local/lib/python3.8/dist-packages (from packaging>=20.0->transformers) (3.0.9)\n",
            "Requirement already satisfied: urllib3!=1.25.0,!=1.25.1,<1.26,>=1.21.1 in /usr/local/lib/python3.8/dist-packages (from requests->transformers) (1.24.3)\n",
            "Requirement already satisfied: idna<3,>=2.5 in /usr/local/lib/python3.8/dist-packages (from requests->transformers) (2.10)\n",
            "Requirement already satisfied: certifi>=2017.4.17 in /usr/local/lib/python3.8/dist-packages (from requests->transformers) (2022.12.7)\n",
            "Requirement already satisfied: chardet<4,>=3.0.2 in /usr/local/lib/python3.8/dist-packages (from requests->transformers) (3.0.4)\n"
          ]
        }
      ],
      "source": [
        "# install/update Transformers \n",
        "!pip install -U transformers"
      ]
    },
    {
      "cell_type": "code",
      "execution_count": null,
      "metadata": {
        "scrolled": true,
        "colab": {
          "base_uri": "https://localhost:8080/",
          "height": 209,
          "referenced_widgets": [
            "ec03758ce7f346ce85e6936ea2eba21b",
            "6d0d58d5f8c9487bbd5d3649738b9dd3",
            "22d9080d18d346b5aa136b21ace0ff7d",
            "89273bdaee3d4dd897bcb4f8e27bc440",
            "339d36ba1b804e1bb652b0330af362f9",
            "056a6a08f04f4be3a47c675d43c6a4d5",
            "5a3e2b1c6c144672983013a53ab59230",
            "6d9fa62aa3684a9a901aa99fa70b58a6",
            "fff6263f903449fdac252346b5c8509b",
            "5485fe2e1fbe45c0a8a12decf66e5401",
            "b5cf2c9535cd4b8fb3fe87fd8f72bc6f",
            "188b43e9d3aa45aa85f24925d677ac05",
            "2ca5085519a34e80bfb77e3d08a0d72a",
            "901016891b15492fb27dde7f441a698b",
            "5f5910f8750642999291b5b1db8f19bd",
            "13c4ecab01754bd18708dc610c1ca301",
            "ff369e18fba74bb5aeb488f8977fe394",
            "018a0578040d463180c92d5a34109941",
            "76dce138f69e43c9b769e71fa269441e",
            "11d3078dd89d4cdda64bc76732eac036",
            "23cbdd78aac047748105dee337f17155",
            "8af64075bd624667b49d3840c2b49043",
            "8c46294779ad4cc586ed9ad40bcc60cd",
            "3a3cc9d777a243f19439adf0ca4628a1",
            "c0a5b7c1580e439283c8fca811e003e6",
            "78f0104df9bb4cafb3bb8e2555619c36",
            "9c5114f7c1c6418383eb4e3cda636962",
            "20fd9826e41f46369dc2a8f53aa4517e",
            "18eac2e932824ae6ae6c8128cbd417f1",
            "616b6fdd74bb46e3a1ec994592dc89be",
            "10d71b61686f49d7943e3a15e66ad425",
            "e66f3de8da4b48678f63d88402e8468e",
            "84df1ab407f04b419761ce0dd31149cb",
            "34036d906feb47a08d5822d57bf07de1",
            "8ec7d827285d4ef7970ff8b14065b3f0",
            "8337bfaf3ed64013aa7c8550c5637f61",
            "fd0247798cc34dba88c376ee48839795",
            "68761c5f4e5e4c7d93ae4c66edc993cb",
            "66da8a47af5a4a59964065b51fb133b2",
            "3858c2517e27400b9a0bb669a63f3f06",
            "bd4636da72524e5e844dd40fdf45f076",
            "de1a92b1966b49519a9b40b6b4989de2",
            "4758af2a87084766b8123f947de2f528",
            "c8c1c19fdb144b10b66a5604657540f9",
            "73fca8fd3f7b4f15bf21b5b355ad6eac",
            "e3cd11671c1e4684b1ee8e6475bbd678",
            "8104eb52cd6248878481e26aff65df97",
            "9fa5cc2309c7423e82b4157d97eea937",
            "470e48b191cd433684aac090aa40bdce",
            "9abfc9638b8a470e8f24153c0a013b0a",
            "3165ec446d7c4edfbe0b4c1e1d725143",
            "8e543da6014f4e2b913e6c657ef3244e",
            "b443f812d1bc4aff9106fef7dcb2d64a",
            "aab07428ca894c89994bf3ad3336ec11",
            "14d04790dd5e4663af83bec83f85c872",
            "628e340970c44cd78fc0bd794757ee32",
            "75e325d7b2f747c290af7a742e9afff8",
            "a81fdc1e77344d09957072e442f88283",
            "c86b87c443224b27801708d80500b884",
            "5b1ae784fb884067ae8a350faf4dd17b",
            "a5d83e373a124456b9b0ffe665e76065",
            "c21250504fb84e959e888483faae71a5",
            "77fa9014e9b94701813430292dcab9cd",
            "98af4343a62a4b3ba50a8971fcf23c8b",
            "51403d00dc1d46069cf994348a491671",
            "d3e57aa04b93437587286fad22a92c90"
          ]
        },
        "id": "vb3FqBKOHfDe",
        "outputId": "72f8e188-5636-4a99-e5e6-aadce6a2ab36"
      },
      "outputs": [
        {
          "output_type": "display_data",
          "data": {
            "text/plain": [
              "Downloading:   0%|          | 0.00/1.12k [00:00<?, ?B/s]"
            ],
            "application/vnd.jupyter.widget-view+json": {
              "version_major": 2,
              "version_minor": 0,
              "model_id": "ec03758ce7f346ce85e6936ea2eba21b"
            }
          },
          "metadata": {}
        },
        {
          "output_type": "display_data",
          "data": {
            "text/plain": [
              "Downloading:   0%|          | 0.00/990M [00:00<?, ?B/s]"
            ],
            "application/vnd.jupyter.widget-view+json": {
              "version_major": 2,
              "version_minor": 0,
              "model_id": "188b43e9d3aa45aa85f24925d677ac05"
            }
          },
          "metadata": {}
        },
        {
          "output_type": "display_data",
          "data": {
            "text/plain": [
              "Downloading:   0%|          | 0.00/2.36k [00:00<?, ?B/s]"
            ],
            "application/vnd.jupyter.widget-view+json": {
              "version_major": 2,
              "version_minor": 0,
              "model_id": "8c46294779ad4cc586ed9ad40bcc60cd"
            }
          },
          "metadata": {}
        },
        {
          "output_type": "display_data",
          "data": {
            "text/plain": [
              "Downloading:   0%|          | 0.00/792k [00:00<?, ?B/s]"
            ],
            "application/vnd.jupyter.widget-view+json": {
              "version_major": 2,
              "version_minor": 0,
              "model_id": "34036d906feb47a08d5822d57bf07de1"
            }
          },
          "metadata": {}
        },
        {
          "output_type": "display_data",
          "data": {
            "text/plain": [
              "Downloading:   0%|          | 0.00/2.42M [00:00<?, ?B/s]"
            ],
            "application/vnd.jupyter.widget-view+json": {
              "version_major": 2,
              "version_minor": 0,
              "model_id": "73fca8fd3f7b4f15bf21b5b355ad6eac"
            }
          },
          "metadata": {}
        },
        {
          "output_type": "display_data",
          "data": {
            "text/plain": [
              "Downloading:   0%|          | 0.00/2.20k [00:00<?, ?B/s]"
            ],
            "application/vnd.jupyter.widget-view+json": {
              "version_major": 2,
              "version_minor": 0,
              "model_id": "628e340970c44cd78fc0bd794757ee32"
            }
          },
          "metadata": {}
        }
      ],
      "source": [
        "import torch\n",
        "from transformers import pipeline\n",
        "\n",
        "summarizer = pipeline(\n",
        "    \"summarization\",\n",
        "    \"pszemraj/long-t5-tglobal-base-16384-book-summary\"\n",
        ")"
      ]
    },
    {
      "cell_type": "code",
      "execution_count": null,
      "metadata": {
        "scrolled": true,
        "colab": {
          "base_uri": "https://localhost:8080/"
        },
        "id": "ogcyIHPhHfDe",
        "outputId": "51f517d6-07ca-4064-8efb-27143289d13d"
      },
      "outputs": [
        {
          "output_type": "stream",
          "name": "stdout",
          "text": [
            "Ten years have passed since the Dudleys found their nephew on his front step. The sun rises and lights up the brass numbers four on the door, which is almost exactly as it had appeared on the night of Mr. Durson's first visit to the house. The photographs on the wall show how much time has passed. Now there are pictures of a young boy riding his bicycle with his father and playing a game with his mother. Harry is still there, sleeping at the moment. His aunt wakes him up and asks him to look after some bacon. He tells her that he wants everything perfect on dudley1s birthday. She says nothing but nothing. Harry gets dressed and goes down the hall to the kitchen. It looks like Dudly had gotten all the new things he wanted for his birthday without saying anything about the racing bike or the second television. In fact, only one thing makes sense to Harry: he doesn1t look any different from Dudle. He wears old clothes because of all those times Dudsley punched him in the nose. He has a thin scar over his forehead that reminds him of lightning. When asked by his aunt how he got this scar, she says that when his parents died, she said not to ask questions.\n"
          ]
        }
      ],
      "source": [
        "result = summarizer(long_text)\n",
        "print(result[0][\"summary_text\"])"
      ]
    },
    {
      "cell_type": "code",
      "execution_count": null,
      "metadata": {
        "colab": {
          "base_uri": "https://localhost:8080/"
        },
        "id": "96I6RenvHfDf",
        "outputId": "51d0b20c-5a94-4f3e-945b-419a29256c19"
      },
      "outputs": [
        {
          "output_type": "stream",
          "name": "stdout",
          "text": [
            "The original long text length: 3734 chars\n",
            "Abstractive summary length: 1169 chars\n"
          ]
        }
      ],
      "source": [
        "print(f'The original long text length: {len(long_text)} chars\\nAbstractive summary length: {len(result[0][\"summary_text\"])} chars')"
      ]
    },
    {
      "cell_type": "markdown",
      "metadata": {
        "id": "eI18nm-hHfDf"
      },
      "source": [
        "#### Summary\n",
        "- Again here we see the fine-tuned T5 model specialised in summarizing long text gives better performance than the base T5 model or the model fined tuned for other domains such as news  \n",
        "- **'No one size fits all.'** in data science we always have to train and fine tune a model to achieve the best possible performnace in a specific domain before \n",
        "Artificial General Intelligence (AGI) is coming, which is another topic to discuss later  \n",
        "- For text summarization, DL-based abstractive summary techniques often achieve SOTA performance instead of traditional extractive summary techniques  \n",
        "- Thus if you are not sure to use which text summarization tool for your specific text data, first try those OOB abstractive summarization models and you have a good chance of obtaining good results with speed and accuracy!"
      ]
    }
  ]
}